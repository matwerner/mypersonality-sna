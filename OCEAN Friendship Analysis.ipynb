{
 "cells": [
  {
   "cell_type": "code",
   "execution_count": 1,
   "metadata": {
    "collapsed": false
   },
   "outputs": [],
   "source": [
    "import numpy as np\n",
    "import pandas as pd\n",
    "from collections import Counter"
   ]
  },
  {
   "cell_type": "code",
   "execution_count": 16,
   "metadata": {
    "collapsed": false
   },
   "outputs": [],
   "source": [
    "diads = pd.read_csv('Datasets\\\\fb_friendship_big5.csv')\n",
    "big_five = pd.read_csv('Datasets\\\\big5.csv')\n",
    "country = pd.read_csv('Datasets\\\\country.csv')\n",
    "demog = pd.read_csv('Datasets\\\\demog.csv')"
   ]
  },
  {
   "cell_type": "code",
   "execution_count": 21,
   "metadata": {
    "collapsed": false
   },
   "outputs": [
    {
     "data": {
      "text/plain": [
       "[('091ec49779511171e5bc913d99c4d9c2', 198),\n",
       " ('22bbdc88118a742d9eecaa2e2dbedf7f', 195),\n",
       " ('dbfc5e2ef62550d037b195327161ef5a', 194),\n",
       " ('a9ecaed81631a3c46f558a9d174cb0d9', 171),\n",
       " ('6a7b26d9e0afbe98dbd8acb39f766676', 164),\n",
       " ('cecad69cc5a907e0fcfb1a3c7bfa6c3d', 162),\n",
       " ('4f18177e20e730697a3546e4a5067f6c', 156),\n",
       " ('0948585f97d99731d9ff3bf32fb9fde3', 143),\n",
       " ('babf7128f662e37fd72839f6d8579722', 133),\n",
       " ('fb5697c3b204aba3a841aed4c6a81757', 133)]"
      ]
     },
     "execution_count": 21,
     "metadata": {},
     "output_type": "execute_result"
    }
   ],
   "source": [
    "user_id = Counter()\n",
    "user_id.update(diads['friend1'].tolist())\n",
    "user_id.update(diads['friend2'].tolist())\n",
    "len(user_id)\n",
    "user_id.most_common(10)"
   ]
  },
  {
   "cell_type": "code",
   "execution_count": 4,
   "metadata": {
    "collapsed": true
   },
   "outputs": [],
   "source": [
    "big_five = big_five[big_five['blocks'] == 20]\n",
    "country = country[country['country'] == 'united states']\n",
    "demog = demog[pd.notnull(demog['gender']) &\n",
    "              pd.notnull(demog['age']) &\n",
    "              pd.notnull(demog['relationship_status'])]"
   ]
  },
  {
   "cell_type": "code",
   "execution_count": 5,
   "metadata": {
    "collapsed": false
   },
   "outputs": [],
   "source": [
    "user_data = pd.merge(left=big_five, right=country, how='inner', on='userid')\n",
    "user_data = pd.merge(left=user_data, right=demog, how='inner', on='userid')\n",
    "user_data = user_data[user_data['userid'].isin(user_id)]\n",
    "\n",
    "del(diads)\n",
    "del(big_five)\n",
    "del(country)\n",
    "del(demog)\n",
    "del(user_id)"
   ]
  },
  {
   "cell_type": "code",
   "execution_count": 25,
   "metadata": {
    "collapsed": false
   },
   "outputs": [
    {
     "data": {
      "text/plain": [
       "249563"
      ]
     },
     "execution_count": 25,
     "metadata": {},
     "output_type": "execute_result"
    }
   ],
   "source": [
    "#demog = demog[demog['userid'].isin(user_id)]\n",
    "len(demog[demog['gender'] == 0])"
   ]
  },
  {
   "cell_type": "code",
   "execution_count": null,
   "metadata": {
    "collapsed": true
   },
   "outputs": [],
   "source": []
  }
 ],
 "metadata": {
  "kernelspec": {
   "display_name": "Python 2",
   "language": "python",
   "name": "python2"
  },
  "language_info": {
   "codemirror_mode": {
    "name": "ipython",
    "version": 2
   },
   "file_extension": ".py",
   "mimetype": "text/x-python",
   "name": "python",
   "nbconvert_exporter": "python",
   "pygments_lexer": "ipython2",
   "version": "2.7.13"
  }
 },
 "nbformat": 4,
 "nbformat_minor": 2
}
