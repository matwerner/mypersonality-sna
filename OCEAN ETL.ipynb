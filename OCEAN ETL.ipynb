{
 "cells": [
  {
   "cell_type": "code",
   "execution_count": 1,
   "metadata": {
    "collapsed": true
   },
   "outputs": [],
   "source": [
    "#importa bibliotecas relevantes\n",
    "import numpy as np\n",
    "import pandas as pd\n",
    "from matplotlib import pyplot as plt\n",
    "%matplotlib inline"
   ]
  },
  {
   "cell_type": "markdown",
   "metadata": {},
   "source": [
    "# Importando e avaliando preliminarmente dados brutos"
   ]
  },
  {
   "cell_type": "code",
   "execution_count": 2,
   "metadata": {
    "collapsed": false
   },
   "outputs": [
    {
     "name": "stderr",
     "output_type": "stream",
     "text": [
      "C:\\Program Files\\Anaconda2\\lib\\site-packages\\IPython\\core\\interactiveshell.py:2717: DtypeWarning: Columns (8) have mixed types. Specify dtype option on import or set low_memory=False.\n",
      "  interactivity=interactivity, compiler=compiler, result=result)\n"
     ]
    }
   ],
   "source": [
    "#importa os dados brutos\n",
    "test_scores = pd.read_csv(\"big5.csv\")\n",
    "demog = pd.read_csv(\"demog.csv\")"
   ]
  },
  {
   "cell_type": "markdown",
   "metadata": {
    "collapsed": false
   },
   "source": [
    "test_scores.head()"
   ]
  },
  {
   "cell_type": "markdown",
   "metadata": {
    "collapsed": false
   },
   "source": [
    "test_scores.describe().transpose()"
   ]
  },
  {
   "cell_type": "markdown",
   "metadata": {
    "collapsed": false
   },
   "source": [
    "test_scores[\"blocks\"].value_counts().head()"
   ]
  },
  {
   "cell_type": "markdown",
   "metadata": {
    "collapsed": false
   },
   "source": [
    "demog.head()"
   ]
  },
  {
   "cell_type": "markdown",
   "metadata": {
    "collapsed": false
   },
   "source": [
    "demog.describe().transpose()"
   ]
  },
  {
   "cell_type": "markdown",
   "metadata": {
    "collapsed": false
   },
   "source": [
    "demog[\"locale\"].value_counts().head(10)"
   ]
  },
  {
   "cell_type": "markdown",
   "metadata": {
    "collapsed": false
   },
   "source": [
    "demog[\"gender\"].value_counts().head() # 1 = female /\\ 0 = male"
   ]
  },
  {
   "cell_type": "code",
   "execution_count": 3,
   "metadata": {
    "collapsed": true
   },
   "outputs": [],
   "source": [
    "#faz a união das colunas da tabela usando chaveamento pelos userid\n",
    "data = pd.merge(test_scores, demog, how=\"inner\", on=[\"userid\"])"
   ]
  },
  {
   "cell_type": "code",
   "execution_count": 4,
   "metadata": {
    "collapsed": true
   },
   "outputs": [],
   "source": [
    "#libera memória\n",
    "del(test_scores)\n",
    "del(demog)"
   ]
  },
  {
   "cell_type": "code",
   "execution_count": 5,
   "metadata": {
    "collapsed": false
   },
   "outputs": [
    {
     "name": "stdout",
     "output_type": "stream",
     "text": [
      "(1263653, 23)\n"
     ]
    }
   ],
   "source": [
    "#fitrar data pelos critérios selecionados\n",
    "a = (data[\"blocks\"]== 20.)\n",
    "b = (data[\"locale\"]== \"en_US\")\n",
    "#c = (data[\"relationship_status\"].notnull())\n",
    "#d = (data[\"interested_in\"].notnull())\n",
    "\n",
    "data_filtered = data[a & b]\n",
    "print data_filtered.shape"
   ]
  },
  {
   "cell_type": "code",
   "execution_count": 6,
   "metadata": {
    "collapsed": false
   },
   "outputs": [
    {
     "name": "stdout",
     "output_type": "stream",
     "text": [
      "(1263653, 23)\n"
     ]
    }
   ],
   "source": [
    "#libera a memória e confere tamanho dos dados filtrados\n",
    "del(data)\n",
    "print data_filtered.shape"
   ]
  },
  {
   "cell_type": "markdown",
   "metadata": {},
   "source": [
    "# Importando as amizades"
   ]
  },
  {
   "cell_type": "code",
   "execution_count": 7,
   "metadata": {
    "collapsed": false,
    "scrolled": false
   },
   "outputs": [
    {
     "name": "stdout",
     "output_type": "stream",
     "text": [
      "Wall time: 4.48 s\n",
      "(2472, 2)\n",
      "Wall time: 4.53 s\n",
      "(6196, 2)\n",
      "Wall time: 5.54 s\n",
      "(9156, 2)\n",
      "Wall time: 5.73 s\n",
      "(13734, 2)\n",
      "Wall time: 6.32 s\n",
      "(16791, 2)\n",
      "Wall time: 5.62 s\n",
      "(20303, 2)\n",
      "Wall time: 5.55 s\n",
      "(23219, 2)\n",
      "Wall time: 5.91 s\n",
      "(26096, 2)\n",
      "Wall time: 5.56 s\n",
      "(30406, 2)\n",
      "Wall time: 5.52 s\n",
      "(35390, 2)\n",
      "Wall time: 5.58 s\n",
      "(40431, 2)\n",
      "Wall time: 5.59 s\n",
      "(45058, 2)\n",
      "Wall time: 5.53 s\n",
      "(50005, 2)\n",
      "Wall time: 5.58 s\n",
      "(54966, 2)\n",
      "Wall time: 5.53 s\n",
      "(59861, 2)\n",
      "Wall time: 5.53 s\n",
      "(64793, 2)\n",
      "Wall time: 5.59 s\n",
      "(69941, 2)\n",
      "Wall time: 5.44 s\n",
      "(74578, 2)\n",
      "Wall time: 5.85 s\n",
      "(101578, 2)\n",
      "Wall time: 6.04 s\n",
      "(132964, 2)\n",
      "Wall time: 6.55 s\n",
      "(161132, 2)\n",
      "Wall time: 6.49 s\n",
      "(177954, 2)\n",
      "Wall time: 3.49 s\n",
      "(181509, 2)\n"
     ]
    }
   ],
   "source": [
    "#filtra a tabela bruta de aizades\n",
    "i_count = 1\n",
    "chunksize = 10 ** 7\n",
    "col = data_filtered[\"userid\"]\n",
    "for chunk in pd.read_csv(\"fb_friendship.csv\", chunksize=chunksize):\n",
    "    %time temp = chunk[chunk[\"friend1\"].isin(col) & chunk[\"friend2\"].isin(col)]\n",
    "    if i_count == 1:\n",
    "        friends_filter = temp\n",
    "        \n",
    "    else:\n",
    "        friends_filter2 = friends_filter\n",
    "        friends_filter = pd.concat([friends_filter2, temp], ignore_index=True)\n",
    "        del(temp)\n",
    "        del(friends_filter2)\n",
    "        #friends_filter.append(temp, ignore_index = True)\n",
    "    print friends_filter.shape\n",
    "    i_count +=1\n",
    "    if i_count > 50:\n",
    "        break"
   ]
  },
  {
   "cell_type": "code",
   "execution_count": 8,
   "metadata": {
    "collapsed": true
   },
   "outputs": [],
   "source": [
    "#salva a lista de amizades que está contida no tabelão\n",
    "friends_filter.to_csv(\"fb_friendship_filtered.csv\")"
   ]
  },
  {
   "cell_type": "code",
   "execution_count": 9,
   "metadata": {
    "collapsed": true
   },
   "outputs": [],
   "source": [
    "#salva tabelão de dados das pessoas filtradas\n",
    "data_filtered.to_csv(\"data_filtered.csv\")"
   ]
  },
  {
   "cell_type": "markdown",
   "metadata": {},
   "source": [
    "# Buscando grupos de amizades fortemente conectados"
   ]
  },
  {
   "cell_type": "code",
   "execution_count": 10,
   "metadata": {
    "collapsed": true
   },
   "outputs": [],
   "source": [
    "#importa biblioteca de grafos\n",
    "import networkx as nx\n",
    "\n",
    "G=nx.Graph()"
   ]
  },
  {
   "cell_type": "code",
   "execution_count": 11,
   "metadata": {
    "collapsed": true
   },
   "outputs": [],
   "source": [
    "#constrói grafo não-direcional com os relacionamentos\n",
    "G.add_edges_from(friends_filter.as_matrix())"
   ]
  },
  {
   "cell_type": "markdown",
   "metadata": {
    "collapsed": false
   },
   "source": [
    "import matplotlib.pyplot as plt\n",
    "nx.draw(G)\n",
    "plt.draw()"
   ]
  },
  {
   "cell_type": "code",
   "execution_count": 30,
   "metadata": {
    "collapsed": false
   },
   "outputs": [],
   "source": [
    "#inicia iterador para busca de grupos conexos (cliques)\n",
    "cliques = nx.algorithms.clique.find_cliques(G)"
   ]
  },
  {
   "cell_type": "code",
   "execution_count": 32,
   "metadata": {
    "collapsed": false,
    "scrolled": true
   },
   "outputs": [
    {
     "name": "stdout",
     "output_type": "stream",
     "text": [
      "['9cad325e942c4ef5787a51062e588baf', '8eb484c0349576cee956ef6f39da0634', 'b9eee8fa977079980d5207de313c53fa', '5dbc09e8a5d46e68a46cb5c0c58e68ae', 'ec5c57b19ce32020306b32cf2b41900c']\n",
      "['b6df429d3ff948c1d54e96eaacc3bdeb', '75e4ba99059318006eb81fb298e889a6', 'de6afb1d10810f39dc7b64cd6379680e', '9f0d17ed36ba3cf68c9e6c4f1c476929', '6893d648138ccefc0c4d6986ab77df0a']\n",
      "['28ec4f00ebc0c6421570f25453941dc9', '7403fa6c304f56422cd522b8ef5416a6', 'a4f82a97601a605e16f3dd76ad28e737', '5d6d93cabf9580a473a6b4042fd579f9', '296f90d7729d0c05adf1a6d39776981d', 'e85d49629d8f6853320fd1c6b17a94df']\n",
      "['360918937b7f609ed580bd6e5ef6859d', '89960109f19bdc9fc011cab98c36fbcd', 'fc631b8752e5b925c460d30032046f2e', 'afc2a461d2cbb41dbfa9c7aedfdbe7d7', 'c85c5ea26df1e844391a60f5d4af03f6']\n",
      "['360918937b7f609ed580bd6e5ef6859d', '89960109f19bdc9fc011cab98c36fbcd', 'fc631b8752e5b925c460d30032046f2e', 'afc2a461d2cbb41dbfa9c7aedfdbe7d7', '03aa2f4defa7561d790b53125ce261e3']\n",
      "['6b3842727cc2aea67ed5d3300fc4a942', '60eeab60795db3b564c310746145b0a7', '1315e9a3cb88c3efac8829be05cc15a0', '73caa8869183ec896be456fecda3b6dd', '240698eef1446ff78516ad7ce56d8046']\n",
      "['7c4e45bbd1fe19114bd48795a676590a', '4686de250b3d8e8da2d199ec43dc55c3', '20c214e7596f1269cfd2d9d187391282', '77f6a64e812520faa737ee2b4912a190', '1cf229413b78b7b4563e922276e4782b']\n",
      "['b7128ef2d72caf4c5a9435f114017407', '8386cdf096304d9b4426b4358164a869', '6104cc46ddf1acc609bbf4e8a9bf470a', '31bc8dfc6ae3c8be21038e0c287254b7', '9332bbf54633760e78bd688b07421d3e']\n",
      "['a06e815eb7b5c3d9880645d7a8e492bf', '157a7caa819f596cd4e30c3db8d00d58', '8a22ab965d9e2aab5b122c2ac76b4b74', '18f56e0a1a057ca5b68c6038cd789550', '7b192a9a72d7ecacfc577be88970319d', '7402fd98e3119123abfbedbafec54fc0']\n",
      "['866a9f634aa1fa8e1ef5cbb91d5c751a', '5dde7b96adc66e13000da499038cef21', '4aa616566f19af590128e7d426f7af28', '6ff312475689738bb3561ab5992f91e4', '7c315f4808dc099712281e390e1bd3d3']\n",
      "['201c6cd115df4d78601577b677b5565c', 'c5ddf77102061876f5ca28d1c3d0cbfc', 'ae6f44ffe16ca232af553ca9c1346da4', '2d49165e1c348fb3419eb091144dff72', 'a5d32db17d106c8f5ee25e858fa815c5']\n",
      "['201c6cd115df4d78601577b677b5565c', 'c5ddf77102061876f5ca28d1c3d0cbfc', '5b3ba71716d8c605c0b538e2269173eb', '2d49165e1c348fb3419eb091144dff72', 'a5d32db17d106c8f5ee25e858fa815c5']\n",
      "['201c6cd115df4d78601577b677b5565c', 'c5ddf77102061876f5ca28d1c3d0cbfc', '5b3ba71716d8c605c0b538e2269173eb', 'fa300a48bf4fe26c3dfba9b00126087f', 'dfbfc587652415fb9e229db2bd0c3842']\n",
      "['2564b372a5b3f107c6ba30de788f1b4f', 'abf078ca57e8fe12b707b9d9fb9063c1', '79b56d90717bbe8ee751574fa20e9b3b', '73e820f9c4234afb0f6573f020ef95cf', 'd8b18fa706b512695440c2affb2a53a5']\n",
      "['a110d368088d221e5a12c7a2bd9c0ef0', 'df93dcf9613f4ca47816399e7f8daae3', '97473648ec39b4b0900b574dc2f247ba', 'f60bfb5ee58c206ba0e537f1ce904146', '84f284b0a3d46e58f288d0b688541619']\n",
      "['a110d368088d221e5a12c7a2bd9c0ef0', '1ea6cfabc833ddc9f95a46c3f133b20e', '670f61086012c44da1e66f7c57ede8d9', '09dfc2abc5686eb6190e86f75322f654', '2535494f7e93ea755729c8426a71c7d3']\n",
      "['1a28da1fbfa8d17a090e5236a43c9ebe', '33aa06954b9e1b44a6761ef467f0e1b4', 'e0d346c80435144865d305e0304289b4', '9f2ab2066595afc6996e33dcaba2f65b', 'd6f32b54bde703450f9ac10ed63561bf']\n",
      "['fc58dcad5a41a3f1b5d1ba487e1bd626', '55893cd2ec30136827deae9bcf11d990', 'a022ec0d4f0deabd3f50485690f03e6a', 'd8dc45c32645795140123a48a5be4e2a', 'd94c8a7f0312882dc1425d8332ff91d9', '995ac64cb738b319b5d244dbecfcefb9', 'ee74adc922af2ddc22af6ea8265a4ff7', '849182ff635f5d50ad499358f0d2f753']\n",
      "['fc58dcad5a41a3f1b5d1ba487e1bd626', '55893cd2ec30136827deae9bcf11d990', 'a022ec0d4f0deabd3f50485690f03e6a', 'd8dc45c32645795140123a48a5be4e2a', 'd94c8a7f0312882dc1425d8332ff91d9', '995ac64cb738b319b5d244dbecfcefb9', 'ee74adc922af2ddc22af6ea8265a4ff7', 'a1072d1a328a1d30a1f77cbb7b9b593b']\n",
      "['fc58dcad5a41a3f1b5d1ba487e1bd626', '55893cd2ec30136827deae9bcf11d990', 'a022ec0d4f0deabd3f50485690f03e6a', 'd8dc45c32645795140123a48a5be4e2a', 'd94c8a7f0312882dc1425d8332ff91d9', '995ac64cb738b319b5d244dbecfcefb9', 'ee74adc922af2ddc22af6ea8265a4ff7', '1d4a8334999fc68e13cff830a3e3ea36']\n",
      "['fc58dcad5a41a3f1b5d1ba487e1bd626', '55893cd2ec30136827deae9bcf11d990', 'a022ec0d4f0deabd3f50485690f03e6a', 'd8dc45c32645795140123a48a5be4e2a', 'd94c8a7f0312882dc1425d8332ff91d9', '995ac64cb738b319b5d244dbecfcefb9', 'ee74adc922af2ddc22af6ea8265a4ff7', '4e3559d69d07000d57e571e2251e6d69']\n",
      "['fc58dcad5a41a3f1b5d1ba487e1bd626', '55893cd2ec30136827deae9bcf11d990', 'a022ec0d4f0deabd3f50485690f03e6a', 'd8dc45c32645795140123a48a5be4e2a', 'd94c8a7f0312882dc1425d8332ff91d9', '995ac64cb738b319b5d244dbecfcefb9', 'abd6d3df6b76ce4f47f6ef8037470d31', 'a1072d1a328a1d30a1f77cbb7b9b593b']\n",
      "['fc58dcad5a41a3f1b5d1ba487e1bd626', '55893cd2ec30136827deae9bcf11d990', 'a022ec0d4f0deabd3f50485690f03e6a', 'd8dc45c32645795140123a48a5be4e2a', 'd94c8a7f0312882dc1425d8332ff91d9', '995ac64cb738b319b5d244dbecfcefb9', 'abd6d3df6b76ce4f47f6ef8037470d31', '1d4a8334999fc68e13cff830a3e3ea36']\n",
      "['fc58dcad5a41a3f1b5d1ba487e1bd626', '55893cd2ec30136827deae9bcf11d990', 'a022ec0d4f0deabd3f50485690f03e6a', 'd8dc45c32645795140123a48a5be4e2a', 'd94c8a7f0312882dc1425d8332ff91d9', '995ac64cb738b319b5d244dbecfcefb9', 'abd6d3df6b76ce4f47f6ef8037470d31', '4e3559d69d07000d57e571e2251e6d69']\n",
      "['fc58dcad5a41a3f1b5d1ba487e1bd626', '55893cd2ec30136827deae9bcf11d990', 'a022ec0d4f0deabd3f50485690f03e6a', 'd8dc45c32645795140123a48a5be4e2a', 'd94c8a7f0312882dc1425d8332ff91d9', '995ac64cb738b319b5d244dbecfcefb9', '31c2161426923bfd41b1cb31bc25f5e5']\n",
      "['fc58dcad5a41a3f1b5d1ba487e1bd626', '55893cd2ec30136827deae9bcf11d990', 'a022ec0d4f0deabd3f50485690f03e6a', 'd8dc45c32645795140123a48a5be4e2a', 'd94c8a7f0312882dc1425d8332ff91d9', '7a9f8a8d56153f3433d41df3d1421d76', 'abd6d3df6b76ce4f47f6ef8037470d31']\n",
      "['fc58dcad5a41a3f1b5d1ba487e1bd626', '55893cd2ec30136827deae9bcf11d990', 'a022ec0d4f0deabd3f50485690f03e6a', 'd8dc45c32645795140123a48a5be4e2a', 'd94c8a7f0312882dc1425d8332ff91d9', '341825722527b66c83d7895c1680a852', 'abd6d3df6b76ce4f47f6ef8037470d31', 'a1072d1a328a1d30a1f77cbb7b9b593b']\n",
      "['fc58dcad5a41a3f1b5d1ba487e1bd626', '55893cd2ec30136827deae9bcf11d990', 'a022ec0d4f0deabd3f50485690f03e6a', 'd8dc45c32645795140123a48a5be4e2a', 'd94c8a7f0312882dc1425d8332ff91d9', '341825722527b66c83d7895c1680a852', 'abd6d3df6b76ce4f47f6ef8037470d31', '4e3559d69d07000d57e571e2251e6d69']\n",
      "['fc58dcad5a41a3f1b5d1ba487e1bd626', '55893cd2ec30136827deae9bcf11d990', '03849006074975c70462d4e43da44701', 'd8dc45c32645795140123a48a5be4e2a', 'd94c8a7f0312882dc1425d8332ff91d9', '995ac64cb738b319b5d244dbecfcefb9', 'ee74adc922af2ddc22af6ea8265a4ff7', 'a1072d1a328a1d30a1f77cbb7b9b593b']\n",
      "['fc58dcad5a41a3f1b5d1ba487e1bd626', '55893cd2ec30136827deae9bcf11d990', '03849006074975c70462d4e43da44701', 'd8dc45c32645795140123a48a5be4e2a', 'd94c8a7f0312882dc1425d8332ff91d9', '995ac64cb738b319b5d244dbecfcefb9', 'ee74adc922af2ddc22af6ea8265a4ff7', '1d4a8334999fc68e13cff830a3e3ea36']\n",
      "['fc58dcad5a41a3f1b5d1ba487e1bd626', '55893cd2ec30136827deae9bcf11d990', '03849006074975c70462d4e43da44701', 'd8dc45c32645795140123a48a5be4e2a', 'd94c8a7f0312882dc1425d8332ff91d9', '995ac64cb738b319b5d244dbecfcefb9', 'ee74adc922af2ddc22af6ea8265a4ff7', '4e3559d69d07000d57e571e2251e6d69']\n",
      "['fc58dcad5a41a3f1b5d1ba487e1bd626', '55893cd2ec30136827deae9bcf11d990', '03849006074975c70462d4e43da44701', 'd8dc45c32645795140123a48a5be4e2a', 'd94c8a7f0312882dc1425d8332ff91d9', '995ac64cb738b319b5d244dbecfcefb9', '31c2161426923bfd41b1cb31bc25f5e5']\n",
      "['fc58dcad5a41a3f1b5d1ba487e1bd626', '55893cd2ec30136827deae9bcf11d990', '03849006074975c70462d4e43da44701', 'd8dc45c32645795140123a48a5be4e2a', 'd94c8a7f0312882dc1425d8332ff91d9', '7a9f8a8d56153f3433d41df3d1421d76']\n",
      "['fc58dcad5a41a3f1b5d1ba487e1bd626', '55893cd2ec30136827deae9bcf11d990', '03849006074975c70462d4e43da44701', 'd8dc45c32645795140123a48a5be4e2a', 'd94c8a7f0312882dc1425d8332ff91d9', '341825722527b66c83d7895c1680a852', 'a1072d1a328a1d30a1f77cbb7b9b593b']\n",
      "['fc58dcad5a41a3f1b5d1ba487e1bd626', '55893cd2ec30136827deae9bcf11d990', '03849006074975c70462d4e43da44701', 'd8dc45c32645795140123a48a5be4e2a', 'd94c8a7f0312882dc1425d8332ff91d9', '341825722527b66c83d7895c1680a852', '4e3559d69d07000d57e571e2251e6d69']\n",
      "['2c1e1048ac5dc70260a76cf9972c5513', '51e6fdf28cc0e059663ecbbeb79d7590', '712bd5966fcf58f2b4dfc228dd7f797e', '8750f1ec1a9522334820d8f177f343f0', '9148c84eb97282eb0a802b01da6fe9c6']\n",
      "['95cd399c658e0d30d89696d52b8a746a', 'cbae811b0af5b51c0836fd0f87f85644', '93227e72812a6c7daea34f675155918a', '9ab5f320bb397c38aeb87ccb1f9b3f5c', '588db57ce9fc8d6f87e3361fe3f40080']\n",
      "['95cd399c658e0d30d89696d52b8a746a', 'cbae811b0af5b51c0836fd0f87f85644', '93227e72812a6c7daea34f675155918a', '9ab5f320bb397c38aeb87ccb1f9b3f5c', '53ecd68ab5dfb415f569a2267c64e930']\n",
      "['d3dbd367f9bd36fb56fdaa1008da4a6e', 'a191073ad7d4ddb8e86af0caf6a3cb43', '4c6523f034a4d1bb5a3a8a10199ccddf', '9c614ff7aa577d2e9cfd201d3ca1837c', '91967c62ac4c51472551d746bc65287b']\n",
      "['d3dbd367f9bd36fb56fdaa1008da4a6e', 'a191073ad7d4ddb8e86af0caf6a3cb43', '4c6523f034a4d1bb5a3a8a10199ccddf', '9c614ff7aa577d2e9cfd201d3ca1837c', '74b06d6bdf694ecb4558d6343a26d046', '8ed364136089c67b1f1b98a705d37581']\n",
      "['30223418c9efcf6e353eb82965609630', 'f20be4f70fb981c812d05992aa6502f6', 'e9ad46a4a335fc4fe8b799c84b282168', '9fc8f6d41dd6d9cfb5a684ba8a2d9d42', 'bd4d33ddb05f6a0dbd390542a4e01ccc']\n",
      "['4bc938db1a1308045330fdd4f90c31e5', '077649e141b56ddf09fc9731d8d7969d', '544056a23557435497c08d5858edbc1f', 'e859bedaa34abf4205ef2646cb671ba6', '450d8f16d8415d33758adcc340ef69b8']\n",
      "['636c3b51af6b0173589b4fc046669485', '4af641737c2cb93789f87ee88774180a', '407eb1fbdc199f3eb81553580c62c6c1', 'ee18ffbbd9379392bc842838ab46e2f0', '2e2a9b1dd7d5e73428ce48a2e35422d4']\n",
      "['ba45fb8b2ab8bed786318e451dd9720a', '8bff5f5a979bd350f172aaa20018889f', 'e876febab8a029a4216402c56ebb35de', 'e68c1dd92a9b1922f321dfccc9ebb3ee', 'e1c0370fc90580c864b9efe4e1262ab1']\n",
      "['ba45fb8b2ab8bed786318e451dd9720a', '8bff5f5a979bd350f172aaa20018889f', 'ee38e74a6f5c5a10cc7b2eebf02aca83', 'e68c1dd92a9b1922f321dfccc9ebb3ee', 'e1c0370fc90580c864b9efe4e1262ab1']\n",
      "['43515e7cc5bba32853b77894c07a9e01', '8861714859888ff2916b779dcf090447', '3ed4129e55627d4dfebeeb090c80ce71', '12fe6262730f4a80df626fc4341e2bc1', 'a2b0fd59f5d4769daf9b2d019a4db3cb']\n",
      "['83d00691a33c8387794fa982b7b2fc02', '47b88472b3ce455fb578365d6dfba292', '9749deb05624d4e869a08f3f52407503', '6c2c68a9753907d5217aaeb1725d7970', '1f117908f151e803f3df9371e10c6810']\n",
      "['5d352616e25a82f43fe8cb89eada390e', 'b201b8997d8645842630039df62fa2c6', '8dad8dc1e00ec796c5a99590e0f5b8ed', '78d97c88a57d0ba574edfcdb41230e30', '6c744dccb26d2875d1a928cb9061bfa9', '77a8b1d7db4df2fa5f7c8b9dfbbd0b16']\n",
      "['42e561f2f7df422c2e43d5810ade5246', 'a287441459d0149ba42fb0576b76ffe3', '11c51b432c522a17bd56fe895638c0c0', 'fd5dd69403ee915d06cbb471b13e7bbd', '0cebb8755f2f9f70c12608e53a8b2891']\n",
      "['0dfb397e34022dd87baea47ff331aeea', '92527291ff0d6e0883e4dc492a6ebe20', 'd58f38309ee5ded40b6b5e24b1866c03', 'c94f3318cb5d617a3d9882c739639045', 'c0fb356f3095f09390f9e0624d1410bb']\n",
      "['259d7a7907bcc08730cbaffd1441865e', '054adfc31fec60913be5c3679b9b9e2f', '74cbdbfa5533ca41b4e54d74fe0cf912', 'b6df7ce07db8cbd92fbbc9602aa80197', '82832ac9c918be41488e19bc174f5384']\n",
      "['06d59e318e019c4bdbd72b29c9a8824e', '120e7a07b48de671f3cfe1fbcc997ccf', '9b48b744533e55f79a9c87b609a36cd3', 'dea5157f7a13f6519521d36eed32f4ae', '54c0549c5ee6a527eaeed5199f0af1ca']\n",
      "['31147d9917bcd5b5430aef06c1279c46', '1793beea54eb58cb609f1d6f4058e6ef', '8c38ef3de5c9cc2fad2a28fc10af0f09', '21fab957b7542db0b0fe32b11ffa434e', 'a3c78c48fb69fa6d5785935a8ef1e934']\n",
      "['31147d9917bcd5b5430aef06c1279c46', '1793beea54eb58cb609f1d6f4058e6ef', 'c8c45de18199856662ea3492e1a67701', '21fab957b7542db0b0fe32b11ffa434e', 'a3c78c48fb69fa6d5785935a8ef1e934']\n",
      "['56aa204f1e8c458ee227bcb3f6b60842', 'ec09616d218ceba4df99e4f12068fbd4', 'b032b2a82046e5824cb6d5536d92b6d1', 'a3158076d29c9e717fff1662110fa42f', 'fee5cea67ce69f9e7b10f78340b9fbee']\n",
      "['6925c958555d9b8e154a244e97ca943a', '33ba037adc60ac983b31d03649803840', 'e47fd2a2fe62954c2b7b8245261e90da', '1ebb34c586775cc8cd0116dd93e09aa4', '135c17a6efd6f7ce278b50917be22da8']\n",
      "['d8b236e14d56806865598c3f464bf5d7', 'e0b50b029a88f42a712dd1b3a395ba95', 'fa0862d2c7f361430d47c888678e3b94', '6286c6d0fa49a9cb8a8b600d1374de89', '8e5353d792932b6786f121e00cd60513']\n",
      "['3aa97cb2e2f27db89f287d1b0c850aca', 'e298783f5f1ff2dd42b696a410aa020a', 'db6d71f401f5a48f72895b15c27c4189', 'a7d0368db045ed0c27e9f3f4a06c71a0', '1050382ae5c9a874bb9f756412005b80']\n",
      "['3aa97cb2e2f27db89f287d1b0c850aca', 'e298783f5f1ff2dd42b696a410aa020a', 'db6d71f401f5a48f72895b15c27c4189', 'a7d0368db045ed0c27e9f3f4a06c71a0', '8ba4ac110f4c631a5d396796d6a06d19']\n",
      "['3aa97cb2e2f27db89f287d1b0c850aca', 'e298783f5f1ff2dd42b696a410aa020a', 'db6d71f401f5a48f72895b15c27c4189', '76ecf947f3b0f1645ac5604acc325c19', '8ba4ac110f4c631a5d396796d6a06d19']\n",
      "['4919d9ff3379a8b5f6f92b92f0d7ef89', '6af7ed68fac9ad3af75c8b2a65f832a2', 'bfe7b04f7805af0e61306d08130de305', 'fd39778b712e97786fee22a412f6c8f5', '690f597b8c909341fa0046e16d85e737']\n",
      "['c5c4f462d2ba98d78b4649be581ef9f9', '6ad320b470b25ad2b47fea877cee8617', '4318e43ea7173d98fdead292f1ce232d', 'ba4dacd48a08d36325005694046cb8b3', 'ed121f541e94b715f7d77e3c6fb84902']\n",
      "['024954390abb6e57e845e97e47f439a8', '786696e1300db5e076765c59454250c5', '9de4e44d6a02e59e4368719aa2f665ff', '5fffc56a2a17c4dccc25e25751a16ba0', '1cc2b73138aded9dc6741aa29ad761e4']\n",
      "['646fec53d64fecfc1ce25b2ca9a34309', '459aa64640ed1cb8b7873a499c4c58fb', 'a18279af13ee92bd0dc9d0ff384a8170', '635a9d74460641aa9b0ee17cacca7888', '29b38d0390ce3ec279e047267e62b151']\n",
      "['646fec53d64fecfc1ce25b2ca9a34309', '459aa64640ed1cb8b7873a499c4c58fb', '1851f182f5977fb1054d2f6036c215d2', '635a9d74460641aa9b0ee17cacca7888', '29b38d0390ce3ec279e047267e62b151']\n",
      "['70ea67bca51d5c66769560f5e72b92cd', 'd3527f9e6690cc879f270d482b8dc848', '56d2179d10121844dcfd5b6fa68ee622', 'b7ea490a032b27e5256625651b29862d', '2d55e0cd917bbcb54670f0530d059c57', '1bb4c345293014dc4fdbbd637e4a4735']\n",
      "['35c5beb126473fba13dcee138dc8051b', '2f9b3f83e6552f4e06195ded9ae97cfd', '7b65418024cf6284721c0a7b7d58aa8f', '6659b20ab9f4d3e9dce6e87cd37740a6', 'b302a9852c16d31cd1974a85a66ca3c4']\n",
      "['f1ae9b34740da4195fbdb5b49276dfcf', '5ec9af2cb4e3bb636ce5cd5ab045acf2', 'e3231542b8fb816a775c875f41543414', '4f26bdfdb3d374b63a361c7d67ca3285', '7816bd59b03b60543fc3a29f9e1f70c1']\n",
      "['6c32d2ab256b532ce7c9e6fd3d21b1d6', '3b1427aa251e633f0434d763bd58131f', '2f96cf09e525d711c43e53fce70799c0', 'de7c765ada58c9d7601e27f1aabe56a2', '62401c9d26e8351d2572e3c50668da4b']\n",
      "['386f1ae6e51c30d964a137e1966a8714', '27f4960ad98c53219ae6e31d63741a6f', '20750df7a6cd3a5fa5ff68dea2296190', '5983970c7530db4fc40ac10022a80734', '5b591aaf9e629616443b5008dedab8d6']\n",
      "['2c87c6d46449fad1f9c3605b583ed549', '77d04a4e81cc0e60afbdaa4e83e57104', '3663ca001ed1a32c9f405d426d754366', 'c4ddf42906f0db370a8cb4bc4cf4b741', 'a2087e91f767a40f0176fa6b4eed2b2a', '547d2bc18b43546c7d335c3805a0763d']\n",
      "['8746c14c3c3a559318e39cab19376528', '98d6f3eae358d1903bfca6d76e6d49fb', 'a8b9651b05a8e06b91c8c0eceb35c23c', '1489525f1e445772ec00f11228f96d97', '4bd62ae81ea7972fd12b08af2e84f378']\n",
      "['8746c14c3c3a559318e39cab19376528', '98d6f3eae358d1903bfca6d76e6d49fb', '6deea80484a99588d632fc110a1d62f4', '71ef2337b4778d885227ca067eea848e', '59c345839415851a0f4901ad6b1dffc1']\n",
      "['8746c14c3c3a559318e39cab19376528', '906b91c72b21f961f6f52a816371ce5c', 'a8b9651b05a8e06b91c8c0eceb35c23c', '1489525f1e445772ec00f11228f96d97', '4bd62ae81ea7972fd12b08af2e84f378', '6fd94b333ffbce5a3588f1c36c8d4701']\n",
      "['8746c14c3c3a559318e39cab19376528', 'ed60f3575a99ad4d569e3129051aec9f', '6deea80484a99588d632fc110a1d62f4', '77457a840715a1188475f43cf80de76f', '1d2ea70997a39f5858284f9c9dd622bd']\n",
      "['d11d8461ad98e95301c467e44b015dc7', 'ce1759280608ec6ae4dd3574b146532f', '4eaf3972aff719d6d61620c183361f9e', '21d02613b3694f76ef16a8d9df206288', '9320ed700e34f11494706acadae626f6']\n",
      "['525025dd6c18b5fce6a812fbb9efddd2', 'aef530809a37ac06ae0b7a01b3112e70', '99dc35a0ac21a775f8be600ee3a233d1', '501453b9c6287aad107cc2e2d5e82a71', 'c2f55d3b22d7b06f6f0581e60b26f68f']\n",
      "['525025dd6c18b5fce6a812fbb9efddd2', 'aef530809a37ac06ae0b7a01b3112e70', '99dc35a0ac21a775f8be600ee3a233d1', '501453b9c6287aad107cc2e2d5e82a71', 'fdcc69bd24f779cb5defbe3894eb46cf']\n",
      "['2a35e50fe1eb72048f95f2c6ea49be0a', '387d25dab6f49efc9c53f235a2dc4e3a', 'f5edfaa7bb3d25c44a2293c7d065bba3', 'f801f8c7e836a66310ea88cef71a66d7', 'a798e7b493a02b6d194225e4a55df4b3']\n",
      "['7deae0e07aec76c4178a999de29e4d20', 'e8e355fef0c1033ab47c1596f2dc3f51', '51a3d5f7e32de9301464ea08af7ef36c', '88eb7ae96713a0bbb09ada9394e873e5', '208798e5c41d99ec52a8568e24a7c9cf']\n",
      "['619c53ea7e7b3e58b0defd5fc289c586', '9d132f5b7d0e3b99d63c588b839e1dc5', '3a4ddb22091f95fc1df75c08a972478c', '497c325e560e2cbfe3e7e8500268eae0', 'afaef02a192af21d8fe85b44f1f5e50c']\n",
      "['3ae9a84587083aa4f80de970591d9086', 'd35928adaf5053db58b1ae9f01fb4e56', '1eab3365e400b2bad01ddf617cc10996', 'e945d9badf7f1c10baaaa470a318bbad', '4d79819f5be6eb91bccc5c4fcfa888ce']\n",
      "['adc29d0ee52a41281e156b43a59d550f', '1aeedeec165bd63f5cc7333b4ab02656', '02af960b2f04cd43049599162f9877d0', '167c40cc27f9341830bab83f6e0afe0b', '227456d51e62f7bbd400b72b8b762385', '2584bfeb8da0cb319a4ad697c8be545b', '573661d266eba657b1bae5612d47c435']\n",
      "['695ef580ce1e6d17eeab7ab24984d430', '0212646c1c1c438ccc4cdd60c8231859', '392b45454b5464c1c1380fe031ef84e8', '9b9fe0bfa2db90878e78cff1e5c1c2b1', 'c6b193cd18255d26f542b8e73571c133']\n",
      "['695ef580ce1e6d17eeab7ab24984d430', '0212646c1c1c438ccc4cdd60c8231859', '392b45454b5464c1c1380fe031ef84e8', 'ec578d2a714a8d0418ff3ffc8e2aebfd', 'a9d7eb59830f157f6fb26422f854a3d7']\n",
      "['695ef580ce1e6d17eeab7ab24984d430', '0212646c1c1c438ccc4cdd60c8231859', '392b45454b5464c1c1380fe031ef84e8', 'ec578d2a714a8d0418ff3ffc8e2aebfd', 'c6b193cd18255d26f542b8e73571c133']\n",
      "['2cb96304f0020ea6104bd6e8f8736b3a', '9ef5c7cab48aeeb589499f5d08943cf0', '9bd0e9a0e47d21651c577b79bddc1b9d', '5e5ab36591c6ef0c382e200b2f2cbb9d', '35b80e0391a66564b6d44c3d21647745']\n",
      "['24a83750bfcbfe775b99c7111a872635', 'ea6a3805d4fc95861d39f1dad76314be', 'deb85ad3dcebd2a2b37891f8f56f3dd7', 'cad598d2a16a5a10be15f09a2262c137', 'd4113a6f3fa68d414afb73ae366133bb']\n",
      "['ea68276d8b271dbe51b403414a5498fc', '7404f8430f648d1095c86af2b42013c5', 'a6aec1a3c4a9921d2b42ae068e2cb0c5', '6db75b4e5cfe6689daecda80d33b605a', '9f00ff72134fb46b2e4aec313c76d0ef']\n",
      "['ea68276d8b271dbe51b403414a5498fc', '7404f8430f648d1095c86af2b42013c5', 'a6aec1a3c4a9921d2b42ae068e2cb0c5', '6db75b4e5cfe6689daecda80d33b605a', '1e4850c1e377c8c8018c29f0fa9068a8']\n",
      "['ea68276d8b271dbe51b403414a5498fc', '07b26f50a0197e27664d6eac7b79e904', 'a6aec1a3c4a9921d2b42ae068e2cb0c5', '9f00ff72134fb46b2e4aec313c76d0ef', '6db75b4e5cfe6689daecda80d33b605a']\n",
      "['2e0a3040a7d41ab2dabd4ea5553327aa', '2a5344bece073958284508835c446ca2', '69b82ae4ebce626d5eeb2f89b437c7a5', '74c238ce15b9d5a939859f5a3c44ee1b', '894e8ef2259949f3ca7d12f54e847335']\n",
      "['2e0a3040a7d41ab2dabd4ea5553327aa', '2a5344bece073958284508835c446ca2', '69b82ae4ebce626d5eeb2f89b437c7a5', '74c238ce15b9d5a939859f5a3c44ee1b', 'b6a3da0691a408326232115879d3907a']\n",
      "['2e0a3040a7d41ab2dabd4ea5553327aa', '197fb84523bd1c9d7e1b3df3029a7474', '69b82ae4ebce626d5eeb2f89b437c7a5', '74c238ce15b9d5a939859f5a3c44ee1b', '894e8ef2259949f3ca7d12f54e847335']\n",
      "['2e0a3040a7d41ab2dabd4ea5553327aa', '197fb84523bd1c9d7e1b3df3029a7474', '69b82ae4ebce626d5eeb2f89b437c7a5', '74c238ce15b9d5a939859f5a3c44ee1b', 'b6a3da0691a408326232115879d3907a']\n",
      "['12042f05e20024f22091ae8e9526cdbc', 'bef5d8091548d5786a1f66a52cb36285', '26ce58aaaa2cb3dba8dc221059286a6b', 'f6ff1e4d51daf50404de0d4fdc53786e', '6d294dee6cd9046f306048877c1a7d8b', 'dc25da5a44bee2090c97209514e09758']\n",
      "['12042f05e20024f22091ae8e9526cdbc', 'bef5d8091548d5786a1f66a52cb36285', '26ce58aaaa2cb3dba8dc221059286a6b', 'f6ff1e4d51daf50404de0d4fdc53786e', '6d294dee6cd9046f306048877c1a7d8b', '7f523c307d69debb64e11da2c2ab47fa']\n",
      "['cc3393e4316e08a196f94c5843f29848', '809e66aa4837867722d2ea2fe5e67872', '2f5ae8932b66a5fa4b359269b2233c6f', 'ce1b7947ca11ae57e22a127aa7812c7b', 'ee244aaf13273c68a8507e9f6d179e65']\n",
      "['28be33d591d311d5904ba52ef27393e8', 'c0b6800b5bd8e7a0825556637c66bf83', 'bab7e344d3751ae3c4d7828c2c4786d9', '5806dd9332667c9da0681c6438b0794b', 'be7cd533e05277c0f73438f6db2ac3fd', 'a14c4e04b9487140ac5bf5ec5d02d525']\n",
      "['eda9608352c93f36046917a3a5d81252', '238420678e078ca62f9d2769d0ee22c9', '039d111ae4bec3c9e6e45e0388c7fe69', '4c9e4d4430238c89a42925ccc15009cb', 'e095b83437bb239596c9440aeeddd026', '5ee329c4551d4dbed339b23cc129bb51']\n",
      "['eda9608352c93f36046917a3a5d81252', '238420678e078ca62f9d2769d0ee22c9', '039d111ae4bec3c9e6e45e0388c7fe69', '4c9e4d4430238c89a42925ccc15009cb', '9f053e16e17306a7099c9750d72de928']\n",
      "['c5c006cb06c778b7ad0efa924610e4a4', '1ade264217268e3e92c127d8fbdbea8a', 'd8bc040d724ac71b2c6c4aaff5491921', '3a30a8b233a7ad055ba968bc8f421046', '9bee44aae10426bf93dc599cf5599ba2']\n",
      "['c658c099738d4c69d68d6d8e8173d919', '5a364205ac221da35a1582501fce70d8', 'e5db32b2d6fdb98652a36e8c4de0870b', '7c959cc8afedaf93da739c2d2dc4b7b9', '3acf0f40ef6097a96b03f13146015fa2']\n",
      "['c658c099738d4c69d68d6d8e8173d919', '5a364205ac221da35a1582501fce70d8', 'e5db32b2d6fdb98652a36e8c4de0870b', 'c03c847c57c0d38ab51e5da59089a9bc', 'bf597466bb50b905ac115a80195f34aa']\n",
      "['03681a864d5fa02a76fd60c50ac7ca9c', '92190cd21d653de13f3aa7a0717bf829', '800eb400e0799a925f41611c5650cd65', '1f1d70aaab45492d8f12aa0239ede7db', 'fd90ee02ef13b036327eee0acd2c6698']\n",
      "['ab8e5d496498f438cef58714ed9db448', 'e5435f41e032714394035a695b3cb795', '8c2982d301cbe5786a7b99d7c2d2e634', 'b3c98ec34d060a8a7811e9547b5bd56c', 'e44561bd663df1ea9a566db5ab469ac9']\n",
      "['d76db51b1dec93b350ed33c29d683324', 'f98df1560898e1d59293069f87672542', '7703db3d856c3776f22df53551508204', '8f09d7f424246076489c41ae4ebeff39', '43d5a6153cb431d63a127f57e64bc3f0']\n",
      "['5126a3629c35efc308676844bc724c4b', '4df3b42e9e77922e39a759cce80f8ae5', '53a403f0ef428c8c66e0b6a20aabee8b', 'b445196b028d41ed6ed274011791660c', '2985fddcae44e4bf08b1aebc2f623def']\n",
      "['1c56829ac854d82faa3d0fce107e6dbc', 'db126194a23e7cd91bf12b58e87df9b7', '89b128f0f4efc7bad08eb475637d665b', '82d55062ec9ebb6da972d6d74e6b7e10', '1cd42ce70b8091f8d3ebdb2d468aa04c']\n",
      "['821b6bc7160ce0bae671a158a106f3b8', '1468290e31fd4fbe4d49ea1b278bac05', '9c2f32a46a4e768ee0616606b53c0f03', 'f332339dcf7cae078ceb57a886d262a9', 'e414874471ce612d523d3a5baa4b5340']\n",
      "['02808daf0dd843a5a3b602933f886bb1', '0809c919b59814d2f599a72e69cf93c0', 'b7aea8d3436476ac114dbfee6830439f', 'be5bec35818f3b7d81bd594936d7ce94', '3cef31819aa65e48a3f7287952e5c076', '7bcb772621586af5158830721c30cd0f']\n",
      "['02808daf0dd843a5a3b602933f886bb1', '0809c919b59814d2f599a72e69cf93c0', 'b7aea8d3436476ac114dbfee6830439f', 'be5bec35818f3b7d81bd594936d7ce94', '3cef31819aa65e48a3f7287952e5c076', '511719e77c2c8514045b2faa322abd5d']\n",
      "['02808daf0dd843a5a3b602933f886bb1', '0809c919b59814d2f599a72e69cf93c0', 'b7aea8d3436476ac114dbfee6830439f', 'be5bec35818f3b7d81bd594936d7ce94', 'ec4cd408efcdd31a7c59708e9671be52', '511719e77c2c8514045b2faa322abd5d']\n",
      "['02808daf0dd843a5a3b602933f886bb1', '0809c919b59814d2f599a72e69cf93c0', 'b7aea8d3436476ac114dbfee6830439f', 'e7d1e3b92acab976071f6c6013916623', '3cef31819aa65e48a3f7287952e5c076', '7bcb772621586af5158830721c30cd0f']\n",
      "['02808daf0dd843a5a3b602933f886bb1', '0809c919b59814d2f599a72e69cf93c0', 'b7aea8d3436476ac114dbfee6830439f', 'e7d1e3b92acab976071f6c6013916623', '3cef31819aa65e48a3f7287952e5c076', '511719e77c2c8514045b2faa322abd5d']\n",
      "['6c879736356832f8aa789ce627916903', 'e6ba960da7418518c6eb057455d62ba4', 'c7f8f06740ba8ccedc5d31fc5f7a3913', '4c2050f7fd6946524084474f63044917', '0c6abb6788a69859920b26fddb1b23c7']\n",
      "['6c879736356832f8aa789ce627916903', 'e6ba960da7418518c6eb057455d62ba4', 'c7f8f06740ba8ccedc5d31fc5f7a3913', '4c2050f7fd6946524084474f63044917', 'a7d0d6b13a0bd4ec75011449d940f161']\n",
      "['2e453d58fbeb710601cd8393e71f6425', '4f572952b379ca3a4c9d2a21885caad0', 'ec693cc6d0dccd74ec009aebbf1fe656', '3f7d2da3b87a4a050656f98e5af82d49', '46d1102a1c5643d394d7e61b99c6ed76']\n",
      "['2e453d58fbeb710601cd8393e71f6425', '4f572952b379ca3a4c9d2a21885caad0', 'ec693cc6d0dccd74ec009aebbf1fe656', '8ca8273051390d2a2eb1d3f849c78756', '7cd2a187d1c019498119bba6deeae14b']\n",
      "['f80c13a7edff93465142864b82887459', '403aaf2bc75497bceb449f09ffefacd2', '23b310fa0da414bad6ecd659022783c8', '498c08e6fb56a6019a5f22665b699ddc', '00d37e4f22b3c75268924601aeb36462']\n",
      "['ca39900cb481b5707b3b865a705e0933', '3348031c55e9e7ba851ae43447714b0c', '186305990ae53c777e54c4fff4d9b07c', '435cc9300dc1399b6b67052aff468b60', '85df464c609533c227435d310d6e5d8a']\n",
      "['abb4159eac20ebc0433fb7ed9109e173', '3c99f949c3640bf8cca477ecc1e9b759', 'f9adb41fdbbfb9a03edfbf5d3b40d6ac', '50fc51987d29b9777c6d742a53fee58c', 'c86de907806d8a6ece48d03ea9e02fd1']\n",
      "['398b3f82fd2105c7a7fbfb9f7bd56190', '6db75b4e5cfe6689daecda80d33b605a', '5bde52610f54898280b94a5d419e9c96', 'a6aec1a3c4a9921d2b42ae068e2cb0c5', '92faf698510d8d88059f10b5d2accbe8']\n",
      "['398b3f82fd2105c7a7fbfb9f7bd56190', '6db75b4e5cfe6689daecda80d33b605a', '5bde52610f54898280b94a5d419e9c96', 'a6aec1a3c4a9921d2b42ae068e2cb0c5', 'faa159c365be1cc575e325744558f718']\n",
      "['73b66066822d2ed79e31a02358e08207', 'd4d9228e66b2cf161ca6675e4c8ba069', 'ea81e3d7e5c8becefef5a5182f58a02c', 'ef0dd627253f06406c545837614d54e0', '043beeea2acce661620aa1ceabac21c7']\n",
      "['73b66066822d2ed79e31a02358e08207', 'd4d9228e66b2cf161ca6675e4c8ba069', '9d81735a35e8889b7586a2a3ab269cc6', 'ef0dd627253f06406c545837614d54e0', '7ea3ba80ec56e758ffe0607dcb63af1c', '043beeea2acce661620aa1ceabac21c7']\n",
      "['73b66066822d2ed79e31a02358e08207', '1747afc2ef0e34a93b63d7120c843338', '9d81735a35e8889b7586a2a3ab269cc6', 'ef0dd627253f06406c545837614d54e0', '7ea3ba80ec56e758ffe0607dcb63af1c']\n",
      "['b8fc36aca8d0b86af6a9351c70c0bbfe', '48124b4a739353d0160a9fb1cd5515d8', 'c01aaf01394f3ce0d365dd2764779fff', 'b79eda625bbea937bce51263cad21655', '55914b9a67a73bca0737c1ad91122cf0']\n",
      "['b8fc36aca8d0b86af6a9351c70c0bbfe', '48124b4a739353d0160a9fb1cd5515d8', 'c01aaf01394f3ce0d365dd2764779fff', '8c728f9235e62c1a6776dba3d84ba77a', '55914b9a67a73bca0737c1ad91122cf0']\n",
      "['b8fc36aca8d0b86af6a9351c70c0bbfe', '48124b4a739353d0160a9fb1cd5515d8', 'c01aaf01394f3ce0d365dd2764779fff', '8c728f9235e62c1a6776dba3d84ba77a', '694012add1b067397a40cb84b0c38f90', '82670e7f2714bd226a9604fbe61562fd']\n",
      "['b8fc36aca8d0b86af6a9351c70c0bbfe', '48124b4a739353d0160a9fb1cd5515d8', '87fe2d31d52aaf67e1125ed8f24959bf', '694012add1b067397a40cb84b0c38f90', '82670e7f2714bd226a9604fbe61562fd']\n",
      "['f8c351d7d591d1dd9d4ad1f5ebc95bb3', 'c1e36d2c6ae2d4d8924e07d51080c4c8', '150ca3ecdb806b7d8dac89bf0e61be8d', '2f0a6519b288f5fd9814799a69ba6269', '4c990ac6d5dd9774a56a647ed915b5bc']\n",
      "['f8c351d7d591d1dd9d4ad1f5ebc95bb3', 'c1e36d2c6ae2d4d8924e07d51080c4c8', '150ca3ecdb806b7d8dac89bf0e61be8d', '6f461a502030172a29c4a38c156b7cd3', '4790e386db1d4e66b094adf94060b9be']\n",
      "['f8c351d7d591d1dd9d4ad1f5ebc95bb3', 'c1e36d2c6ae2d4d8924e07d51080c4c8', '150ca3ecdb806b7d8dac89bf0e61be8d', '6f461a502030172a29c4a38c156b7cd3', '4c990ac6d5dd9774a56a647ed915b5bc']\n",
      "['85950cc3d52666298e09f23015c5479f', 'e85cbf4ce94352bb7e9dc35d5082cfd6', '547456c2e1bc804bbe64cb5345b344f7', 'bb54e5872408a9585360179fe71a6c40', 'a13ea4360ec6493d8bc233e3c6666bcd', '4bc58e8600b930071bda4bc38086d4d1']\n",
      "['85950cc3d52666298e09f23015c5479f', 'e85cbf4ce94352bb7e9dc35d5082cfd6', '547456c2e1bc804bbe64cb5345b344f7', 'bb54e5872408a9585360179fe71a6c40', 'a13ea4360ec6493d8bc233e3c6666bcd', '3e596d0de5eba806e49453711b3713e1']\n",
      "['85950cc3d52666298e09f23015c5479f', 'e85cbf4ce94352bb7e9dc35d5082cfd6', '547456c2e1bc804bbe64cb5345b344f7', 'bb54e5872408a9585360179fe71a6c40', '1d7b6c62e125eb2b224b071463fd565b', '4bc58e8600b930071bda4bc38086d4d1']\n",
      "['36cf6f62dddc23b34b46958f51d221bb', '4f18177e20e730697a3546e4a5067f6c', 'bd216bac853a3f2eb0367e189f2ac729', 'fe360ebe3514ad5c7383ca37ed976cc5', '272955646b13c80862dfea88fe8647f9', 'c1b1fad63452f4c8da6a0b1c7e0f935f']\n",
      "['36cf6f62dddc23b34b46958f51d221bb', '4f18177e20e730697a3546e4a5067f6c', 'bd216bac853a3f2eb0367e189f2ac729', 'fe360ebe3514ad5c7383ca37ed976cc5', '272955646b13c80862dfea88fe8647f9', 'cb76893212054f26bfd04388e38f4518']\n",
      "['36cf6f62dddc23b34b46958f51d221bb', '9e8f5c310898af98081c38a7dce21fee', 'bd216bac853a3f2eb0367e189f2ac729', '272955646b13c80862dfea88fe8647f9', 'fe360ebe3514ad5c7383ca37ed976cc5', 'c1b1fad63452f4c8da6a0b1c7e0f935f']\n",
      "['36cf6f62dddc23b34b46958f51d221bb', '9e8f5c310898af98081c38a7dce21fee', 'bd216bac853a3f2eb0367e189f2ac729', '272955646b13c80862dfea88fe8647f9', 'fe360ebe3514ad5c7383ca37ed976cc5', 'cb76893212054f26bfd04388e38f4518']\n",
      "['2a2e71e5dbdbaf67e2e17e406d47202c', '2110517c44d702163048241be8fc977e', '7386ccb5331fc99222e14cea085e944c', '1ca5388c2dc2cda1c9f33deda45d3df4', 'be18392a0b43997f6bbe2598bb9cd2f3']\n",
      "['5c9b8dd7968b76aca2969183aa72eb5a', '9dc8bf4e9e9eb3c5bf69339293377656', 'd25d3181339445c93ce685ad6eb9638d', '6248d0ed917453415096a1b961f0f1ae', '4d8821ece629b80682614ccde8d68261']\n",
      "['c84b0edaf154c0e6c21236c5a5f9a227', '7928a2439c016ea834acb31d1ab0d428', 'd6a7d35dedfcca138b69994da5cec63c', '19ddbc9e5a465f3f8968b19bb843545f', 'ad77f2e8c2682b4f787f701b7445b69c']\n",
      "['c84b0edaf154c0e6c21236c5a5f9a227', 'ad77f2e8c2682b4f787f701b7445b69c', '8af8b6695092d65c4509e735d9bf4b6d', 'd6a7d35dedfcca138b69994da5cec63c', '19ddbc9e5a465f3f8968b19bb843545f']\n",
      "['3f5cdac90be265c5f72e7f1f476d3b27', '44fe5c0176c62cf5e20f225f3baa81b5', 'a93656b87de7d4c4fa5427e57646ec62', 'f89cf218d8586ae4630e2054ab14fc12', '2539da896c3502d74394068d8e96adb7']\n",
      "['e3252193f86eb85855a283af88ca7926', '65c27bdf3724a6be88628562530660de', '6730aa5e7f7dc3a77266238c7ea23c22', '2878d3527229560d0e022450858df956', 'c265e3d13f2dc555ebb6b4d5c774859f']\n",
      "['5823067b1a813efc028771885e61f010', '52b1eee826731a29a89b0edf3ae41315', '7ae4b26dfe46a3c7d48f7cf73f3476ad', '87f767cb1afb4a086bff6090ed8ea4d5', 'ca7aaddb220e67ac3fa9faae65bf4951']\n",
      "['06e3bad0e23d77f96a25cbd42b53f725', 'f1c639f795df1661dc1ed8665d91b1f7', 'a9afa41c2139d0d6c91b0c55afca1710', '16704d8391f93bbc8695104df2735df1', '307a28058e7ebc7f7e10a65d954b4fc0']\n",
      "['9b62f98b03ee667121d83b07463fd2ca', '33c0b8dbd6bc021c23b579ef8448a2bd', 'cd9a8b46a4f477138a92e7714f621ac7', '48514a896cdc000669d8f3a60370d5cf', 'dd1ac7a0ece393258de5dbc6452af4d9']\n",
      "['e23aa6bd1bc21f6e8d6e9afaa80c6bf7', 'e4faaa28b984631df279307d42f46ceb', 'cdd6748ff8e0209c5013f2b673150595', 'ef20deb8ba2e9d35b62e5c9385fc5c6f', 'ba435c2218c9d7024c5199a6517cbbcf']\n",
      "['c113f382b2894b01b2958a66cd5c212b', '16153d44abe801c4cb86d78285871d06', '49311ec3363612e75a54a271d6c606c2', '5405ae97a0714a362f7f48d34b9fa736', 'a0b0b7cdeaf7b82d2e3ebc8d19f0b8c6']\n",
      "['c113f382b2894b01b2958a66cd5c212b', '16153d44abe801c4cb86d78285871d06', '49311ec3363612e75a54a271d6c606c2', '1a5cdd9832bb0351e17c0a4f71320acb', 'a0b0b7cdeaf7b82d2e3ebc8d19f0b8c6']\n",
      "['c113f382b2894b01b2958a66cd5c212b', '16153d44abe801c4cb86d78285871d06', '49311ec3363612e75a54a271d6c606c2', '1a5cdd9832bb0351e17c0a4f71320acb', '000e9e43b7749863ea259c424122b0b2']\n",
      "['c113f382b2894b01b2958a66cd5c212b', '16153d44abe801c4cb86d78285871d06', '033952021cb6b330206294f12c96c636', '1a5cdd9832bb0351e17c0a4f71320acb', 'a0b0b7cdeaf7b82d2e3ebc8d19f0b8c6']\n",
      "['c113f382b2894b01b2958a66cd5c212b', '16153d44abe801c4cb86d78285871d06', '033952021cb6b330206294f12c96c636', '1a5cdd9832bb0351e17c0a4f71320acb', '000e9e43b7749863ea259c424122b0b2']\n",
      "['6da35f4cedf48ab669d318fd6ceb8c6e', '75cf057cd4972d4bc04781d4af4563f5', 'a5ef372dcd437bf6ff7c014a19ea4912', 'f086907994ce42f152145aa6e65ffbf0', 'aa3d1d9493e3819ca8cde45c0c10ccdc']\n",
      "['7b03c1e1889f73e922dae1ab07426c00', '785a4d93088bd4ae06c796d4168e5885', 'f45de28ea79e804e29c60b08a366214c', '4eb4059f98570025e89c633488ea4137', '65db2ba1e45d0987097ae44554acc6af']\n",
      "['6496c519b4b956a49bff0442421b40da', '0a72f4c05e652207d1a40c411145d636', '61f469a9f81ad23dc810929fe5e2eb76', '6bda68d98417695b0d1f1a240537068a', '83522e5aefd24dd61c4a5c256d895de6', '6ef80e39841bba68248ff0e04953270e', 'aeebb48a48be88fd938c27145bb8c8e0', 'dc758b7adaf15fdce3825d3d981b0c3f', '1bc6f24a30daa7fc912b769253078085']\n",
      "['6496c519b4b956a49bff0442421b40da', '0a72f4c05e652207d1a40c411145d636', '61f469a9f81ad23dc810929fe5e2eb76', '6bda68d98417695b0d1f1a240537068a', '83522e5aefd24dd61c4a5c256d895de6', '6ef80e39841bba68248ff0e04953270e', 'aeebb48a48be88fd938c27145bb8c8e0', 'dc758b7adaf15fdce3825d3d981b0c3f', '1cf37fc29416ebe94edb6eab0e88bad4']\n",
      "['1fb3d3e231de77783e27a818e3a2f2d0', '1c95b4e08342492884e4b07e2d0b79f1', '665f60022e55c99d8a2cd7fb3d2edc79', '8871f22011e2965bd5f9121000c8a6bc', 'ee2808a3bc261e4e5fcccfbc7dc221dd']\n",
      "['1fb3d3e231de77783e27a818e3a2f2d0', '348a79932df71f619d8b505ad10d2857', '400103eb30066e9a8ebdee4eafbb8211', '7ef03ba1f194132934d3bafcb7951151', 'c912b8775cd79085268a7c45e517efc7']\n",
      "['1fb3d3e231de77783e27a818e3a2f2d0', 'c59b5918675014afe526802afa360a01', '665f60022e55c99d8a2cd7fb3d2edc79', '8871f22011e2965bd5f9121000c8a6bc', 'ee2808a3bc261e4e5fcccfbc7dc221dd']\n",
      "['cfecc578587a022f461f1c54241fad84', 'c9829f3207a76dab4c7b3361b1ab0b12', 'e4dd2857995b852708bde5b063b0a123', '7f4bf3bd2862b3650ffac1de94933720', '8230ec938e730c6c4a8b9bcf09691843']\n",
      "['cfecc578587a022f461f1c54241fad84', '424957e935ccf422d1f8696aba6085df', 'f829c2b4c7ab3013c712054b81d23058', '657f98037d56937c67febc107fac7637', '801a2f4211e6bf7180097926720273a1']\n",
      "['cfecc578587a022f461f1c54241fad84', '424957e935ccf422d1f8696aba6085df', 'f829c2b4c7ab3013c712054b81d23058', '657f98037d56937c67febc107fac7637', 'bb2ef68ab87f0176de69ec31def01992']\n",
      "['6e7e0142c995c0e5b99922afb951c49d', '09430e234eaf2071f43409e5bb98ee89', '615890dd2824b752a44d6edac1c82b7f', 'ac413a1d9fa352a9edb0c4106814b101', 'fdadd31d6c31d7941e30bfead94e6615']\n",
      "['6e7e0142c995c0e5b99922afb951c49d', '09430e234eaf2071f43409e5bb98ee89', '615890dd2824b752a44d6edac1c82b7f', '21219114b492ad6860ddc8bd057cfa98', 'd8328d0be0b1127542ba7404973d92d4']\n",
      "['6e7e0142c995c0e5b99922afb951c49d', '09430e234eaf2071f43409e5bb98ee89', '615890dd2824b752a44d6edac1c82b7f', '21219114b492ad6860ddc8bd057cfa98', 'fdadd31d6c31d7941e30bfead94e6615']\n",
      "['6e7e0142c995c0e5b99922afb951c49d', '09430e234eaf2071f43409e5bb98ee89', 'fd1501fa19c16495e77a34eedfecacf1', '21219114b492ad6860ddc8bd057cfa98', 'fdadd31d6c31d7941e30bfead94e6615']\n",
      "['f65f79952b0d10f56c739af3df529e71', 'b0e9df10cde05a1d197081c683285927', '0eeca91a9dfe9c7d471ab00a38aa10aa', '31c0ec2ba31b057fa90eb1faaf335775', '1197d4b21999a8c78987bed843994cae']\n",
      "['24b84c57962ffdf6672bca08dff8d67b', 'db96cc196a26037af90a4e54cbb78fc1', 'a4f82a97601a605e16f3dd76ad28e737', '5d6d93cabf9580a473a6b4042fd579f9', '93ea7327d608e1c6743f4522f9aa5df8']\n",
      "['24b84c57962ffdf6672bca08dff8d67b', 'db96cc196a26037af90a4e54cbb78fc1', '614e58322a71e6262f67491bafc08e28', '5d6d93cabf9580a473a6b4042fd579f9', '93ea7327d608e1c6743f4522f9aa5df8']\n",
      "['24b84c57962ffdf6672bca08dff8d67b', 'db96cc196a26037af90a4e54cbb78fc1', '614e58322a71e6262f67491bafc08e28', 'bf4eca280aa2a96d04929415e26bb0e3', '094adc17fc205288cfb4e999929edbef']\n",
      "['24b84c57962ffdf6672bca08dff8d67b', 'db96cc196a26037af90a4e54cbb78fc1', '614e58322a71e6262f67491bafc08e28', 'bf4eca280aa2a96d04929415e26bb0e3', '25ce5582b895e2de900152f0107fbfcb']\n",
      "['6a9322dccf425be6c8d2ba3875bc1205', '5c20e0854bc9f8bf51dba4a89db00c23', 'db971704a0411262baffc16150c5612f', '66b7e67ba01edf738a312eefeabf6d65', 'c00f3eecb8e2c522495cf4137d28a1d7']\n",
      "['db591b7107659b4b71a82f9be4dc879e', '1e32d9cc16962872886c7c17b915869e', '07028befec4d3b123ce33a287e2878cd', 'fa1158ba3db0255dc13a87cc640b6d48', 'a0dcccceb0de6db382252e9b640140f3']\n",
      "['753f3be86f70fab50a1b20e680314e18', '2001d3d47d3fba194139911f03dcdd4d', '39f1d29d7ac84c6b853422ca87afdf26', 'e3fb49681f012abf032501db08e97bc4', '09719bbd44060e69043432d113339b69']\n",
      "['753f3be86f70fab50a1b20e680314e18', '2001d3d47d3fba194139911f03dcdd4d', 'e3fb49681f012abf032501db08e97bc4', '9d5d9638151f9e544a7761bc80d7482a', '09719bbd44060e69043432d113339b69']\n",
      "['753f3be86f70fab50a1b20e680314e18', '2001d3d47d3fba194139911f03dcdd4d', '897b881357f8d734e3de1734385c877e', 'f9564cf0182a39aec3b6203a1da2f1e3', '2e52a9f40b317c91cc36a6ef2a149ed8']\n",
      "['753f3be86f70fab50a1b20e680314e18', '2001d3d47d3fba194139911f03dcdd4d', '897b881357f8d734e3de1734385c877e', 'f9564cf0182a39aec3b6203a1da2f1e3', '425c92be1e7c40d9e14ac08f8d432a5a']\n",
      "['753f3be86f70fab50a1b20e680314e18', '2001d3d47d3fba194139911f03dcdd4d', '897b881357f8d734e3de1734385c877e', '09719bbd44060e69043432d113339b69', '9d5d9638151f9e544a7761bc80d7482a']\n",
      "['753f3be86f70fab50a1b20e680314e18', '64462034c0a289cd1b40e8b7c35b4075', '897b881357f8d734e3de1734385c877e', 'f9564cf0182a39aec3b6203a1da2f1e3', '425c92be1e7c40d9e14ac08f8d432a5a']\n",
      "['753f3be86f70fab50a1b20e680314e18', '64462034c0a289cd1b40e8b7c35b4075', '897b881357f8d734e3de1734385c877e', 'f9564cf0182a39aec3b6203a1da2f1e3', '2e52a9f40b317c91cc36a6ef2a149ed8']\n",
      "['fbdc68e6bd2d078efeb86f5b73516b3a', 'c9771324778ef7df76ff458b52673282', '00593b08a3d51b92651d0a52ac2699f7', '31a1623b5616ab04c0567aa9dd5116b9', 'f14c1a8832fd53869ea5b6739b24f795']\n",
      "['fbdc68e6bd2d078efeb86f5b73516b3a', 'c9771324778ef7df76ff458b52673282', '00593b08a3d51b92651d0a52ac2699f7', '31a1623b5616ab04c0567aa9dd5116b9', '907ed84f3d740d7bc8ca0a12a6898641']\n",
      "['fbdc68e6bd2d078efeb86f5b73516b3a', 'c9771324778ef7df76ff458b52673282', '00593b08a3d51b92651d0a52ac2699f7', '5567a67d922a09e3c8447a657d976091', '907ed84f3d740d7bc8ca0a12a6898641']\n",
      "['11cac75d473210cb18311fd76de6486c', '86bbcff4b7ad982e9bf6e48f19da517d', '484055ce9352c4c298920153e33d0625', 'b5409e5ca48bd815db669a5f703d20b5', '6e428b40ebe8baf29751505b4b1adeb6']\n",
      "['afa401017aaee34d0c13521926b3dfe3', '57057413c1424f4b8095c8b5df100864', 'e2a05d3dedab43ca2a421ef4a82ded8f', '05e7968aca28c7580c7cd5b281ff6a45', '7b03094c56638912508c23dccd27e693']\n",
      "['be1e6b3e5cde713343c8e055dbc52584', '8527185b5ab5ce1cc622efc1e1ae847e', 'e6be713b4ac04030e6ab98bdd8e8b995', '4021b45f11966b74d731d46582ef506d', '535d07344e4c994706648a26c0511c9f']\n",
      "['91d229049d07db9e92926decdd7570b6', '7701e5e9688d32b85b2f54eb7a2cf53e', 'c4514e3decb6ad1195377b8a587fe969', '0672967426b175d6ed002fb94f871cef', '5a5f2e29be548c5a73e5e5532ee6f7aa']\n",
      "['b639545ac233dae088949eb2fe2a6b80', 'e68209aab4acdcffb08e50b12e75d3aa', '517489712ced3f48aa42371dc614a149', '56daa094995b5ad1734c3d83d42305de', '0b26d3a3424edf3a15e5a72c4b387469']\n",
      "['3b3f3cb8f54dfa2b8fb28adb05a2f91d', '9c1a6456b4dcb79dc6ea3418974d551b', '99c95c07a487f118cd4a8605d5b576f9', '02c023791d92976fb6fd0dc06faaae42', '573f289623a1c4a358b9385a418f0af0']\n",
      "['897b881357f8d734e3de1734385c877e', 'b75bb4c16d6d0b0ce7a1b573e831229c', 'f9564cf0182a39aec3b6203a1da2f1e3', '2e52a9f40b317c91cc36a6ef2a149ed8', '2001d3d47d3fba194139911f03dcdd4d']\n",
      "['897b881357f8d734e3de1734385c877e', 'b75bb4c16d6d0b0ce7a1b573e831229c', 'f9564cf0182a39aec3b6203a1da2f1e3', '2e52a9f40b317c91cc36a6ef2a149ed8', '64462034c0a289cd1b40e8b7c35b4075']\n",
      "['897b881357f8d734e3de1734385c877e', 'b75bb4c16d6d0b0ce7a1b573e831229c', 'f9564cf0182a39aec3b6203a1da2f1e3', '425c92be1e7c40d9e14ac08f8d432a5a', '2001d3d47d3fba194139911f03dcdd4d']\n",
      "['897b881357f8d734e3de1734385c877e', 'b75bb4c16d6d0b0ce7a1b573e831229c', 'f9564cf0182a39aec3b6203a1da2f1e3', '425c92be1e7c40d9e14ac08f8d432a5a', '64462034c0a289cd1b40e8b7c35b4075']\n",
      "['27d55d2aa222b8ffd14367d5cfa2e347', '5bb1596fb35b272bcdd6673631fcecdd', '587350cfc73806e081274cbfd7bff6f2', '26e8dbf99ff7ba1a0701cebb93088198', 'd50143e5837c2fe84a0de23b1676931d']\n",
      "['b79b1ec2d8936715b8c854876f3ee817', 'a016716403ada746b0bdb88454d794bb', '1eebfbe6c2f4907617e3be2cd27803ef', 'ba72fc5c1eb2d0466b304f98c5a39365', '38853beb3d3117ff38536cddc260355f']\n",
      "['58d209f8fad9c960cba023118b867753', '55cd09ca84bf647dbffc491780c0ab0a', '5297f58a2af4c3eead2bb8375b23bf76', 'b01acd91493d437277fa8d75c8d66744', 'df75d6f4b648da852432a9d566d25aa1']\n",
      "['446d168182d87ab7ee113cbf98530205', 'be84c969003f49a662bee303a06843d6', 'ea19ad94509c1c27d29eae6440731fa2', '831ea837a0cafc863629be989503da8e', 'd4d12e6b741d04497433c865db3d9910']\n",
      "['89d612df57fd050d1653a65a6fd4b0ad', 'f393f69d2ca5675aeb1d3617a74509ba', '7da083ad05cbedec54e344fb2abf272c', '5707b0cbf44a156e022045f73002a07b', '53836c703eca5df640d4a280a278e664']\n",
      "['89d612df57fd050d1653a65a6fd4b0ad', 'f393f69d2ca5675aeb1d3617a74509ba', '7da083ad05cbedec54e344fb2abf272c', '5707b0cbf44a156e022045f73002a07b', 'e3a2be160d8b9631b15565c52a8d5a1f']\n",
      "['16cb87c44f2544c4bf6d679c0a6673a6', '47c12aac1e9bd6c1811b26e255b6709b', '1d5197eca054cecbe357fb383bdc261a', '03a144ef9e19eb26108c7d2cd2f05154', 'bae6caabd7adf5b8cee4564aa1198b81', 'f38c07937d66df6a62d07a88f273e303']\n",
      "['16cb87c44f2544c4bf6d679c0a6673a6', '47c12aac1e9bd6c1811b26e255b6709b', '1d5197eca054cecbe357fb383bdc261a', '03a144ef9e19eb26108c7d2cd2f05154', 'bae6caabd7adf5b8cee4564aa1198b81', '09b51a3f9c01dd49fb37acf21362fc43']\n",
      "['30435ecff04642ffc7b619dfc6114543', '19200a6620f04aadecef4cfc2b5ef9c4', '34a1486bc63ee368d778ede736c71701', '0079aac312d107d2c374355749d8580d', 'd0a7bb95678ef68ca72c82b51bf8068c']\n",
      "['260016fdaab2efe707e1850a8af75eae', 'abdf5770d225bc0cc3273d60135a24d1', '632ead34d62ff9422ffd77e66f12be04', 'a8152a76334564ab3441848f1798a7f2', '6d23ff047f6e376265cee6f1bbdf9d46']\n",
      "['e85cbf4ce94352bb7e9dc35d5082cfd6', '547456c2e1bc804bbe64cb5345b344f7', 'bb54e5872408a9585360179fe71a6c40', 'f3c92ad6bd925b75ece0dd77c0ce4227', 'a13ea4360ec6493d8bc233e3c6666bcd']\n",
      "['e85cbf4ce94352bb7e9dc35d5082cfd6', '547456c2e1bc804bbe64cb5345b344f7', 'bb54e5872408a9585360179fe71a6c40', 'f3c92ad6bd925b75ece0dd77c0ce4227', '1d7b6c62e125eb2b224b071463fd565b']\n",
      "['c4f12c0ca56eac24457d0b8e7891901a', '6f17fe96db85f2c459a37abd071597e2', '9d90979ff8fc42b69825594d96f800c9', '2c914914f2a91c862736f316c9f54684', 'ea0e23a5434e8435f5f4c285ec610571']\n",
      "['4d309493c367ba4d82bd04d75df5f349', '9c1893a01d872747686936c65acfa042', 'bf796beae05e9c7cd8f43e01970ee022', '470af3f5e09338db7eda1b222fcb5b7f', 'dce0211baf581e5b21b61cb18af5c3af', 'e0bfb2998c0956b98024fd9aa09cb39a']\n",
      "['4d309493c367ba4d82bd04d75df5f349', '9c1893a01d872747686936c65acfa042', 'bf796beae05e9c7cd8f43e01970ee022', '470af3f5e09338db7eda1b222fcb5b7f', 'e096c738de96a473f126b2031bba900c']\n",
      "['4bb9ec11e7dd50264c1d3e251ea8e11d', 'b2c447effd2c0f4771dc34ad423a0ddf', '8dc833756ff4aaf556b6742082c2c30e', '272353e4cf861754ab753975015bf0a7', '440601d7daf09b419a89c9547ff7479a']\n",
      "['933fbe00cbd5621ab7435c269bd67a7f', 'e7016ae6995a34c82dab69725f8a5297', '249d53d9a34223429df811cf1eea1148', '726dd8e63dc51aea0c5d2cfd6cd4f580', '43df378f14251fb6ca689c33d350168f']\n",
      "['69d949482d676f6bff830878e8931b0a', '5fa35dc8f2326e93f6c44b7fa9236211', '5d20692c8e2ba28e0d66160e56a73e9e', 'f2cab238df0d6254e55c3f25a5cba86d', '8d0d11e893f8e044724098759fde119e']\n",
      "['69d949482d676f6bff830878e8931b0a', '5fa35dc8f2326e93f6c44b7fa9236211', '5d20692c8e2ba28e0d66160e56a73e9e', 'f2cab238df0d6254e55c3f25a5cba86d', '5575360c7a558109cf257e19309d8f38']\n",
      "['c428caff2aff65be566eb5f9416c8385', 'ee6edc1353750c4e0a880094de19d4a5', 'd3765b15898a518140894b7492cde82f', '2f0327667c8256a82834350b0b0a0bc0', '06135cb11651d9b6f04db585d4396c40']\n",
      "['46eae993135b87a4d650a8f6c4be4dea', '86a10376220607cd66c81ab6e1c70e49', '097bf5fd3b5ef8d5397b6c07099f3336', '80e2553a59b1e8614d656b2b0437ace0', '9528a263aaa8dea6daa74e343e525c43', '79ec5903669fac7aa8c39745e49738fb']\n",
      "['46eae993135b87a4d650a8f6c4be4dea', '8e55d5ff0a1fcf155c7700c424c41e3e', '80e2553a59b1e8614d656b2b0437ace0', '9528a263aaa8dea6daa74e343e525c43', '79ec5903669fac7aa8c39745e49738fb']\n",
      "['152d922f4b3beceb35ec6a625e3e5b94', '3dbbefb1ae501bd47a024d5221283bc4', '7792b84ea6788ad94fd04248b8a69fd3', '02b1affd7adce60542da5cd6bb6cc624', 'f37e4919725abebb5c54e48e3b7ec2a0', 'faf79d04f7928c189cc8e36853af89dd']\n",
      "['152d922f4b3beceb35ec6a625e3e5b94', '3dbbefb1ae501bd47a024d5221283bc4', '7792b84ea6788ad94fd04248b8a69fd3', '02b1affd7adce60542da5cd6bb6cc624', '29a3f9124b405b4ffbdb62b8aad9ffc5']\n",
      "['0076be152dcbfa97f28b864fd6ccc0b6', '70e737b50b828140aa8b412fb5346dae', 'f2710e387bcffd65c500ef217ab8573e', '12bd72d60509ed9556917f8b4b827ca0', '7a171b9e0edb17e1cc67520b47f1284f']\n",
      "['b0e9df10cde05a1d197081c683285927', '0d6cca283eb7bf9472f5e0cc4eff22b4', 'a19b5d07da0c9d137a4a32a58ac31ef6', '0eeca91a9dfe9c7d471ab00a38aa10aa', '31c0ec2ba31b057fa90eb1faaf335775']\n",
      "['b0e9df10cde05a1d197081c683285927', 'a19b5d07da0c9d137a4a32a58ac31ef6', '1197d4b21999a8c78987bed843994cae', '0eeca91a9dfe9c7d471ab00a38aa10aa', '31c0ec2ba31b057fa90eb1faaf335775']\n",
      "['4ba680663919fb83b49eaa2b56799b49', '56dda4b372d0f8d2d210d97115d86fc3', '0719e6ccf426bbd996759c320623c3d4', 'f0f6a51b6f8c80c5e1647aa540a6a432', '4cffb7b9956b1bb9ff2ca492a424dbf5']\n",
      "['4ba680663919fb83b49eaa2b56799b49', '56dda4b372d0f8d2d210d97115d86fc3', '0719e6ccf426bbd996759c320623c3d4', 'f0f6a51b6f8c80c5e1647aa540a6a432', '3527c6d92cd27384bdc9aca702f10053']\n",
      "['6564d07f7ba0acbe0fb021c23e65c318', '97d27b0c0a4ac972f55b5ce051c706b1', '1d0fa8c1e8b93e2558a1f40d4995921d', '833857aabc8e804055ba538a60aeb2bb', '80e0c6b3dccdbd9d3185d6411e7737d3']\n",
      "['6564d07f7ba0acbe0fb021c23e65c318', '97d27b0c0a4ac972f55b5ce051c706b1', '1d0fa8c1e8b93e2558a1f40d4995921d', '833857aabc8e804055ba538a60aeb2bb', '0f7097847a4c1c2ced25beeb689a658c']\n",
      "['4b65e4168ebcc2c34750179390879087', '67f18c47b36cc454715da4900cefb4db', '199886fa60aae043fca0e9858ffa8fe5', '0cf214db5c0f217886205c07f6069481', '1ce934233673eb9028ed312160392d41', '9a3dee76b915cf2018d0e041b301920e', 'bbffd0bdf64b781343e6291ed35bcab1']\n",
      "['f523435155539aa32dc46db29a2257f0', 'bc87ccefa301ed365658426dc43035e6', '06ebb547c6253aeb81079ab06cdd278d', 'cb362ede81b8b2e89318dc1a72686ee8', 'e6d6c516c66bc1984f6c230400169a56']\n",
      "['71f24be7803b89ea9ab79d0bec8d121c', 'baeb5344985def93f52ba92c2faa92d8', '2715dc606bb2f076c409f9ec70029fe1', '331a55891aaa0231995f4f4261a0e4e7', '295eef530059cc43f254a00d0439b78a']\n",
      "['8380c3a0ffa3462c76cb11b89d56433b', 'c9893b9e7100183a5e1d2f5d5fda01af', '934578624669cf15911d8d38f0eabe52', '2ae418055bf2644154769388b4faf7b8', 'e998ba6acabe5b13fa405dec7679bd42']\n",
      "['59b9f72a3e62e48ff423259f1a5bd9a4', '24dbcbf682391dd9a9ef8f55d91dc90e', '68d1955cdb4cb90c6c81fec223ca3488', '1897eadba8f80d8f5b4a940f492832a6', '0885898eb6c901c5c56c81ead449c2f2', '1feb08564bffce9bb544976f3734a431']\n",
      "['12716a85b77d0d0f0cf5dccff6317253', '4eba3dfa9f0ee8e94c38a36da7d8f10d', '4af22bff00be6de492ae4398293c3671', '71ca560c793d38fcd40f0e63ddf2f633', '8d052d424b6573e26e804606b8e43be7']\n",
      "['12716a85b77d0d0f0cf5dccff6317253', '4eba3dfa9f0ee8e94c38a36da7d8f10d', '4af22bff00be6de492ae4398293c3671', '71ca560c793d38fcd40f0e63ddf2f633', '60ef59e5b83a5a7d0805e492a3942d41']\n",
      "['12716a85b77d0d0f0cf5dccff6317253', '4eba3dfa9f0ee8e94c38a36da7d8f10d', '1439ea86dc88c9542232814ffe16992e', '71ca560c793d38fcd40f0e63ddf2f633', '8d052d424b6573e26e804606b8e43be7']\n",
      "['12716a85b77d0d0f0cf5dccff6317253', '4eba3dfa9f0ee8e94c38a36da7d8f10d', '1439ea86dc88c9542232814ffe16992e', '71ca560c793d38fcd40f0e63ddf2f633', '60ef59e5b83a5a7d0805e492a3942d41']\n",
      "['df4ecc2f71f3ef02883430cba68cc591', '78212f6449649cd1b85907bc701b88c5', 'e9df86bc56dd48cb89b1641cc0ada763', '748b3b744fe575b9147d022be0e07478', 'dd35ee950ab4037c33bde6e465ee5319']\n",
      "['b0fb36c7f12adc98a8c7cdcd75b0de97', 'aba9b6e2e6091c26b8227b7c4cd990ce', 'aaf67f830998771101f34d7648c76fd5', 'c0150a4576ccbbe86a9d6c3a18f446dd', 'ae85f0b652d2e9873ee0732aeceb69f1']\n",
      "['b0fb36c7f12adc98a8c7cdcd75b0de97', 'aba9b6e2e6091c26b8227b7c4cd990ce', 'aaf67f830998771101f34d7648c76fd5', 'c0150a4576ccbbe86a9d6c3a18f446dd', '9b8337475ccf236736ac63d158d755d9']\n",
      "['27f8d1e1328f8eaafb09961ac60b4145', 'e61e971e54974d3062877d7a46209be3', 'fd12dfc37c5c266baa15ead4d682f4c4', '8fd9eca0f4a3272e7b5fb2a481ea488a', '46ee2765d61d102a688b65b79a58a095']\n",
      "['4aa616566f19af590128e7d426f7af28', 'ccb3cc91701352526caba0b6583622b6', '6ff312475689738bb3561ab5992f91e4', '7c315f4808dc099712281e390e1bd3d3', '5dde7b96adc66e13000da499038cef21']\n",
      "['65152885e104953c2b53b85c39c9edc4', '02c023791d92976fb6fd0dc06faaae42', '99c95c07a487f118cd4a8605d5b576f9', 'b1e8e8cb884ac428c13be903b66c42ea', 'bb217b1e5a9826c908f263aa32692729']\n",
      "['6ff31ad59306f62e97f683962673cc69', '9976dfaaa875858e698666382628fc41', 'f310b310c6a36b2f4a539aada119399e', '5084593408d9607d155c97c938ceceaa', '8e5bb960a2f52be8e77f60a6c3c1f48c']\n",
      "['6ff31ad59306f62e97f683962673cc69', '9976dfaaa875858e698666382628fc41', 'f310b310c6a36b2f4a539aada119399e', '5084593408d9607d155c97c938ceceaa', 'f97228e14a7e94171f7e2acd6ba317f8', '69491897dd54cb84c16bdd5bb6adb095']\n",
      "['2a10cf1531efb38737bb211086b083a7', '29dfd07e6d2b570837447995ef5399de', 'fa9d4912bbc88c4a4478ec95a71bab9d', '16b82b168076add2dac3c644488db264', '8797e6e411601292ce2495032f097438']\n",
      "['ddb9cc4b05a2c638c2eb5471c605e193', 'c7960633427c555e8c2b9b28f560b298', 'a520cb37b7d7b23014ed37f49dff855e', '8d75083390206bd8bac41616e5ff1df9', '7028919c4b6eaa4fbecc836d72089d2d']\n",
      "['df1870a60ebff204cdbdcb51b988b43f', 'e9fd34f34d6426927feecea90eb84440', 'ada8d4e1a17708b0050d99adfbb3a446', '63232c50bd464e3b17b475a033d745bc', '054f3433b47c72b55263937c6c2e95a8']\n",
      "['df1870a60ebff204cdbdcb51b988b43f', 'e9fd34f34d6426927feecea90eb84440', 'ada8d4e1a17708b0050d99adfbb3a446', '63232c50bd464e3b17b475a033d745bc', 'c3c4f9560817672d7fd079ce61fd379b']\n",
      "['a408311cba491094c251f4edb9325d74', 'd6c0103d3301240290f4e42fe854c1c4', '294fd9fa3f8661f848cb54f79c105aa9', 'f1752dca36730b42055b7738a8a3f5de', 'df177ff62d0367a9b4e64976ac70619a']\n",
      "['09560ff4ece6712c99c34986be008540', 'eb0cea61a0066335c3da3b1b7d069010', '6a311c3728f5125caf7d93646c050696', 'd6a5047bd27b85e958960af98a902fee', 'd655cb0dcd07d2e8085fbf3129ef03e5']\n",
      "['c936250b8f3f7676f85337ac42161cec', '629f6cd7b424483264294350f8d2f1b6', '8d0f786ea7660859002b62c93f8f57d2', '34014fd0c6a7be43c5d7e6f359f6946a', '5cee3339eb0a346249ce9c509a44be26']\n",
      "['106bd4601a63fa0180c888d65bbc37ac', 'f568f100d46b17620906f5a02017997f', 'b7849144839684a899fc38f436ed32bf', '2bc0868b883e6932bba0960d1bc68b13', 'd8f32525e2477df432d74545982b99ca']\n",
      "['106bd4601a63fa0180c888d65bbc37ac', 'f568f100d46b17620906f5a02017997f', 'b7849144839684a899fc38f436ed32bf', '2bc0868b883e6932bba0960d1bc68b13', 'b29fa8106d07e070268eb1f180db4411']\n",
      "['5d25a7e23f93f8a3af1f5cd8cf7ab423', '787b49622bd92dfc6fc786b88db5ed6a', 'f419033a2d92a7682ce9340f77d750ab', 'fe2800c6a304eeef08671ef67dec53ac', 'f98ecfc228c41c22fd1e50d035e1de55']\n",
      "['0cf214db5c0f217886205c07f6069481', '67f18c47b36cc454715da4900cefb4db', '9a3dee76b915cf2018d0e041b301920e', '199886fa60aae043fca0e9858ffa8fe5', 'f467a01ee72f1c9ab0195b1305169d7d']\n",
      "['56a57a6d42c2b6eb66ac4e6a87e9f8ed', '0b47ba40921eacef4b944be49e775f30', '34051e2b5dc26c3cbd1907213978b2a7', 'f4206dcae57ff31ccbbeba81cd74d56b', 'b36df07d1e2b2db14c2f95e15bfca8b2']\n",
      "['4eaf3972aff719d6d61620c183361f9e', 'ce1759280608ec6ae4dd3574b146532f', '5d34dc3b6b642cc9ca3dc89ee4216f14', '446f62390db6fc3da239bfe0d8f97dc6', 'cd9e33962409db9d84bd0308609c78c7']\n",
      "['4eaf3972aff719d6d61620c183361f9e', 'ce1759280608ec6ae4dd3574b146532f', '5d34dc3b6b642cc9ca3dc89ee4216f14', '446f62390db6fc3da239bfe0d8f97dc6', '064f09e89d4e4f34ae8dfa24df55c428']\n",
      "['4eaf3972aff719d6d61620c183361f9e', 'ce1759280608ec6ae4dd3574b146532f', '9320ed700e34f11494706acadae626f6', 'cd9e33962409db9d84bd0308609c78c7', '446f62390db6fc3da239bfe0d8f97dc6']\n",
      "['26f2467fb59831e7e660cf55d7aa786c', '34e3847199a02e7426c8ee07d61dc6a3', '8ed3c677265a46732827b4ecfa03f8f8', '9d2fcbb4ab9a0806329cec3d154153af', '40de563f2d4d154ef7e7fe333216f557']\n",
      "['dccac076a8f5ab6291f5c4b6508a9709', 'fbb8a618c8096a98484c21834166175e', 'ff0a64762e2321ca054f3df42b827388', '16c9e827cf1990955a3d8bc5f6a60778', '1c11cc31a348939162df2a26c0a49ae9']\n",
      "['dccac076a8f5ab6291f5c4b6508a9709', 'fbb8a618c8096a98484c21834166175e', 'ff0a64762e2321ca054f3df42b827388', '16c9e827cf1990955a3d8bc5f6a60778', '24d02b47d2aad0e1ca6e28ad02440d20']\n",
      "['dccac076a8f5ab6291f5c4b6508a9709', 'a96d501687762dfac0e00bef0fdf301a', '25db6e0f515984ea3991dafcf0754b81', '39e178fd9edcc3d746335f9c81247b73', 'eaaeb7046b928da9ca22272df5c31f24']\n",
      "['ff21b8ddbda1cbbacd2df75ace2fe9de', 'd8c9e984f59e815f3e1f323d5bb08419', '19f0025fe374a53108ca1e479eec7a48', '8eb749fdd2e2e6e685e21cb5c6baef61', '836bb8fdd729fc100e5d6aef29a686cb']\n",
      "['67e91b694afc8861a42250473720d4c0', '1e78a7cfe90993e0a6c5da802a7f907b', 'cd4dd5237c37ab64dd271091003d1ca8', '3a946346c924e00ba231f9eea3c97b06', '6b415d92c4b502caa9623dd3b33dc49e']\n",
      "['9409f6bade7254123634a2dc0f6a1b34', '6e450f7a313693c18578ea3f414c07db', '626b3b7a666c4b89fd9f24f27038828b', 'c53341ab249d5ebf4b2314fa21390b86', '5dfd4450617cc193a117e2402c1a03a4', 'df3e10725b710eb05df8392b280a3eb5', 'e594d9698858241c3f5ca094a3084dc1']\n",
      "['b5daf0282c1509f7d43d9bdb4a23d2a3', '3ed4129e55627d4dfebeeb090c80ce71', '12fe6262730f4a80df626fc4341e2bc1', '8861714859888ff2916b779dcf090447', 'a2b0fd59f5d4769daf9b2d019a4db3cb']\n",
      "['aa3d1d9493e3819ca8cde45c0c10ccdc', '75cf057cd4972d4bc04781d4af4563f5', '8e43dd386d6cc5c6e3d2b36ac092cf07', 'a5ef372dcd437bf6ff7c014a19ea4912', 'f086907994ce42f152145aa6e65ffbf0']\n",
      "['ebf3c39f1f247b8f7550a641331d9433', 'f62c0a0bbf14f100084ea6ea86601c87', 'b08dc416094fb9ea33d764c130fba779', '8b2364f538460c4d1d4810c0a1a03f11', '6583e82f2ed4c5359b493e84bd4a8d8e']\n",
      "['ebf3c39f1f247b8f7550a641331d9433', 'f62c0a0bbf14f100084ea6ea86601c87', 'b08dc416094fb9ea33d764c130fba779', '8b2364f538460c4d1d4810c0a1a03f11', '38a0d3cc2c6adf1d353a501abe5e3a9c']\n",
      "['e77a234204c5567b82836df28b9e906e', 'd4cff5326c35857fabd15b1d6b77d1b0', '5bb1596fb35b272bcdd6673631fcecdd', '7cc699e0d7da64ec0278d8c5bd3364e2', '321b8700bde0d9fd94ac0bad7a7cf899']\n",
      "['e77a234204c5567b82836df28b9e906e', 'd4cff5326c35857fabd15b1d6b77d1b0', '5bb1596fb35b272bcdd6673631fcecdd', '7cc699e0d7da64ec0278d8c5bd3364e2', 'b9f7d528d7bf609b7b42e3a5cea4efe8', 'ee3fa86762d9554963365b3da6f88fb7', 'b71be133bf912fb42c918b0e4255fe41']\n",
      "['e77a234204c5567b82836df28b9e906e', 'd4cff5326c35857fabd15b1d6b77d1b0', '5bb1596fb35b272bcdd6673631fcecdd', '7cc699e0d7da64ec0278d8c5bd3364e2', 'b9f7d528d7bf609b7b42e3a5cea4efe8', 'ee3fa86762d9554963365b3da6f88fb7', 'ac44bcae0e7493c75bccca32252b89e5']\n",
      "['e77a234204c5567b82836df28b9e906e', 'd4cff5326c35857fabd15b1d6b77d1b0', '5bb1596fb35b272bcdd6673631fcecdd', 'ec8372fbcf9b279292dcbc8e891c4c65', '321b8700bde0d9fd94ac0bad7a7cf899']\n",
      "['e77a234204c5567b82836df28b9e906e', 'd4cff5326c35857fabd15b1d6b77d1b0', '5bb1596fb35b272bcdd6673631fcecdd', 'ec8372fbcf9b279292dcbc8e891c4c65', 'b9f7d528d7bf609b7b42e3a5cea4efe8', 'ac44bcae0e7493c75bccca32252b89e5', 'ee3fa86762d9554963365b3da6f88fb7']\n",
      "['35e3aa7de14fbef468337099cebbc1c0', '1b9133070444e6955287109c9763c561', 'a39a85f410bcd248029a2160d730b038', 'e6514877557b8fc8569cd17e135a9098', 'c770751ca454113a048583fc5588aef6']\n",
      "['f253e421f53b8ba0919dfb01f5d9c567', 'bf0b6d56e178b0dbd70a4ca088b8adba', '632850eebde47ed574cd130e8bc1e6c1', '28c297ae9eca487c4543c58a14f6466c', 'e37c35a6008d1b47ca12fb1ef98b1731']\n",
      "['f253e421f53b8ba0919dfb01f5d9c567', 'bf0b6d56e178b0dbd70a4ca088b8adba', '865a64b7ee9fba365dcd95ad019944ef', '28c297ae9eca487c4543c58a14f6466c', '39ac8a874a417986393601a2bc7b8a13', '51417b1246d82c8beca17a835c9ca8a2']\n",
      "['f253e421f53b8ba0919dfb01f5d9c567', 'bf0b6d56e178b0dbd70a4ca088b8adba', '865a64b7ee9fba365dcd95ad019944ef', '28c297ae9eca487c4543c58a14f6466c', 'e37c35a6008d1b47ca12fb1ef98b1731']\n",
      "['f253e421f53b8ba0919dfb01f5d9c567', 'bf0b6d56e178b0dbd70a4ca088b8adba', 'eb45fe9c7fee127c9a0179bfb8a30110', '39ac8a874a417986393601a2bc7b8a13', '51417b1246d82c8beca17a835c9ca8a2']\n",
      "['f253e421f53b8ba0919dfb01f5d9c567', 'b84a15b8b62a91fdb1c383863e38a77b', '632850eebde47ed574cd130e8bc1e6c1', '28c297ae9eca487c4543c58a14f6466c', 'e37c35a6008d1b47ca12fb1ef98b1731']\n",
      "['f253e421f53b8ba0919dfb01f5d9c567', 'b84a15b8b62a91fdb1c383863e38a77b', '632850eebde47ed574cd130e8bc1e6c1', 'e241eb404504027b2f6cc5760649d4e0', '59bad33d4adb470e0e0dd742968ac3c8']\n",
      "['f253e421f53b8ba0919dfb01f5d9c567', 'b84a15b8b62a91fdb1c383863e38a77b', '632850eebde47ed574cd130e8bc1e6c1', 'e241eb404504027b2f6cc5760649d4e0', 'e37c35a6008d1b47ca12fb1ef98b1731']\n",
      "['f253e421f53b8ba0919dfb01f5d9c567', 'b84a15b8b62a91fdb1c383863e38a77b', '28c297ae9eca487c4543c58a14f6466c', '39ac8a874a417986393601a2bc7b8a13', '51417b1246d82c8beca17a835c9ca8a2']\n",
      "['f253e421f53b8ba0919dfb01f5d9c567', 'b84a15b8b62a91fdb1c383863e38a77b', '1b90f555bcc4cba5ac266bfc15b9e413', '59bad33d4adb470e0e0dd742968ac3c8', 'e241eb404504027b2f6cc5760649d4e0']\n",
      "['f253e421f53b8ba0919dfb01f5d9c567', 'b84a15b8b62a91fdb1c383863e38a77b', '1b90f555bcc4cba5ac266bfc15b9e413', '51417b1246d82c8beca17a835c9ca8a2', '39ac8a874a417986393601a2bc7b8a13']\n",
      "['f253e421f53b8ba0919dfb01f5d9c567', 'b84a15b8b62a91fdb1c383863e38a77b', '1b90f555bcc4cba5ac266bfc15b9e413', '51417b1246d82c8beca17a835c9ca8a2', '1d3b5c40819f3de93989ff155071dbdf']\n",
      "['9ace078d7fc7afd3354b5d1c849c09c5', '17fd4f55a9cba1866c4a1564ce670a87', 'd4a2f229dcb7b2deef04b18deda82b4f', '3e1defffc7f7786a0e46e9dcdb266670', 'a0a82a40b9f2c5ee24beeb55dbe25c1b']\n",
      "['ae5cfc78ec0aeeec543f66b9d6cb596d', '8f168d4e241d083d50c592129ad0a12a', '6b8e15d1ac51b2e762a20c5c73da1db4', '1f6bd05bfb6c8848a0412bfc9bc1dfec', '962f05481d79ab506296caa9210ca5aa', '23f002baefc16cf035cdbbc44c9283c3']\n",
      "['60d81ab07cc41fa639062fa4f09b7c0a', '44991c96c18cf90f1c221745ec344de0', 'aa30668c3d4a0e6a81af3124861b349b', '8d33d8190701af3fde329834d56439a1', '78e344e31b30ad3a83db5dcfcb6c81ae', '9d2fcbb4ab9a0806329cec3d154153af']\n",
      "['a812e885ea9de3315ae16cdae175137d', '8c3b9180dcd72d8c384d01876d1b6849', '6145efc3d32730929cb3ecbadfe6efd3', '73cfac10075d132d82e9b910c81fb620', 'c1254391e1aa2d0ebc5ce951beff155e']\n",
      "['a812e885ea9de3315ae16cdae175137d', '8c3b9180dcd72d8c384d01876d1b6849', '6145efc3d32730929cb3ecbadfe6efd3', '73cfac10075d132d82e9b910c81fb620', '5e52ca1e6e05f829d3c7ceafc98e02e3']\n",
      "['4aa790c760a4e62534be1c7bb302d5a7', 'c3a48cfa7e7a298a9b391264c34a3063', '6364fd78f0845c95db9072ad2bbb2f92', '4c4274415874629b7592bfca047ce4bf', '7c2dc7ddb7cc697ad23b8edbdb47048b']\n",
      "['e9fb12d75f1be8afc5c9b5ea0f7b9e26', 'f182493a29dc358d36a685db8adb04f9', '90141dd4759fe29f006d8ad61c9f7de2', '65031b184588d5171a6fddcc2f45bd4f', 'e6c6ca6ff433bf759381fdfc5b481378', '08ae9d71b590f344f0903ea77964ac1e']\n",
      "['e9fb12d75f1be8afc5c9b5ea0f7b9e26', 'f182493a29dc358d36a685db8adb04f9', '90141dd4759fe29f006d8ad61c9f7de2', '65031b184588d5171a6fddcc2f45bd4f', 'e6c6ca6ff433bf759381fdfc5b481378', 'b4113fe4892645ed7d56f6e0169de668', '0c78bbe9c925657f624394ec8eb19867']\n",
      "['027f0e0ea501882739d02ef7d4024dcf', '150045f3d46e1a2b0a74577e77f45f89', 'afb78d2440cbdd50c31b7cf09666d12c', '2fc12b740929544895de046dcd00e77d', 'b8640bdc5f4323e51ca949673ea51958']\n",
      "['027f0e0ea501882739d02ef7d4024dcf', '150045f3d46e1a2b0a74577e77f45f89', 'afb78d2440cbdd50c31b7cf09666d12c', '3e87b08b97e68bfc5e597ae55d8f8c58', '1c2f97fd5137ee27748b2afd2f7a2d8f']\n",
      "['027f0e0ea501882739d02ef7d4024dcf', '150045f3d46e1a2b0a74577e77f45f89', 'afb78d2440cbdd50c31b7cf09666d12c', '3e87b08b97e68bfc5e597ae55d8f8c58', 'b8640bdc5f4323e51ca949673ea51958', 'c4ddf33dd099bb24aa322a7c358071b1']\n",
      "['027f0e0ea501882739d02ef7d4024dcf', '150045f3d46e1a2b0a74577e77f45f89', '2b0e4ace7fb5ce5197aa6a70a4481e98', '3e87b08b97e68bfc5e597ae55d8f8c58', 'c4ddf33dd099bb24aa322a7c358071b1']\n",
      "['f3a4959612c72651732e5f31b451d849', '5dde7b96adc66e13000da499038cef21', '6ff312475689738bb3561ab5992f91e4', '3347233cd222ee25812465dfebc21490', 'a04523e624e4c5e2197144e658f7a2b2']\n",
      "['b42bc7d667b046765c289bc73fd9e67a', '9ac410cb408f95d6b772dcd24187bef2', 'e158b1b7b4f2cc88c4ca3a1982f2fed0', '6e549d376485c23353d075fec18008a5', '6782b1d6886d06aa6c264178cd2facfa']\n",
      "['5893b94a40f50eb2aed298147f110963', '1614177215bdd42f0a2fb00a4d670a03', '058b7211e8be7fe33d63d65b431fb4a5', 'd27911dbdcbb45d2e304a43354068be9', '8884135d38bedddc6554c802686eb889', '72fef8e39b4f44a948e783dc9862c4d3']\n",
      "['63b2c4527d7255def8ef70fc33d13594', '0ba540b1f9db30520756933a6f53317d', 'a6169ed79acc81ada4d315825b90b660', 'e2e7f2a9857528743cff6fdc3e656ef9', 'ed77211223e91db2e9a7e9ae5083247f']\n",
      "['1af96870afba6a74165999ac245e0a3c', '04ff358e6219ceeaa6e26467e3707a65', '89f8aaea0c28cacd567acf9d6516631f', 'e213b75c8863a1acbff73c456439b0c3', '30b3eac3a99eb14f2c37bd4f01d6eb6f']\n",
      "['47a3abc92b9399d03853730cc926470b', 'd708d2836f4fba984e3c120098e11023', 'b38ce432570ab151ed419ca2e0c9dcb0', '17823961409f85c824b27708990039a4', '7e35cd9dae0a61f7b60d6fd0ae9e895d', '0982c0dbcbde0e4908443f76d26370ae']\n",
      "['02c023791d92976fb6fd0dc06faaae42', 'b1e8e8cb884ac428c13be903b66c42ea', 'bb217b1e5a9826c908f263aa32692729', '99c95c07a487f118cd4a8605d5b576f9', '71aa2e1f9f7f8c074bd4ce52be12d07b', '5125ed45fcdac8465124c3595328e570']\n",
      "['02c023791d92976fb6fd0dc06faaae42', 'b1e8e8cb884ac428c13be903b66c42ea', 'bb217b1e5a9826c908f263aa32692729', '99c95c07a487f118cd4a8605d5b576f9', '573f289623a1c4a358b9385a418f0af0']\n",
      "['02c023791d92976fb6fd0dc06faaae42', '9c1a6456b4dcb79dc6ea3418974d551b', '99c95c07a487f118cd4a8605d5b576f9', 'bb217b1e5a9826c908f263aa32692729', '5125ed45fcdac8465124c3595328e570', '71aa2e1f9f7f8c074bd4ce52be12d07b']\n",
      "['02c023791d92976fb6fd0dc06faaae42', '9c1a6456b4dcb79dc6ea3418974d551b', '99c95c07a487f118cd4a8605d5b576f9', 'bb217b1e5a9826c908f263aa32692729', '573f289623a1c4a358b9385a418f0af0']\n",
      "['02c023791d92976fb6fd0dc06faaae42', '9c1a6456b4dcb79dc6ea3418974d551b', '99c95c07a487f118cd4a8605d5b576f9', '8e0b0023ffd2470621024b62d965477e', '71aa2e1f9f7f8c074bd4ce52be12d07b']\n",
      "['02c023791d92976fb6fd0dc06faaae42', '9c1a6456b4dcb79dc6ea3418974d551b', '99c95c07a487f118cd4a8605d5b576f9', '8e0b0023ffd2470621024b62d965477e', '573f289623a1c4a358b9385a418f0af0']\n",
      "['e0a46059631f2c41456a8ed777d6e0ec', 'dd723b5a365b2c90831b0b69325d555d', '9d8067bba446215d3c4461e5578bd17b', '3bab618ffb60047daebb606ea7cabbc9', '152b8ae9a2e34808adfa96d247922f44']\n",
      "['e0a46059631f2c41456a8ed777d6e0ec', 'dd723b5a365b2c90831b0b69325d555d', '368b741e00b2a905c6dd484c1bbe9f27', '84076447538f14beea0b2f14bffcd899', '6469caea11970b7a0f50b1875d3b0efc']\n",
      "['544056a23557435497c08d5858edbc1f', 'ac51af64dd9679f188f9c91e76ebca8d', '077649e141b56ddf09fc9731d8d7969d', 'e859bedaa34abf4205ef2646cb671ba6', '450d8f16d8415d33758adcc340ef69b8']\n",
      "['ec693cc6d0dccd74ec009aebbf1fe656', '4f572952b379ca3a4c9d2a21885caad0', '7cd2a187d1c019498119bba6deeae14b', '8ca8273051390d2a2eb1d3f849c78756', '73ed7bbffc679bbe81bd0ff27bb4e781', '03a9fd422f2f2e54144b6adb54dd1da8']\n",
      "['18f034c62c8b4467f9ce36dbbe4c063a', '58fe9e0686813b5077c6951bfdda3f69', '17fe502debda9d9ce350d24b5b8cd66b', '55197adc1699c6b57e3d8f72a465e5d3', '521b7803f2823d6451a11fc07ca51b2a', '2a41dc1b7593c44c04b0cfd868c84b22']\n",
      "['ad7df1ba060bf01e66023b70267cc364', '25003bc9c39295432fb67a73c9ac7c4f', 'd08d522365d3c50b527bdfb2225e258d', 'faf4d3519672c36d6f7fce0cb657c014', '50e11a4cfa33774c08e014fff5ca537f']\n",
      "['c08f9b6e2b2238a63c69f54c4c9b040b', '68eb7373393f1db0241594d71b4548d5', '8cf3f4b27bf04087770ce7199d6484c8', 'cff7f017cac8cbe9db6b9602e4bc6246', '7f14d8fa912c2a70937616937c52108b']\n",
      "['5f99b3b9ca1cd694776e31287d8dcaea', '83b24dd82022acb90e536e7b95da9d6d', 'a9ea97b7b4070a328247179bd2165d5d', '55f24209730ab0c9db4fdb4478231a19', '3152b881964773a3bac38179f7246e0d']\n",
      "['f43af422727c2907c1d7d229cd56d198', '393b8e3ed72cafecf9c06be34c8852dd', '0f78ac593e4edd9640528813985c46d7', '93dc096cfd216cf1b7894a0d160433bd', '76d5ddbe5b96c0b40597c6931ffe263b']\n",
      "['aa641ad2e964dd8ae0dee2af99fdf92f', '60d358fd828eea09e46ccc3c82f1287d', 'dea465219441f859b02cda53a686ff38', 'd41a0315336a42d6e0a68291900efb4c', 'd00c9dac0af55c58a600dd1b32dbfd48', 'e4757aa2c6bcf3fb2f8d98e97a4f7f77']\n",
      "['c43b2af13c188c14c584a48e114fa2eb', 'b2c447effd2c0f4771dc34ad423a0ddf', '440601d7daf09b419a89c9547ff7479a', 'b5ca1ae503afbda62b6e27bd6633afd8', '2933634308a4f98d0f52e1e5a088c642', '0a7fa1e781c608033d1d24deeff53559']\n",
      "['c43b2af13c188c14c584a48e114fa2eb', 'b2c447effd2c0f4771dc34ad423a0ddf', '440601d7daf09b419a89c9547ff7479a', 'b5ca1ae503afbda62b6e27bd6633afd8', '2933634308a4f98d0f52e1e5a088c642', '8904ede5dbe12fd8d278746852875326']\n",
      "['c43b2af13c188c14c584a48e114fa2eb', 'b2c447effd2c0f4771dc34ad423a0ddf', '440601d7daf09b419a89c9547ff7479a', 'b5ca1ae503afbda62b6e27bd6633afd8', 'f4e278ee546aaff343430228fde02be4']\n",
      "['c43b2af13c188c14c584a48e114fa2eb', 'b2c447effd2c0f4771dc34ad423a0ddf', '440601d7daf09b419a89c9547ff7479a', '272353e4cf861754ab753975015bf0a7', '8dc833756ff4aaf556b6742082c2c30e', '8904ede5dbe12fd8d278746852875326']\n",
      "['c43b2af13c188c14c584a48e114fa2eb', 'b2c447effd2c0f4771dc34ad423a0ddf', '440601d7daf09b419a89c9547ff7479a', '8dc833756ff4aaf556b6742082c2c30e', '2933634308a4f98d0f52e1e5a088c642', '8904ede5dbe12fd8d278746852875326']\n",
      "['81e998ab0b65f0b626bc6190a8a252be', 'd6f32b54bde703450f9ac10ed63561bf', 'a414ad9df65b05aa18ec020b1b626856', '368b741e00b2a905c6dd484c1bbe9f27', '84076447538f14beea0b2f14bffcd899']\n",
      "['115e8b7e1cb391767153c851dd4b279e', '8ed3c677265a46732827b4ecfa03f8f8', '40de563f2d4d154ef7e7fe333216f557', '136516da37424dda702474fc5f94651f', '9d2fcbb4ab9a0806329cec3d154153af']\n",
      "['93ea7327d608e1c6743f4522f9aa5df8', '5d6d93cabf9580a473a6b4042fd579f9', 'a4f82a97601a605e16f3dd76ad28e737', '7cc7d02c807ff70a310047ec49b91256', '9e6163eb6b9e14659d227f3ed795e0f7']\n",
      "['b40811eb57570406de17401276f6aed3', 'ae83bd063423da320acdeafe6a786dc3', 'dd943a81d960d673f6ac3cbb6cfd4329', '3a6d969782816a34291122002a6c0345', '6a7c7a17b0e76bdb76b59d1527c7c7ed']\n",
      "['d1a699ca09ad3e26c2dba21753ae46c5', 'c64d0a43990d18eccfda3781b31cf0fa', '2f5025125820fc25b9dc1440a31e689b', '3b398e60c2468bc96136f580173236bc', '7b1fe9dac4d26376c2e55897f591342f']\n",
      "['d1a699ca09ad3e26c2dba21753ae46c5', 'c64d0a43990d18eccfda3781b31cf0fa', '2f5025125820fc25b9dc1440a31e689b', '3b398e60c2468bc96136f580173236bc', 'd7ec1c3ab730f2e7c237e93067008256']\n",
      "['848ae52b9621121d54e137e3d40ea3a1', '94f09303d80139a37766d94737c42f54', '2dcf0d9ad14d8d02a34ffaeb405e07de', 'bf75c8f7af4fd31f15238df883f955bb', 'ecca08f8498c81884def7edff839dcbe']\n",
      "['6f17fe96db85f2c459a37abd071597e2', 'ea0e23a5434e8435f5f4c285ec610571', '2d499ecdda164682e5aa8e14e5a7c285', '9d90979ff8fc42b69825594d96f800c9', '2c914914f2a91c862736f316c9f54684']\n",
      "['4b2ef2f72812b34aae6d345c5cab045d', 'a03373d4ebdd96d33f26ece3a041d21a', '157a7caa819f596cd4e30c3db8d00d58', '8a22ab965d9e2aab5b122c2ac76b4b74', '1a4808e9f4f52490fe743c1438dab9f8', '9639c13d029eefd7230bb6e61f30da86']\n",
      "['4b2ef2f72812b34aae6d345c5cab045d', 'a03373d4ebdd96d33f26ece3a041d21a', '157a7caa819f596cd4e30c3db8d00d58', '8a22ab965d9e2aab5b122c2ac76b4b74', '7b192a9a72d7ecacfc577be88970319d']\n",
      "['5c85872520c82dcc55da9e8e891d253c', '037fbfd56f15df1204ef1959c3955b4c', '43d5a6153cb431d63a127f57e64bc3f0', '78fa28395b1fdbb80508845ab2906896', '1b458562a326f1453c54392d0d9e8737']\n",
      "['5c85872520c82dcc55da9e8e891d253c', '037fbfd56f15df1204ef1959c3955b4c', '43d5a6153cb431d63a127f57e64bc3f0', '78fa28395b1fdbb80508845ab2906896', '8f09d7f424246076489c41ae4ebeff39']\n",
      "['40bc7a8e5a770584a3b981b6edc904a3', 'b776baed092b250a1dad190395f79fa1', 'f268503f7d6ce778b103a21cf40bf63c', '3c30d288d325f488464544075c8cf003', 'c797724d93178b7274e3811ab05222c5']\n",
      "['0712c36c475d4d1a4edbbb85cc38653b', 'dd0711940c9fc2dfb078de169458093d', '6ef4b81725a578825379c6580f26d031', 'd1351e93426f469adc5be6741e62f101', '01c7f0ad67fcfa7aa2eec3a860308195', 'd2d5fb9a5f6e878b6cc852b9e73e8cfe']\n",
      "['50ee200b1bec04cd66f85e65310eae16', '6cd494547f389b7310a3ad7ad0258316', '02106c10c9c8cadd9dd970de8aced180', 'fec66583df8251b2261c2a42800316fa', '449d1bfb2de70ccf8badd8a999a207c5']\n",
      "['cb76893212054f26bfd04388e38f4518', 'fe360ebe3514ad5c7383ca37ed976cc5', '1342cb4445867c0ec849cdff6af57598', '272955646b13c80862dfea88fe8647f9', '9e8f5c310898af98081c38a7dce21fee']\n",
      "['cb76893212054f26bfd04388e38f4518', 'fe360ebe3514ad5c7383ca37ed976cc5', '1342cb4445867c0ec849cdff6af57598', '272955646b13c80862dfea88fe8647f9', '4f18177e20e730697a3546e4a5067f6c']\n",
      "['a891db79148828cd5ae83181a4b8de0d', 'c8085797ec41c77d91618c6e178693b8', '0db1b53e33fb306eb67ab1292539be4c', 'b378027cfb21f04973201a77cf3b3ecd', 'ccbe82df517265274724b47be5365955']\n",
      "['953ca476e869723732aa2fa6a297532c', '06b6b23fee02a598cf13b086aad2f045', '903270fab7c54e639dcd498c3757b8be', '784306bcfc11299969a231700edcb4b0', '95285804e7aec4a403a77f29e8e1ecb8', '348c134869f68aaa2c67a53abb6cb771']\n",
      "['953ca476e869723732aa2fa6a297532c', '06b6b23fee02a598cf13b086aad2f045', 'c955ca94203e354b5def777f48f828eb', '95285804e7aec4a403a77f29e8e1ecb8', '348c134869f68aaa2c67a53abb6cb771']\n",
      "['dfc50e68f0e81d882299a00bc8ed4de4', '0a9f72efc472f93ef724f173efa6ddf8', '6241e86b76c7f21924796cf76544e14f', '075a2fd2aecfc691f77b66489fa11f2a', '6c58b9cdfb0b9d648f60220f70bff4d3']\n",
      "['652fdc2994c234f20b351825ccbb0498', 'a57d233cdc6f176fc802132aed7a01fa', '7f00d1fbd848b444411807b21f7ef769', 'd83aaaebbd0a7f4043e9842f3f1d7779', '4f3ab2af7f549d8e5890b9f3a37ad62b', '1820f73d26c94ee2436eed5d2b244331']\n",
      "['9d1ec9db46b4f408a0fea01222eb7066', 'b7b2e45074841640180a22011f736c00', '681f3ec2a9b1f3f7d6b65fb89bff0c2d', 'fec360cafca48e3d77235f7597807538', 'a422a018f4afd88af49d4b6ccda86a66']\n",
      "['6ea63fcc9a8ae74a6639a5fe911947f5', '3cd227180495a24bb5d29c2a6375d2ec', 'ac2b1c892f64110f861830bdf94c500e', '20b031c54f0f82fb270c580a065b3a86', '5f83006fa12fc6d53f606f8b0f637a92']\n",
      "['368b741e00b2a905c6dd484c1bbe9f27', 'dd723b5a365b2c90831b0b69325d555d', '84076447538f14beea0b2f14bffcd899', 'a414ad9df65b05aa18ec020b1b626856', 'd6f32b54bde703450f9ac10ed63561bf', '6469caea11970b7a0f50b1875d3b0efc']\n",
      "['368b741e00b2a905c6dd484c1bbe9f27', 'dd723b5a365b2c90831b0b69325d555d', '849d2df5d90ad0f81f4d48663c2731c5', '6548ca5bc3c7bd6e2efff7e5dd4b241f', '152b8ae9a2e34808adfa96d247922f44']\n",
      "['368b741e00b2a905c6dd484c1bbe9f27', 'dd723b5a365b2c90831b0b69325d555d', '849d2df5d90ad0f81f4d48663c2731c5', 'a414ad9df65b05aa18ec020b1b626856', 'd6f32b54bde703450f9ac10ed63561bf', '152b8ae9a2e34808adfa96d247922f44']\n",
      "['368b741e00b2a905c6dd484c1bbe9f27', 'dd723b5a365b2c90831b0b69325d555d', '849d2df5d90ad0f81f4d48663c2731c5', 'a414ad9df65b05aa18ec020b1b626856', 'd6f32b54bde703450f9ac10ed63561bf', '6469caea11970b7a0f50b1875d3b0efc']\n",
      "['368b741e00b2a905c6dd484c1bbe9f27', 'dd723b5a365b2c90831b0b69325d555d', '849d2df5d90ad0f81f4d48663c2731c5', '29fde8d36288b175861686a2382aeda4', '6469caea11970b7a0f50b1875d3b0efc']\n",
      "['368b741e00b2a905c6dd484c1bbe9f27', '9c670f4670332d196e3cddc87c83caa0', '849d2df5d90ad0f81f4d48663c2731c5', '152b8ae9a2e34808adfa96d247922f44', '9f2ab2066595afc6996e33dcaba2f65b']\n",
      "['368b741e00b2a905c6dd484c1bbe9f27', '9c670f4670332d196e3cddc87c83caa0', '849d2df5d90ad0f81f4d48663c2731c5', '152b8ae9a2e34808adfa96d247922f44', 'a414ad9df65b05aa18ec020b1b626856']\n",
      "['368b741e00b2a905c6dd484c1bbe9f27', '9c670f4670332d196e3cddc87c83caa0', '849d2df5d90ad0f81f4d48663c2731c5', '6469caea11970b7a0f50b1875d3b0efc', '9f2ab2066595afc6996e33dcaba2f65b']\n",
      "['368b741e00b2a905c6dd484c1bbe9f27', '9c670f4670332d196e3cddc87c83caa0', '849d2df5d90ad0f81f4d48663c2731c5', '6469caea11970b7a0f50b1875d3b0efc', 'a414ad9df65b05aa18ec020b1b626856']\n",
      "['368b741e00b2a905c6dd484c1bbe9f27', '9c670f4670332d196e3cddc87c83caa0', '849d2df5d90ad0f81f4d48663c2731c5', '6469caea11970b7a0f50b1875d3b0efc', '29fde8d36288b175861686a2382aeda4']\n",
      "['368b741e00b2a905c6dd484c1bbe9f27', '9f2ab2066595afc6996e33dcaba2f65b', '849d2df5d90ad0f81f4d48663c2731c5', '6548ca5bc3c7bd6e2efff7e5dd4b241f', '152b8ae9a2e34808adfa96d247922f44']\n",
      "['368b741e00b2a905c6dd484c1bbe9f27', '9f2ab2066595afc6996e33dcaba2f65b', '849d2df5d90ad0f81f4d48663c2731c5', 'd6f32b54bde703450f9ac10ed63561bf', '152b8ae9a2e34808adfa96d247922f44']\n",
      "['368b741e00b2a905c6dd484c1bbe9f27', '9f2ab2066595afc6996e33dcaba2f65b', '849d2df5d90ad0f81f4d48663c2731c5', 'd6f32b54bde703450f9ac10ed63561bf', '6469caea11970b7a0f50b1875d3b0efc']\n",
      "['82b74b0a10510752248428b6c21ea8c3', '7f3b9ad5ad980cf3719cd13672728700', '3d19376042007ca88ae70c031330ebbb', 'a0f00b83205d99191c5250fbf1880b09', '1080386b0677a5eb30ba42adb2e109bd']\n",
      "['3366862d68297005c843c025c1bc90bd', '6c1cd1cabdc8ec125dc75bc38429b65c', '655aecef9985d2db2c9d2d0028a57489', '6c81434268de5beb0e4556b6b370fb95', 'e0c920e7f8e5cdb4212fb8663389d855']\n",
      "['4f18177e20e730697a3546e4a5067f6c', 'fe360ebe3514ad5c7383ca37ed976cc5', '272955646b13c80862dfea88fe8647f9', 'bd216bac853a3f2eb0367e189f2ac729', '407761abcd247f8e91d2349450a3cb9d', 'd5a070af90b8360a7041f0a3b4b42c99']\n",
      "['5a8b77d0c42f36dbbd5386cf0ef13679', 'd4cff5326c35857fabd15b1d6b77d1b0', '5bb1596fb35b272bcdd6673631fcecdd', 'b71be133bf912fb42c918b0e4255fe41', 'b9f7d528d7bf609b7b42e3a5cea4efe8', 'ee3fa86762d9554963365b3da6f88fb7']\n",
      "['5a8b77d0c42f36dbbd5386cf0ef13679', 'd4cff5326c35857fabd15b1d6b77d1b0', '5bb1596fb35b272bcdd6673631fcecdd', 'ec8372fbcf9b279292dcbc8e891c4c65', '946df9cb1851812a61daff985b8f557b']\n",
      "['5a8b77d0c42f36dbbd5386cf0ef13679', 'd4cff5326c35857fabd15b1d6b77d1b0', '5bb1596fb35b272bcdd6673631fcecdd', 'ec8372fbcf9b279292dcbc8e891c4c65', 'b9f7d528d7bf609b7b42e3a5cea4efe8', 'ac44bcae0e7493c75bccca32252b89e5', 'ee3fa86762d9554963365b3da6f88fb7']\n",
      "['015fa8076e3ec7f31df2f344cc6b8964', '0122aa5fb3c30c0b17ab3a6bf2a989b1', '6c546cec75d5781a2813887ed11ade8c', '7124b920a8d9fdbd6ef2aafefb494411', '00390322c70d819a9aadadc367f5e6c2']\n",
      "['c3466a97edef44f4332bfe53023303c1', 'e294d4928f089fafb69a0635419c1c3a', '29bc66a4e445aeeaf59f83860ccbea2a', '0916391b5d780c7c06a6551099a6235c', '844bed0e7a7a40bd2a2a5c6b120d771e']\n",
      "['51cdc80e805bde6f29d0479a4e32804f', 'c8d2f5e818c2e6e6ea8cb0cacadf3357', 'ddb7e9221768e86c407caef66361e6ec', '83c81f6d5c013ba0061ad9e0dc056eaf', 'fbf3ea3b6d7757b2ae050f476c608697']\n",
      "['80e2553a59b1e8614d656b2b0437ace0', '79ec5903669fac7aa8c39745e49738fb', '9528a263aaa8dea6daa74e343e525c43', 'd8e008c7744835bc2e4d6151f9765309', '86a10376220607cd66c81ab6e1c70e49', '097bf5fd3b5ef8d5397b6c07099f3336']\n",
      "['80e2553a59b1e8614d656b2b0437ace0', '79ec5903669fac7aa8c39745e49738fb', '9528a263aaa8dea6daa74e343e525c43', 'd8e008c7744835bc2e4d6151f9765309', '8e55d5ff0a1fcf155c7700c424c41e3e']\n",
      "['80e2553a59b1e8614d656b2b0437ace0', '79ec5903669fac7aa8c39745e49738fb', '9528a263aaa8dea6daa74e343e525c43', '6bff82cb36c68e98fcce1abf429d7afd', '86a10376220607cd66c81ab6e1c70e49', '097bf5fd3b5ef8d5397b6c07099f3336']\n",
      "['80e2553a59b1e8614d656b2b0437ace0', '79ec5903669fac7aa8c39745e49738fb', '9528a263aaa8dea6daa74e343e525c43', '6bff82cb36c68e98fcce1abf429d7afd', '8e55d5ff0a1fcf155c7700c424c41e3e']\n",
      "['53ecd68ab5dfb415f569a2267c64e930', 'd1741194c4f312a1d7d3a41c2fc2413b', 'cbae811b0af5b51c0836fd0f87f85644', '9ab5f320bb397c38aeb87ccb1f9b3f5c', '4794a30003c9bcdf1e9b07c4275f50bb', '93227e72812a6c7daea34f675155918a']\n",
      "['63a3d4fa14e994f0d1fb09de2ad21962', '27c2ddd0366e9ea85e21084f47b751e6', '4c8132b12ae30e128fb583b392297fa8', 'cfa60aafa7859993490074e0d6390fc0', 'f405d331236124badf02fdd4b92e8d50']\n",
      "['6248d0ed917453415096a1b961f0f1ae', '3dcc847d02e357352f501e616e47eb07', 'd25d3181339445c93ce685ad6eb9638d', '9dc8bf4e9e9eb3c5bf69339293377656', '4d8821ece629b80682614ccde8d68261']\n",
      "['16127f6dded947edc91f278b1d5896ce', '587350cfc73806e081274cbfd7bff6f2', '5bb1596fb35b272bcdd6673631fcecdd', '26e8dbf99ff7ba1a0701cebb93088198', 'd50143e5837c2fe84a0de23b1676931d']\n",
      "['c061266c10c267c116637667c072d8c5', '2cd651a0f54083bfc63256133e51a2bd', '50d9290a5b798b990c4e83528efd51bd', 'e40c3ef4c0a722c2741cada4a5e5a6d8', 'f881c091e27d69ba64f20ff303fd6294']\n",
      "['9f2df71855ae1cac14f59f9254541011', 'fd38fbb4bdcba6963f9e3f084adf19b1', '38118a00b326272da2c009648c9550d8', '7841227a33dd1903f1b5a42a2fe8e870', 'b8617510bd55598bd9260d4d23e04b6e']\n",
      "['9f2df71855ae1cac14f59f9254541011', 'fd38fbb4bdcba6963f9e3f084adf19b1', '38118a00b326272da2c009648c9550d8', '7841227a33dd1903f1b5a42a2fe8e870', 'bc6b7a5cc55aa3466911d79f8d430341']\n",
      "['295ae9ebf65fc80c78c071707cac3170', '66129664ca6ee367e541e3f43127dd96', '54826c7d8e56ffa2ec626546008b16e5', 'b854f2c3f2ef355e7e8036039c4e4fbd', '2c69d58b15607c71ecce6bb4ac252b38']\n",
      "['68d311477bac1e2064944a141f836919', '05e7968aca28c7580c7cd5b281ff6a45', 'd5d065cf9e56e9f7ee2ff150f622ff23', '57057413c1424f4b8095c8b5df100864', '50ce8681d919d67480359eb2ab8c20c1']\n",
      "['866712f4458dd25b3fe7d9d41d78d21e', '30a6c5ae91701be0f1d9d6935167f460', 'a9565a7f25cdae75e10a4b4b39d94ab5', '30d324c9fbc8b6a4f25fbd6baa5410ae', 'cf35dadec4d4734569cefdc86723a00d']\n",
      "['b9eee8fa977079980d5207de313c53fa', '6b8131169ff31aed260ad950b11f01f9', '5dbc09e8a5d46e68a46cb5c0c58e68ae', '8eb484c0349576cee956ef6f39da0634', 'ec5c57b19ce32020306b32cf2b41900c']\n",
      "['dd685aa6b795f983e520d54772c8410c', 'f67f5e0de3104782c85e92d4efc076fa', 'ff1894d69d440497b4a1db6fa7d2ed34', '51b0878d4e958052d1ad1498f152c581', '68a618ba9d43cd4045aee84d8cc27c0a']\n",
      "['8ed8c23f089bdcc8cd188e59c008a6fc', 'c7d773b473237147e1ba31d7316d16db', 'df06cdb82b577eedde09f5b0d969238e', '13a67e39f84f8a84e892eb206daa4282', '4ec611daba49d7fde1bc8f4ddaae5462']\n",
      "['fe3fe561420213de6f589c11bd325d99', '66adee9cbc74092b67444ef55bc78ba9', '57057413c1424f4b8095c8b5df100864', '400e6125bf2b66076fc929134547db6c', '05e7968aca28c7580c7cd5b281ff6a45']\n",
      "['12caf6a000fa8ac8f416173710f8ba7d', '71ca560c793d38fcd40f0e63ddf2f633', 'b7ecf99948f414f42304eed066c496fc', '4af22bff00be6de492ae4398293c3671', '60ef59e5b83a5a7d0805e492a3942d41']\n",
      "['0c3a2e3a6d91ead2d3221a0e630b8aca', '73fc8ee1da5bc0d5c801c8e708f40c92', '4254fd4f261c92af16537a1006e58d0f', '24a6ee0fe87c7f236d49108d47f2c707', 'a80ea76d8c290c93c163c6d8bace0d00']\n",
      "['0c3a2e3a6d91ead2d3221a0e630b8aca', '73fc8ee1da5bc0d5c801c8e708f40c92', '4254fd4f261c92af16537a1006e58d0f', '24a6ee0fe87c7f236d49108d47f2c707', '60064f214714c21e5d90fa682ec32ae8']\n",
      "['c9e3b88bb74b8db0dcb3d7a7e4e5442e', '90684355ccb43c11bdd7a53a48c3ed03', '73c651a5147512e2132fc9081b7e2d4c', '04fcea514a9b48eb82320ad9f65e4343', 'faecd0a984ae495d14d7c0cb073ab049']\n",
      "['c9e3b88bb74b8db0dcb3d7a7e4e5442e', '90684355ccb43c11bdd7a53a48c3ed03', '73c651a5147512e2132fc9081b7e2d4c', '04fcea514a9b48eb82320ad9f65e4343', 'a288c2f90f70cee102fccb9481b4b3a8']\n",
      "['1547300f30a316a643c132a1472a145c', '150045f3d46e1a2b0a74577e77f45f89', 'afb78d2440cbdd50c31b7cf09666d12c', 'b8640bdc5f4323e51ca949673ea51958', '2fc12b740929544895de046dcd00e77d']\n",
      "['1547300f30a316a643c132a1472a145c', '150045f3d46e1a2b0a74577e77f45f89', 'afb78d2440cbdd50c31b7cf09666d12c', 'b8640bdc5f4323e51ca949673ea51958', '3e87b08b97e68bfc5e597ae55d8f8c58']\n",
      "['4b572bf04f3c10852053c115b70b8b88', '711bdc2608cde183a931d8481bed4eeb', '1dc16c376dd99ca00952792617b7b68f', '11cca9ea800df10b675e5470f7e53a8d', '51fc9fdaf6524d4e304d0a5e5480502d']\n",
      "['63117913cb32a676cb98c4c69d47f720', '4f9c2776c487934119fa4af418dcd348', '779ba7632bc4741f6b1d2918bf698f5c', 'ffeb089c4013137606601ce31c04e895', '2e21315d20d6ec921096b2cd61e32837']\n",
      "['6cd494547f389b7310a3ad7ad0258316', '02106c10c9c8cadd9dd970de8aced180', '24d2ff83f5f21f5853c78a0dbc3504f9', 'fec66583df8251b2261c2a42800316fa', '449d1bfb2de70ccf8badd8a999a207c5']\n",
      "['2f47221481f276cdd56c79309749386d', 'c76872f170684bd6a9243e3fca9dd16e', 'fc14b611e642fd5dc1a0a04a28aa0a8d', '193146ea0b7931fd61091a82791e34ec', '57ed8e280de308292d214e4214d41cb4']\n",
      "['2f47221481f276cdd56c79309749386d', 'c76872f170684bd6a9243e3fca9dd16e', 'fc14b611e642fd5dc1a0a04a28aa0a8d', '193146ea0b7931fd61091a82791e34ec', '2672f5d453a117843143368dc65dccd9']\n",
      "['e86913146740f9a673324cbbfaf29801', '74fff0e8318af1ee66dcbeae55c0c632', '9b277be175ceddddef860cf388a3beea', 'c35da00cf7b26713e2110ae6cfb121f9', '3fe4a394e36f68db24a64dde1f19ec5c']\n",
      "['e86913146740f9a673324cbbfaf29801', '74fff0e8318af1ee66dcbeae55c0c632', '9b277be175ceddddef860cf388a3beea', 'c35da00cf7b26713e2110ae6cfb121f9', '2f7729094c4f55279c984f7c7a39b031']\n",
      "['ed3ab2fc44135b0549a15785b491f720', 'c5760ed4bbdfc67b1e10bd489f38cbe2', '5952cf56ddbfb27fdc7cdd7154836134', 'e5d6cf8d438e00ff1fa954be11d45cf0', 'e93c06a84923915a0e43b3ead80c57b8']\n",
      "['23c27e7e23473da9ae9f3347af73d653', '6403f7ffadb59d0947d3a756506651a5', 'ae6a96ba69c2f8122f1110f34c945073', '9beda21bfd12805d9c7b710f08c98172', 'b0c2a89491cf6aa743fa6b1f42c0a37a']\n",
      "['b757133335ca89e6568a865aba36734d', 'ef51381e5b6d6ed8254323b809a27b1c', '0e6106227e9f3521afb689de0d3a689e', '2964fc0a508af65f0e1cb1c3960dc120', 'fd58664c375f075d562735216ce1b309']\n",
      "['28d90c6b2bf1b475b7dc21803ac164df', '84e1e50e4e84094dd2f22111faed96d0', '8dfaffb0d3518695086e795a484cc450', 'e8ba1f453897c23ca6666f93d70b9132', '22d3fa058e6091916761570faca34b5a']\n",
      "['a2d9c3f7163fbda7e50e062e22fc0811', '626b3b7a666c4b89fd9f24f27038828b', '6e450f7a313693c18578ea3f414c07db', 'c53341ab249d5ebf4b2314fa21390b86', 'df3e10725b710eb05df8392b280a3eb5', 'de8078caba855d583fc6f65d5f4ca0e6']\n",
      "['e50ca2071d8c94db6a498334920603ad', 'a40b9311e1266ee92b032f107ed4f697', '4cd5975bd6079edabf5a56c778afa838', '71792bc0567a834d989bcb69080b8b07', '73b01c0bca6c6c88cd9e9d53b232a2e1']\n",
      "['ae7c0efaa8e0c3432d7f6fae88318069', '6c35167ef19285c8494b7ca86c79ff4a', '59bcf3fe5ca17f92ad97168eb05071e3', 'bbdfd810df794945a96ecf5ab4959ff5', '6701f82056fe9c003008cac49bed9dac']\n",
      "['7151f0e4fc3073720b67f3a5f2680c66', 'fe2800c6a304eeef08671ef67dec53ac', '787b49622bd92dfc6fc786b88db5ed6a', 'f419033a2d92a7682ce9340f77d750ab', 'f98ecfc228c41c22fd1e50d035e1de55']\n",
      "['652cd36c1492e7e16ad2410c3f96181c', '2f23a34ad723626397f8c373d2bd46bd', 'c5d3e12463cb60d282781585bafcfb81', '496d9c2a8cc677fbef859c2befee4298', '5de0096fe709ae9b9e08509f85453fda']\n",
      "['5b0693ac64bcb4ff242902f8e4a8a118', 'fc11625f1227e96ad0c3dcdc40d3dc27', '904d5b61e1bc5bb6559db39251a3b6fd', '0e18def5d7323d402aa9096975def3f0', 'e00d52db74f41b2e88f575c1dfc17ffb']\n",
      "['b749c5a723bf0951cd19b0975ccda476', 'e504b9d2c8a2076a47ec95a387cfce4d', '535cadbd9e60557e0f8919aa62816138', 'cff267e70c477a2aacc60328cf871f15', '4e629b93ce0ae88abc529066cbafcdc1', 'cb098e27b8a94be3819ecd1e378793d0']\n",
      "['28b3b1ee97b78ff0835da7f65abca6a0', '648cf61371ac53f2bd1184ba0bc5e448', 'aa9929253fa2d3cdf0b52414449b6f9f', 'd5014e5979af0be8b6c4c911c8ba3e0b', '7988100f93dbb40476a6fed4c00615d0']\n",
      "['28b3b1ee97b78ff0835da7f65abca6a0', 'd5c8c92a030e23da1a668b4dbf626661', '1dad33b9cd570ce4ea70abe743ce9582', 'd5014e5979af0be8b6c4c911c8ba3e0b', '7988100f93dbb40476a6fed4c00615d0', '5f3849ca594655874283a7e422e52763']\n",
      "['28b3b1ee97b78ff0835da7f65abca6a0', 'd5c8c92a030e23da1a668b4dbf626661', '1dad33b9cd570ce4ea70abe743ce9582', 'd5014e5979af0be8b6c4c911c8ba3e0b', '7988100f93dbb40476a6fed4c00615d0', 'aa9929253fa2d3cdf0b52414449b6f9f']\n",
      "['6c015b4f11011d1ba515350bcddf9718', 'c92762848f2588ba74de392c8b32a2e2', 'f1fc057b33bad4539b8d078957f37215', '628f9544a48fac80dde28738672c407b', '8700237a17161359550586d500673903']\n",
      "['6c015b4f11011d1ba515350bcddf9718', 'c92762848f2588ba74de392c8b32a2e2', 'f1fc057b33bad4539b8d078957f37215', 'bb3af037b6f8743f1b39e1658d332003', '4099fb2ea3719507e4982754c415ffdc']\n",
      "['6c015b4f11011d1ba515350bcddf9718', 'c92762848f2588ba74de392c8b32a2e2', 'f1fc057b33bad4539b8d078957f37215', 'bb3af037b6f8743f1b39e1658d332003', '8700237a17161359550586d500673903']\n",
      "['14041c9abda40be6d551f6036e92c94b', '269454d2e590bae5f66787575ec4dd2c', '805566b68f3bd9179bee3f3b3193ccf5', 'b7e31dec397d9e71ac79bcd14ee6f0e7', '2984bca825ee911cf63c749137ee5196']\n",
      "['14041c9abda40be6d551f6036e92c94b', '269454d2e590bae5f66787575ec4dd2c', '805566b68f3bd9179bee3f3b3193ccf5', 'b7e31dec397d9e71ac79bcd14ee6f0e7', 'c5762be61767ae5f8e6e6c4486df91bf']\n",
      "['c54ef11f1a205f7152b3102c03b796f6', '27f057a331cbf6ba2aa9e7aedc12c5b8', '8ea21816a6233f4fcd799c083b84d198', 'f4547947df1062e72a109f5a19868c59', '32a6f8a3b398f2b8cf29fefea30b3787']\n",
      "['eb3445073ee887156dcac443fda539e1', '375760e006158348dc4a6573aca582a8', '623f40cde2e95ecebc58ac9ffd0356e3', '4f7f320cd785c723567ad10398ab93a1', '8c694aaaf7817c3cd4755075c9b54071']\n",
      "['d9b178f03077ca260508c7a51ca3f331', '56c4f1353cd65a864bf72f167e2ec850', '96f36e4558283f20af6eeffeb75a2271', '0ec1b85e27e033de2f1f62bf1dea24d0', '4686c86cce0029c3c06e04cf848a09f4']\n",
      "['ff556aa714c1ddeaf576b11a729d9bf2', '7f53dc9087f40e8805d706e1c7938da4', '0aba0afcabcbfa9024390626eb51cf60', '7b7c9819f383442b4ef3b593e08dbb89', '9810350e350d8e4fede205cd4a42278b']\n",
      "['8924b548250a1b972ef4eda2e9678b0f', 'c53341ab249d5ebf4b2314fa21390b86', 'df3e10725b710eb05df8392b280a3eb5', 'de8078caba855d583fc6f65d5f4ca0e6', 'e49651761669e33c3183ee9c82c5d408']\n",
      "['8924b548250a1b972ef4eda2e9678b0f', 'c53341ab249d5ebf4b2314fa21390b86', 'df3e10725b710eb05df8392b280a3eb5', 'de8078caba855d583fc6f65d5f4ca0e6', 'd46d75a758351ce09253bbb6190e8a55']\n",
      "['8924b548250a1b972ef4eda2e9678b0f', 'c53341ab249d5ebf4b2314fa21390b86', 'df3e10725b710eb05df8392b280a3eb5', '3b01f38bc07ce1b9ff843b0bac048368', 'd46d75a758351ce09253bbb6190e8a55']\n",
      "['78e344e31b30ad3a83db5dcfcb6c81ae', '44991c96c18cf90f1c221745ec344de0', '9d2fcbb4ab9a0806329cec3d154153af', '32db8a18487dca3443f91885b52e9110', '8d33d8190701af3fde329834d56439a1', 'aa30668c3d4a0e6a81af3124861b349b']\n",
      "['78e344e31b30ad3a83db5dcfcb6c81ae', '44991c96c18cf90f1c221745ec344de0', '9d2fcbb4ab9a0806329cec3d154153af', '32db8a18487dca3443f91885b52e9110', '8d33d8190701af3fde329834d56439a1', '255de8b5133b60578442459f9fcc5950']\n",
      "['339b82c24a6bfbb1174465a2df6e9526', 'cff267e70c477a2aacc60328cf871f15', 'df45fa710012817a51d9341ad781a035', '4e629b93ce0ae88abc529066cbafcdc1', 'cb098e27b8a94be3819ecd1e378793d0', 'e504b9d2c8a2076a47ec95a387cfce4d']\n",
      "['849d2df5d90ad0f81f4d48663c2731c5', 'dd723b5a365b2c90831b0b69325d555d', '0ea4e63c5777e39bd3037b26adbbb0bb', '9d8067bba446215d3c4461e5578bd17b', '6548ca5bc3c7bd6e2efff7e5dd4b241f', '152b8ae9a2e34808adfa96d247922f44']\n",
      "['849d2df5d90ad0f81f4d48663c2731c5', 'dd723b5a365b2c90831b0b69325d555d', 'c1644557bc5e10b3ba9ac092a45daa06', 'a414ad9df65b05aa18ec020b1b626856', 'd6f32b54bde703450f9ac10ed63561bf', '6469caea11970b7a0f50b1875d3b0efc']\n",
      "['849d2df5d90ad0f81f4d48663c2731c5', '9f2ab2066595afc6996e33dcaba2f65b', '9d8067bba446215d3c4461e5578bd17b', '6548ca5bc3c7bd6e2efff7e5dd4b241f', '152b8ae9a2e34808adfa96d247922f44']\n",
      "['849d2df5d90ad0f81f4d48663c2731c5', '9f2ab2066595afc6996e33dcaba2f65b', 'c1644557bc5e10b3ba9ac092a45daa06', 'd6f32b54bde703450f9ac10ed63561bf', '6469caea11970b7a0f50b1875d3b0efc']\n",
      "['eaaeb7046b928da9ca22272df5c31f24', '25db6e0f515984ea3991dafcf0754b81', 'cdd6748ff8e0209c5013f2b673150595', '39e178fd9edcc3d746335f9c81247b73', 'a96d501687762dfac0e00bef0fdf301a']\n",
      "['1d3b5c40819f3de93989ff155071dbdf', 'e232efb32e228c9a6bf62c3c6e78b2a8', 'b84a15b8b62a91fdb1c383863e38a77b', '1b90f555bcc4cba5ac266bfc15b9e413', '51417b1246d82c8beca17a835c9ca8a2']\n",
      "['93b43ae883a4ecb3ffac5bfeed2360d9', '22432725f0dc58bb0c2d1830681ac830', '0612388e1af8a8c0ba787c73e824c35f', '50ada4cb8c26d7d3785abb6fa2190d3d', '651e3c90cd96d1ba804171e311f902ca']\n",
      "['48124b4a739353d0160a9fb1cd5515d8', 'c01aaf01394f3ce0d365dd2764779fff', '4e72ced67335970cbb349de15e464f06', '55914b9a67a73bca0737c1ad91122cf0', 'b79eda625bbea937bce51263cad21655']\n",
      "['44991c96c18cf90f1c221745ec344de0', 'ac9ff352f56eff7917ca1e530711f4ef', '32db8a18487dca3443f91885b52e9110', 'aa30668c3d4a0e6a81af3124861b349b', '9d2fcbb4ab9a0806329cec3d154153af']\n",
      "['267586234c9f8dc3ae86eba511cd5558', 'cba5b2cfbc6b7fe20f74bce53345544e', 'bbb08fd5116eeb7ccbb2d7a39785132d', 'fcaca7d66c621955e3815019783a0cc8', 'd18dc0bd34cacb6112d04013b4f4ffbf']\n",
      "['c8241e10b60f01a3ac6dc1232b3ebab1', '91b56867972e19454ba929706ebb23eb', 'bd52c53b08f32d523b93f9f749a358d3', 'e64ab2a0b739d8fc1ab666e26214b2ca', 'cc3762cb43c81a3ddd1a07a067a902e6']\n",
      "['c15753782df98429d898cb5b14e7c943', '1ddc816260ede04dd22e9d87c499430f', '52f30f6ac87f02a919927cbe844035c4', '2602d8f2444b2fd7841c8c014395cf75', 'da3a245e214eec5a135dd0fb0c6291ee', 'b253e66c56c69caeeb95486669ce1c3c']\n",
      "['7401e36031707c8fa965bb741f225d84', 'a44cda5699ee85d4bd9bcd5165197f7d', 'fb17d7c5d01f2e4189482c412b9143df', 'a900d98575551549ea80995c15604dde', '27627bdfeda484f39436ebf8f96c6a1c']\n",
      "['d47e749f22dd9fe59bedcefc96d7f82b', 'becdf43a41d1ec74b14ae304f19d4a26', '13439f155da2121e7340d1cdd12e0521', '469966e12b2de139e610e254557a8714', '996d1625c43d8ab272cef9dfa5a58696']\n",
      "['6cdb299c42bc465ad8bc5900058df57c', 'ff9d996184ae7675374c0a94f89593a7', 'c7cb563c28c59341cddee9dddbebe55c', '92aa8c124fd50a9d94004576c12ebae6', '8228070ad4d6ae2c55b593dca58731cd']\n",
      "['1d418cdc972261ef62fc02ca7e09d9fa', 'b4f5c7bd5fc28479308236feabeeb4b7', 'ad20e9fa892f0404b66b7deaba7d332a', '1a4460a31bf19436931f582d8e98f92e', '3d5738745049e0f0f09c748171cf61ae', 'eea6e24600f86afedb5409c5e853f846', '41939a59e793dca261b8922329f6c7a3']\n",
      "['1d418cdc972261ef62fc02ca7e09d9fa', 'b4f5c7bd5fc28479308236feabeeb4b7', 'ad20e9fa892f0404b66b7deaba7d332a', '1a4460a31bf19436931f582d8e98f92e', '3d5738745049e0f0f09c748171cf61ae', '54aba0875cc7398f2a55be1d51726473']\n",
      "['1d418cdc972261ef62fc02ca7e09d9fa', 'b4f5c7bd5fc28479308236feabeeb4b7', 'ad20e9fa892f0404b66b7deaba7d332a', '1c54443234085b01617694055d957db2', 'eea6e24600f86afedb5409c5e853f846', '41939a59e793dca261b8922329f6c7a3']\n",
      "['1d418cdc972261ef62fc02ca7e09d9fa', 'b4f5c7bd5fc28479308236feabeeb4b7', 'c74098b6548c3e4613f393bae0b4b6dd', '8b0c085fe1b7bc183bcf80aaf58d8fcb', '1c54443234085b01617694055d957db2']\n",
      "['1d418cdc972261ef62fc02ca7e09d9fa', 'b4f5c7bd5fc28479308236feabeeb4b7', '8b0c085fe1b7bc183bcf80aaf58d8fcb', '1c54443234085b01617694055d957db2', '55962a38e576ce53770c440c729f02b3']\n",
      "['1d418cdc972261ef62fc02ca7e09d9fa', 'b4f5c7bd5fc28479308236feabeeb4b7', '55962a38e576ce53770c440c729f02b3', 'eea6e24600f86afedb5409c5e853f846', '1c54443234085b01617694055d957db2', '41939a59e793dca261b8922329f6c7a3']\n",
      "['1d418cdc972261ef62fc02ca7e09d9fa', '4a23a6a07c61cd9bf70a3421ccacca20', '41939a59e793dca261b8922329f6c7a3', '14afaa457b8f86b0e02cec8a51ef091d', '55962a38e576ce53770c440c729f02b3', 'eea6e24600f86afedb5409c5e853f846', '1c54443234085b01617694055d957db2']\n",
      "['1d418cdc972261ef62fc02ca7e09d9fa', '14afaa457b8f86b0e02cec8a51ef091d', '1c54443234085b01617694055d957db2', 'ad20e9fa892f0404b66b7deaba7d332a', 'eea6e24600f86afedb5409c5e853f846', '41939a59e793dca261b8922329f6c7a3']\n",
      "['1d418cdc972261ef62fc02ca7e09d9fa', '14afaa457b8f86b0e02cec8a51ef091d', '1c54443234085b01617694055d957db2', 'c74098b6548c3e4613f393bae0b4b6dd', '8b0c085fe1b7bc183bcf80aaf58d8fcb']\n",
      "['1d418cdc972261ef62fc02ca7e09d9fa', '14afaa457b8f86b0e02cec8a51ef091d', '1c54443234085b01617694055d957db2', '55962a38e576ce53770c440c729f02b3', '8b0c085fe1b7bc183bcf80aaf58d8fcb']\n",
      "['57b71944332d5c09cf298ccc20127dae', 'd6444068209c776f2b560251277adf05', '74503c4e83e938ac8aa36dd3d528c7ec', '97b8ce84da78293e07156000fc97429d', '5a3e61c3817fa61c8660e53471610187']\n",
      "['86347d2d2f80df0c904bb913419c55f1', '46e2616bd05c2c6a30693dcafcdb4536', '12337c6da481ca200e9bdb6f2c7a8ba9', 'a4c7fe3da22e0158f14ab17017c068b6', 'dc1904e59a03097cb91f83cd0a46dc90']\n",
      "['92aa8c124fd50a9d94004576c12ebae6', 'c7cb563c28c59341cddee9dddbebe55c', '8228070ad4d6ae2c55b593dca58731cd', '8c75b87df2379ed9e2196f24e7649f68', '9334d86d5a3325c09bc034b5f1f8396c']\n",
      "['92aa8c124fd50a9d94004576c12ebae6', 'c7cb563c28c59341cddee9dddbebe55c', '8228070ad4d6ae2c55b593dca58731cd', '8c75b87df2379ed9e2196f24e7649f68', '935cf5a75558d68a523f2f2f4b2e1ed0']\n",
      "['5b2c21b69d49c9241dca4a36e93a1bb3', '6ce68870e1d65667bd68c90874c580e3', '270619f44d7c3743ca65def77447a65d', 'dadd1b5806a97b89fbd3f3d7d095d7e7', '488b00acb3d371b95feb7ba683da2fb8']\n",
      "['a8754ec1bb75c9419d50d88d9f566c23', 'ab0e149c7cfd07a374a99aeccb2e1503', '63dc5138adb68d616e3b1454ed163e14', '472a568addc140e1d105d3d7fb5ab6d8', '58626744eae3cce4b8667da5962456dc']\n",
      "['d805da89cd4141fca93f223b9ced3742', '4cd11b4cc40bd21b1ce21a594d8ae504', '95b11441824e37fa802238061dc145a5', '980b8c7786905c50d93f678cfaeeb24f', '2c0382b0d3d7a0ef318cd6c1d226d33c']\n",
      "['386e565e88503673d328e1a4bc081daf', '4285adee496bf1a21ca7977152aa244d', '67ce9c6bc6c24cfdb62e3a78963472f3', '78a8985c7b2dfde69542d8f8e4a0e907', '86734149e050128be3071828f9f22fa9', 'c8d5315f7f1ba03bef2ff51656cfad38']\n",
      "['c0f74cd127068febf53c0549f6effc16', 'f357cff5ff8314ca39dadbea63dc0cbb', '6aff1fc1236a3abefdb77db11a050611', '64e8ef241fb1e86917c952b55764391c', '974afdceb562a7aa2aa611eaf4a2a724', '171cdeaa43f1895b701325ae4c261db4']\n",
      "['94d19c6e6d75566f94a48017e5b09514', '98cc6c22da9a2063256976e456f42910', 'fadee2d1b4f302887d7ca534fb13a3e4', '360830977a98eff12579d7c30eed7f00', 'e9620b9a6c866e0e9a82c4ab476952fa']\n",
      "['0fb77cf60b135ba24e41acb5ff6651db', '0a03068e3432b4b890b9e461e314a745', '2fdf8f0b732e185a60f8a24439b7ef4e', '38ea83644a812947bfde2a248b589a2b', '88f5d0a7f72ffa37f6d31c5db6c93f6b']\n",
      "['0fb77cf60b135ba24e41acb5ff6651db', '0a03068e3432b4b890b9e461e314a745', '2fdf8f0b732e185a60f8a24439b7ef4e', 'ba5943e3ea332f087ee488e175938ccc', '88f5d0a7f72ffa37f6d31c5db6c93f6b']\n",
      "['0fb77cf60b135ba24e41acb5ff6651db', '0a03068e3432b4b890b9e461e314a745', '2fdf8f0b732e185a60f8a24439b7ef4e', 'ba5943e3ea332f087ee488e175938ccc', '58c356ba851d6188274554b7c7c35729']\n",
      "['52db4123de3f1f58e56bc6a6147dab94', '226b7fcc6831b20d5d59863144eba0b4', 'c4f3bc440a8efde0bcfc735e31c1f48b', 'f06c0674e12011ee458baba78aa24b2c', 'c7542b14bdb008a899714e6c96eac5cc']\n",
      "['2d08f7f903698abedc3833cb89833431', '55f5c76b8dbebc4d2efe208cabcfc7d8', 'f5c2a5413b5e8126c4413384fb33790a', 'a40e8220587c5c476fb31da8302e86b2', 'b7a70824672597727b7fc1f8213035af']\n",
      "['e504b9d2c8a2076a47ec95a387cfce4d', 'cb098e27b8a94be3819ecd1e378793d0', 'cff267e70c477a2aacc60328cf871f15', 'fc2358f648d80f93de19f84b42be64fa', '3c963be328773ce3c8fb2bced1370400']\n",
      "['e504b9d2c8a2076a47ec95a387cfce4d', 'cb098e27b8a94be3819ecd1e378793d0', 'cff267e70c477a2aacc60328cf871f15', 'fc2358f648d80f93de19f84b42be64fa', 'df45fa710012817a51d9341ad781a035', '4e629b93ce0ae88abc529066cbafcdc1']\n",
      "['89e9f0daf87a52f77863add9fc80e829', '62c1261b98424b295c140a7f43661666', '7d3b2e724f38f123ee79226316d80cfd', '050e80017f3f50a350833f5351a07da1', '63b767d86f8ce08fa43c401909cc9b14']\n",
      "['89e9f0daf87a52f77863add9fc80e829', '4fc466e5e534837f325dd2505581fb38', '18d3c9b4b2944184c656e816aa3e2279', 'eb489fc9c560eb2c353d511271b9ad0e', '1d69a627ad7788ada5ba2f9376dad905']\n",
      "['89e9f0daf87a52f77863add9fc80e829', '4fc466e5e534837f325dd2505581fb38', '18d3c9b4b2944184c656e816aa3e2279', 'eb489fc9c560eb2c353d511271b9ad0e', '1ee82bba3af714599c546c88137756bb']\n",
      "['882b016243a05b5e1b0bbd3e0c97735e', '5d34dc3b6b642cc9ca3dc89ee4216f14', 'cd9e33962409db9d84bd0308609c78c7', 'ce1759280608ec6ae4dd3574b146532f', '446f62390db6fc3da239bfe0d8f97dc6']\n",
      "['882b016243a05b5e1b0bbd3e0c97735e', '5d34dc3b6b642cc9ca3dc89ee4216f14', 'cd9e33962409db9d84bd0308609c78c7', 'ce1759280608ec6ae4dd3574b146532f', 'bfac00a4253beaaf5619e0cc1c32040b']\n",
      "['8eb749fdd2e2e6e685e21cb5c6baef61', 'd8c9e984f59e815f3e1f323d5bb08419', 'f6f16cf5cefa933dd115719121ec9fd2', '19f0025fe374a53108ca1e479eec7a48', '836bb8fdd729fc100e5d6aef29a686cb']\n",
      "['114c18f9f90491175bd5d4644dd20f5d', 'ff912e7318fc9d652798e9b9f1e418b7', 'fd838c0a12f8792c23ac9cabe5cd0475', '04f3698a5bd3b2357c5925df84ee6c84', '2f6b91a4cae78d07e9b24ae6157e797e']\n",
      "['d1741194c4f312a1d7d3a41c2fc2413b', '588db57ce9fc8d6f87e3361fe3f40080', '9ab5f320bb397c38aeb87ccb1f9b3f5c', 'cbae811b0af5b51c0836fd0f87f85644', '93227e72812a6c7daea34f675155918a']\n",
      "['d1741194c4f312a1d7d3a41c2fc2413b', '588db57ce9fc8d6f87e3361fe3f40080', '9ab5f320bb397c38aeb87ccb1f9b3f5c', 'cbae811b0af5b51c0836fd0f87f85644', '32079ed84e3fe5ec769d2863dcedd25a']\n",
      "['d1741194c4f312a1d7d3a41c2fc2413b', '32079ed84e3fe5ec769d2863dcedd25a', '4794a30003c9bcdf1e9b07c4275f50bb', '9ab5f320bb397c38aeb87ccb1f9b3f5c', 'cbae811b0af5b51c0836fd0f87f85644']\n",
      "['1dc16c376dd99ca00952792617b7b68f', '41fc42b4da4855d3d7a8158f855a2e71', '465cc002aa10d063a22e8e7919f34284', '11cca9ea800df10b675e5470f7e53a8d', '51fc9fdaf6524d4e304d0a5e5480502d']\n",
      "['1dc16c376dd99ca00952792617b7b68f', '711bdc2608cde183a931d8481bed4eeb', '465cc002aa10d063a22e8e7919f34284', '11cca9ea800df10b675e5470f7e53a8d', '51fc9fdaf6524d4e304d0a5e5480502d']\n",
      "['152b8ae9a2e34808adfa96d247922f44', '3bab618ffb60047daebb606ea7cabbc9', '0ea4e63c5777e39bd3037b26adbbb0bb', 'dd723b5a365b2c90831b0b69325d555d', '9d8067bba446215d3c4461e5578bd17b']\n",
      "['e692a95722e0cc73b1405effb4f20617', '8e74fd3e8e41ab0b7cbd5d5ffb940159', 'd43fd4c7433ae0f9760b639883d29dd1', '6385821995968e19df0b9c417938fa37', '454797bf350ef0af7e76438aa93ef369']\n",
      "['27627bdfeda484f39436ebf8f96c6a1c', '0b3804eb04d60ccc5df1cd8d2d0b998c', 'a44cda5699ee85d4bd9bcd5165197f7d', '8bff5f5a979bd350f172aaa20018889f', 'fb17d7c5d01f2e4189482c412b9143df']\n",
      "['27627bdfeda484f39436ebf8f96c6a1c', '0b3804eb04d60ccc5df1cd8d2d0b998c', 'a44cda5699ee85d4bd9bcd5165197f7d', '8bff5f5a979bd350f172aaa20018889f', 'fad1b2b9f67c0444ec613745df401c9c']\n",
      "['27627bdfeda484f39436ebf8f96c6a1c', '0b3804eb04d60ccc5df1cd8d2d0b998c', 'a44cda5699ee85d4bd9bcd5165197f7d', 'a900d98575551549ea80995c15604dde', 'fb17d7c5d01f2e4189482c412b9143df']\n",
      "['52e5881cfaa78daca774e6b2985746f1', '054f3433b47c72b55263937c6c2e95a8', 'ada8d4e1a17708b0050d99adfbb3a446', 'e9fd34f34d6426927feecea90eb84440', '63232c50bd464e3b17b475a033d745bc']\n",
      "['6a83e26fed46749b9d4efe03e5257508', '81b8e991f987c3ef559d4b16e4a4481b', '14a525ebe75002ef5ff5e1e4539c7d53', '725200fc038141a76f4b07e34c176933', 'd17a43a82f0dc54d47dd2661c1bef821']\n",
      "['daf42fddb827e90e73cde2e61c41c8f6', '811398029e26263d7431210160f08f1a', '1406ab98b6da1748cad0aafb6604b708', 'c70e055c2278453a3ccb7b6a1deec049', 'aacc63d44c4c0f1c610ad141393534bb']\n",
      "['daf42fddb827e90e73cde2e61c41c8f6', '811398029e26263d7431210160f08f1a', '1406ab98b6da1748cad0aafb6604b708', 'c70e055c2278453a3ccb7b6a1deec049', '0cf89cc9c2fcba770ff123e1a1202562']\n",
      "['db9331989b2e148cbd1821d1aa1cc626', '7a4e64e1d7bdd7cf3d02b62d5c09b354', 'c88ec96dedc46b943e72ebcfba85d0c7', 'dd1e40f6350dad49ddb93b1adbbc5837', 'a0f386fa1755c32f2cb28dadd052b53c']\n",
      "['0431015e7c41cb0dafe7b507ca725f88', '26b3f0c239cfbbcfcd693482767d7681', '12e82a61810d119cbb7b1dbe970566e6', '515cfc47861de1ab1cefc58e265f8b1c', '0122ec1113a1a1a01a879ea164314e20', '48da01bfd8e27f26a445fe3ee50055d9', 'aba3836ddac06ede38167298aea47b51', 'f2a9eeaea4e8413329bac773e30f2b13']\n",
      "['fb17d7c5d01f2e4189482c412b9143df', 'a44cda5699ee85d4bd9bcd5165197f7d', '996801597d0e155809446bdfb655e263', '0b3804eb04d60ccc5df1cd8d2d0b998c', '8bff5f5a979bd350f172aaa20018889f']\n",
      "['fb17d7c5d01f2e4189482c412b9143df', 'a44cda5699ee85d4bd9bcd5165197f7d', '996801597d0e155809446bdfb655e263', '0b3804eb04d60ccc5df1cd8d2d0b998c', 'a900d98575551549ea80995c15604dde']\n",
      "['515cfc47861de1ab1cefc58e265f8b1c', '26b3f0c239cfbbcfcd693482767d7681', '744e63a1b998687ed897b3e261b92561', '48da01bfd8e27f26a445fe3ee50055d9', '0122ec1113a1a1a01a879ea164314e20', 'aba3836ddac06ede38167298aea47b51', '12e82a61810d119cbb7b1dbe970566e6', 'f2a9eeaea4e8413329bac773e30f2b13']\n",
      "['c8085797ec41c77d91618c6e178693b8', 'ffd243de7fcee251744035bad7bbb0aa', 'b378027cfb21f04973201a77cf3b3ecd', '0db1b53e33fb306eb67ab1292539be4c', 'ccbe82df517265274724b47be5365955']\n",
      "['1a63ba4ce8920f57d58c918ff80b0f34', '0ba540b1f9db30520756933a6f53317d', '2801a15139e356036a7f296b2c4ff851', 'ed77211223e91db2e9a7e9ae5083247f', 'a7e1c3d824536bfa317a542ad34d7557', 'a6169ed79acc81ada4d315825b90b660']\n",
      "['1a63ba4ce8920f57d58c918ff80b0f34', '0ba540b1f9db30520756933a6f53317d', '2801a15139e356036a7f296b2c4ff851', 'ed77211223e91db2e9a7e9ae5083247f', 'da1fd9c044efa408052a7b625b367117']\n",
      "['a422a018f4afd88af49d4b6ccda86a66', 'fec360cafca48e3d77235f7597807538', 'b7b2e45074841640180a22011f736c00', 'b5ed68e16ab8a6bcf64aaa168306d57f', '681f3ec2a9b1f3f7d6b65fb89bff0c2d']\n",
      "['b4f5c7bd5fc28479308236feabeeb4b7', 'f9bf8b4902c030554316a82dfa7fc6b9', 'ad20e9fa892f0404b66b7deaba7d332a', '1a4460a31bf19436931f582d8e98f92e', '3d5738745049e0f0f09c748171cf61ae', '54aba0875cc7398f2a55be1d51726473']\n",
      "['b4f5c7bd5fc28479308236feabeeb4b7', '0d1290f08fbf78bff5807faaea7d58bc', '1a4460a31bf19436931f582d8e98f92e', 'ad20e9fa892f0404b66b7deaba7d332a', '3d5738745049e0f0f09c748171cf61ae', '54aba0875cc7398f2a55be1d51726473']\n",
      "['b4f5c7bd5fc28479308236feabeeb4b7', '0d1290f08fbf78bff5807faaea7d58bc', '1a4460a31bf19436931f582d8e98f92e', 'ad20e9fa892f0404b66b7deaba7d332a', '3d5738745049e0f0f09c748171cf61ae', '41939a59e793dca261b8922329f6c7a3']\n",
      "['9781031cc988aa4e677e4d927cb709dd', 'd2a63ae68ec8af6e10c478e881d3fcb1', 'e06cfa0e8d9c67b410354c61cc5ac860', '641491ec7109befe21fa0806eba559a2', 'a005132b2887f8cb343de662ecc066f2']\n",
      "['eeb00f66b148b6e8aa1738d48374e74e', '5e560e23dc899451c33615812ab5dc0d', 'a090480d7f72cfff3708d3b1f898e268', 'd1ed1055b2e7476f830ea9db896b7fea', '864d57c3e9b64290a40203703703ab2d']\n",
      "['36904ae46fbb41efdaad6fca4aa13528', '3cd227180495a24bb5d29c2a6375d2ec', 'ac2b1c892f64110f861830bdf94c500e', '20b031c54f0f82fb270c580a065b3a86', '5f83006fa12fc6d53f606f8b0f637a92']\n",
      "['439cac4c5d9aa262e5cc1e9cdca1d09d', 'ebe089f262fbd7add0221c329475eeda', 'fb22b1bd6ae4ee4c1418d833adf0b3f8', 'ef27c9fe75659fa06af2e1ae2a7a023c', '60e9743fa5b275ea582d8e6ed7697da4']\n",
      "['41cd0b830645f9d72fcdef5f9d5c5e80', '27f14b6728f45f17b4fa587eb9bb4baf', '8a313df6b6925fe0528ab8d7e4b54524', '40d8cee405fbfdd8f1ab33d5cdd88baa', '40d2c1f4a2b71a989cd6d4932e486cb4']\n",
      "['a5deb44807acdee767577cad67de53b7', '8cf979a158dffff0778b153294e55bb4', '7ccf4bb7b4a2ec49b14a8bded65a19a3', '29abffb5a6253faf2ed447c22ad8fd1b', '9010cf5d693974e6fe93cf41b2e1f671']\n",
      "['76d5ddbe5b96c0b40597c6931ffe263b', 'febf099d021222e853aa8e110e1fa6c0', '393b8e3ed72cafecf9c06be34c8852dd', '0f78ac593e4edd9640528813985c46d7', '93dc096cfd216cf1b7894a0d160433bd', 'c29dccb7485f1d13361177827856d6cd']\n",
      "['80f03a5e9492e122c44bfcedbd136d71', 'c15e02e606ef340b31ebdcca3be4c1f1', 'aa6eb269910829b6f373e374f029d0c5', '62a19c4c8059bcf2d5ceec256a691fa7', '05783cefe36a04425791de6307f66f75', '30add4583d8e034c90d7153d461a9a38']\n",
      "['14b2e1d320ab8bafdcc63bebaf327bcb', '723cdd1f96f72e16c56e406598992f24', 'd7b0858c8f2d2c0e9c727ffe54d8802a', '17c27e3eedd8c77a22ef5664208f7d45', 'b01262418552e9d9555f0f8639ac66a0']\n",
      "['02b1affd7adce60542da5cd6bb6cc624', '3dbbefb1ae501bd47a024d5221283bc4', '5d9e2a203a2ddfb1bb80fb338403f567', '7792b84ea6788ad94fd04248b8a69fd3', 'f37e4919725abebb5c54e48e3b7ec2a0', 'faf79d04f7928c189cc8e36853af89dd']\n",
      "['b7ecf99948f414f42304eed066c496fc', '4eba3dfa9f0ee8e94c38a36da7d8f10d', '71ca560c793d38fcd40f0e63ddf2f633', '4af22bff00be6de492ae4398293c3671', '8d052d424b6573e26e804606b8e43be7']\n",
      "['b7ecf99948f414f42304eed066c496fc', '4eba3dfa9f0ee8e94c38a36da7d8f10d', '71ca560c793d38fcd40f0e63ddf2f633', '4af22bff00be6de492ae4398293c3671', '60ef59e5b83a5a7d0805e492a3942d41']\n",
      "['53f2d767ea83915688bf02ef0df905db', 'b4974cf85ab3e1ef5f66db7f791073c6', 'a73e2ad9c86341d2164c755f1104d257', 'e17f7a2abb786dafd156415839ad66fe', '1a7f2e8bcbe37e7c7863d7b32e284eb5']\n",
      "['b4df63cbcd1cf7d83c1828b08b8f88ba', 'ae054ce67b17ce7af16ed3ed17a0a920', 'a779b7f080606e065826816ed82b4ba4', '222faf8f7aa9e30f253808261150e906', 'c30acae6d3cfb6481975e23755d6f0ef']\n",
      "['cac1677f3227664246ac7ccb3b0fc0c9', '33798a98653376e38b187da39d6203ba', '47bae9c64f4b1a629f4bef59ea4a01ea', 'e66a33f11187bcfd351a20ca8a230c5a', '2616bb19a7e19d1b073bc7a0aca7d92b']\n",
      "['45ef759791e61835fb126162987c5c63', 'f799f0c311d3942e74559a74c650f09d', '7ddbabb2bbc74ef79708bae72078463e', 'c259f0c06ea8903fe418d540df997fbe', 'f6fba775c4aeab26f9d4495a9ad1e429', '0fb99058f3f0f9237bd0d4f38ed7358a']\n",
      "['96d9933baad24fa45316e8ae9a366329', '59369a9e3d30e3092730123619ba6f15', '99c0bae88b3c55d74468c1b6f84d5605', '7f93fc6aeebca3f5450e2021d6ea898f', '688d4d79530d877fa60d4f0eda9f5d6c']\n",
      "['d49b3fe7ce6287798161dbba01a54981', 'f1c639f795df1661dc1ed8665d91b1f7', '307a28058e7ebc7f7e10a65d954b4fc0', 'f2ece154afd081bddcbfd28c869f52c9', '355c23824282be71f63575b7f4dff84e']\n",
      "['d49b3fe7ce6287798161dbba01a54981', 'f1c639f795df1661dc1ed8665d91b1f7', '307a28058e7ebc7f7e10a65d954b4fc0', '16704d8391f93bbc8695104df2735df1', 'a9afa41c2139d0d6c91b0c55afca1710']\n",
      "['d49b3fe7ce6287798161dbba01a54981', 'f1c639f795df1661dc1ed8665d91b1f7', '307a28058e7ebc7f7e10a65d954b4fc0', '16704d8391f93bbc8695104df2735df1', '355c23824282be71f63575b7f4dff84e']\n",
      "['71f7152a884ae11f127a812fbd6845c8', 'a279e6bcc5d1ede4b670a1428b5c466a', '524aaccaa287d55f4ac657374d430061', '567e0a2816a39a02424d4be08db5b6f0', '151c571eec361f25b35a1c77dd0dec77']\n",
      "['4c0dc46cc71b5515805e493cfbc63ff3', '5bcd288b42d89ad7ba0c217e46361e6e', '1cfe818e74542429ac012adce7072729', '8f67ba637c2d59cbe17330b3875cf854', '4ec140c1c5e96ba60a1de62be61fc65f']\n",
      "['1e78a7cfe90993e0a6c5da802a7f907b', '5686dc5797a0bd937392f072c5184964', '6b415d92c4b502caa9623dd3b33dc49e', '3a946346c924e00ba231f9eea3c97b06', 'cd4dd5237c37ab64dd271091003d1ca8']\n",
      "['82d8f2fbd02b17b8d4980cf7b4e0af8b', '890e87df0379c16188f59fc7a34d1644', 'bfa5e771056379cf135b31b268b96b6f', '2eaf3bb19180c028957e4b628af25eac', 'afca8d702c839ad75d7cd51a00d4d2b1']\n",
      "['aec30d4c8accff81bdb9825db9d5d837', '0ac9cc1bda09c92c6857fcc3b4411340', '28b73d61d39001b99f5c5d7c233e817c', 'a888ebed4e21c351767f5142e061f080', '254584b5e99593f8f28b0f2ae27ebf72']\n",
      "['c45663be6a288870e5a7e04a712a0784', '70d5375eb4acec945a679c2db9aa5f31', 'aae5260d90e20196b19c363ba1ca97dc', '606e96e79d6ac78726a0b6bd1c5025ec', '410c5fbb755cc8017212077683fd2447']\n",
      "['c45663be6a288870e5a7e04a712a0784', '70d5375eb4acec945a679c2db9aa5f31', 'aae5260d90e20196b19c363ba1ca97dc', '606e96e79d6ac78726a0b6bd1c5025ec', '045fd7600592f9c8d9ab85beb9ecf886', '01610949ca40fb5437ad684720f63c8a']\n",
      "['c45663be6a288870e5a7e04a712a0784', '70d5375eb4acec945a679c2db9aa5f31', 'aae5260d90e20196b19c363ba1ca97dc', '606e96e79d6ac78726a0b6bd1c5025ec', '045fd7600592f9c8d9ab85beb9ecf886', 'fc719405d5c5bedd6553bea88f1abdd3']\n",
      "['c45663be6a288870e5a7e04a712a0784', '70d5375eb4acec945a679c2db9aa5f31', 'aae5260d90e20196b19c363ba1ca97dc', '9ac90c448c53494e5a9a2875fb260f43', '01610949ca40fb5437ad684720f63c8a', '79d5f85575e7075a349234aec2ea0595']\n",
      "['c45663be6a288870e5a7e04a712a0784', '70d5375eb4acec945a679c2db9aa5f31', 'aae5260d90e20196b19c363ba1ca97dc', '9ac90c448c53494e5a9a2875fb260f43', '01610949ca40fb5437ad684720f63c8a', '045fd7600592f9c8d9ab85beb9ecf886']\n",
      "['c45663be6a288870e5a7e04a712a0784', '70d5375eb4acec945a679c2db9aa5f31', 'aae5260d90e20196b19c363ba1ca97dc', '79d5f85575e7075a349234aec2ea0595', '410c5fbb755cc8017212077683fd2447']\n",
      "['c45663be6a288870e5a7e04a712a0784', '70d5375eb4acec945a679c2db9aa5f31', '8f11b24ee3f5915431e69f862ab4767a', '79d5f85575e7075a349234aec2ea0595', '9ac90c448c53494e5a9a2875fb260f43']\n",
      "['c45663be6a288870e5a7e04a712a0784', '70d5375eb4acec945a679c2db9aa5f31', '8f11b24ee3f5915431e69f862ab4767a', '045fd7600592f9c8d9ab85beb9ecf886', '606e96e79d6ac78726a0b6bd1c5025ec']\n",
      "['c45663be6a288870e5a7e04a712a0784', '70d5375eb4acec945a679c2db9aa5f31', '8f11b24ee3f5915431e69f862ab4767a', '045fd7600592f9c8d9ab85beb9ecf886', '9ac90c448c53494e5a9a2875fb260f43']\n",
      "['c45663be6a288870e5a7e04a712a0784', '70d5375eb4acec945a679c2db9aa5f31', 'c8c2809852a51686e8e251f7c2cfbe1c', '01610949ca40fb5437ad684720f63c8a', '606e96e79d6ac78726a0b6bd1c5025ec']\n",
      "['c45663be6a288870e5a7e04a712a0784', '70d5375eb4acec945a679c2db9aa5f31', 'c8c2809852a51686e8e251f7c2cfbe1c', '01610949ca40fb5437ad684720f63c8a', '9ac90c448c53494e5a9a2875fb260f43', '79d5f85575e7075a349234aec2ea0595']\n",
      "['6782b1d6886d06aa6c264178cd2facfa', 'e158b1b7b4f2cc88c4ca3a1982f2fed0', '6e549d376485c23353d075fec18008a5', 'fd19e0c299f2289ad506982ab4089bc0', '0f96822c18102d2e158884e6be50afe4']\n",
      "['6782b1d6886d06aa6c264178cd2facfa', 'e158b1b7b4f2cc88c4ca3a1982f2fed0', '6e549d376485c23353d075fec18008a5', 'fd19e0c299f2289ad506982ab4089bc0', '9ac410cb408f95d6b772dcd24187bef2']\n",
      "['22882d96b6e46391e7fbdcb15b3f26bc', 'dc14d87d55470597e9445cfd1724e74b', 'a8d8a1f0578e95e69c3efcb5cba8307d', '1d3978b26afe4c9d1f98aa57bc20c064', '9b58625690db49c7d65e69a36a942d25']\n",
      "['afca8d702c839ad75d7cd51a00d4d2b1', '890e87df0379c16188f59fc7a34d1644', '5de554d2f61648f2e158b2442a577105', 'bfa5e771056379cf135b31b268b96b6f', '2eaf3bb19180c028957e4b628af25eac']\n",
      "['e7a36a6919794bd1d4c3156625730f06', 'e061ceb19c77ab9218ec6743bed8dc79', '11efa6ae6fa8bd738027ebd1535f8b00', 'ab65f5951167ba27deabebf0b6eeadea', 'aa2e04ac4fa54d3a44329910b7dc4981']\n",
      "['f266296f90543790188ebfa3c659b561', 'f84f6348467bb5e9192750c4a05836b4', '848f0e6295a3e0926275bd3c867ef6a6', '514db734d72c59e6ab6988a4e4adecfe', '20f1a217a1c1e83d3b399b3c743e12fa']\n",
      "['6ee325bb9bef1c7d5613d634730f791b', '67ccac076f1a5d92366f89b1346e105a', 'f91f7ba3bd4e10a9207b8a231d159833', 'd83b06a33144767c818a59042f97d37d', '471c26e9d22d0e8dfaa23ce6d264fc60']\n",
      "['bd216bac853a3f2eb0367e189f2ac729', '9e8f5c310898af98081c38a7dce21fee', 'fe360ebe3514ad5c7383ca37ed976cc5', '272955646b13c80862dfea88fe8647f9', '407761abcd247f8e91d2349450a3cb9d', 'd5a070af90b8360a7041f0a3b4b42c99']\n",
      "['cba5b2cfbc6b7fe20f74bce53345544e', 'bbb08fd5116eeb7ccbb2d7a39785132d', 'a13ded37e8b52976be99bb56061411d9', 'fcaca7d66c621955e3815019783a0cc8', 'd18dc0bd34cacb6112d04013b4f4ffbf']\n",
      "['1cd0d2456ec82b266066885bdbcc485f', '46e2616bd05c2c6a30693dcafcdb4536', 'dc1904e59a03097cb91f83cd0a46dc90', '12337c6da481ca200e9bdb6f2c7a8ba9', 'a4c7fe3da22e0158f14ab17017c068b6']\n",
      "['f91f7ba3bd4e10a9207b8a231d159833', 'd83b06a33144767c818a59042f97d37d', '265ef644327786836b902b52484c5da9', '67ccac076f1a5d92366f89b1346e105a', '471c26e9d22d0e8dfaa23ce6d264fc60']\n",
      "['16153d44abe801c4cb86d78285871d06', '000e9e43b7749863ea259c424122b0b2', '033952021cb6b330206294f12c96c636', '432269192c29b92d07c86326bf091508', '188545154cd1843ad2808f70c73a7085']\n",
      "['16153d44abe801c4cb86d78285871d06', '000e9e43b7749863ea259c424122b0b2', '033952021cb6b330206294f12c96c636', '432269192c29b92d07c86326bf091508', '2ad52a40d202e8179258ff59bbe2f958']\n",
      "['c2dcf0be32bef6b8e6f9e3cacdf70ba3', 'b0410827c62c306c3ef18435812110c6', '7761d6e070d456285dc3b5c48f32e5a3', '0f266a316b33c5e77c964341f5caf765', 'd28efb8ce12a1a6528625390885c8db2']\n",
      "['efc2424b69e756a850b5e7a2d19f404e', '0c66005af1d016e2480958018894cf4e', 'cf5740ad2397c7fae4e84801c9fc687f', 'bd29d002063eb76ae730cb8d42e26175', 'b6d461bec85d75d7f794c98f648231a2']\n",
      "['78333d0afb740494bb451e14f93155c1', 'f7694daab7ecff06bc0e1c8fcb67e31b', '3ee68bdef286fd90ca03082e94a935ae', '3b959735d73035f3912cbe53e614c4d3', '997a5e51d2cb9275367dea3e71933953']\n",
      "['3915cc01bdb24f2114e9b659c9a2c0b4', '8c7eab53edb1ce334876a676e659c30e', '61ce42d57513b3c6b57b38f5b7943675', 'e7eaba9881a56ac8fdb867f02bf1f8f1', '53b17267f7693bf0b08b136a7f7f0d32']\n",
      "['3915cc01bdb24f2114e9b659c9a2c0b4', '8c7eab53edb1ce334876a676e659c30e', '61ce42d57513b3c6b57b38f5b7943675', 'e7eaba9881a56ac8fdb867f02bf1f8f1', '81e21abdcb564dde6e44683067b6bd87']\n",
      "['a7e1c3d824536bfa317a542ad34d7557', 'a6169ed79acc81ada4d315825b90b660', '0ba540b1f9db30520756933a6f53317d', 'ed77211223e91db2e9a7e9ae5083247f', 'e2e7f2a9857528743cff6fdc3e656ef9']\n",
      "['7f5b7e09a6cba51b9daffb6d0323cc4e', '9a7260fd9d5b048104a81b0f47a3ada9', 'b7c24dbc9f85c06e0a1d9053203e371c', '6cb0b683bd7f8538eccfb5d4d3856a49', '70dff4c74a740a6bdd0cffeb60e3d41c']\n",
      "['c9bd96d6d3198596d29839fb06d35c10', 'c72e2bf0b30f4862edb955f474fa9615', 'f2cc509e717b3716cd80cfcb2688ebbd', '98e9a99a24811851a212414847ee62a8', '58dd80648d2e84705043da487b420d31']\n",
      "['ed8e28fed500b3d7b7ad3ea5c3420fab', '73fc8ee1da5bc0d5c801c8e708f40c92', '4254fd4f261c92af16537a1006e58d0f', '60064f214714c21e5d90fa682ec32ae8', '24a6ee0fe87c7f236d49108d47f2c707']\n",
      "['6f3791e51bf694732b961a3fef8a10e1', '5e119e3b92fc8f61b23ca276449031cf', 'a9d0b3d70189159e708bc748431477b8', '9d944fd381384eaf4a04a5c8f91c28e7', '051448bc3a1cd22080c61a5e0a8b6a19']\n",
      "['b55bf6cbd46972d725234551deae0f71', '04f1f783b07505a8c889b1439b06b827', '0e2e66a97bb2f67d4dae1d3cc74d431f', 'aebe7767121b359e0896a6c95b97eec4', '0875e9cd80eb046f6b4fa645786ec1cd']\n",
      "['dac5e156cc94883d381a7fccce283053', '0ed4af873c97653ca35823a7285b4b63', 'ab5f98b1adaefe0d2a4eadd263162318', '60f8fee3ac92a6e81daab5a864d82d55', '3750d7f7c0b1381b7179005750bb0bec']\n",
      "['dac5e156cc94883d381a7fccce283053', '0ed4af873c97653ca35823a7285b4b63', 'ab5f98b1adaefe0d2a4eadd263162318', '60f8fee3ac92a6e81daab5a864d82d55', '77249ddca8ca4887851a5fe10852cf4f']\n",
      "['c4818c3d4633e3c71dd86e6ea3314eeb', 'b317539f643da48900ad2367d72742bd', 'ef816227ee9d2b46acde89cd4fe90e4a', '84f7ca459657002a5be6080dc4d328f8', '7deca9ecb305df51624f23d3dd46929e']\n",
      "['c4818c3d4633e3c71dd86e6ea3314eeb', 'b317539f643da48900ad2367d72742bd', 'beeaeedc294a92c0931bad927e2d9595', '84f7ca459657002a5be6080dc4d328f8', '7deca9ecb305df51624f23d3dd46929e']\n",
      "['9ce11bd7daf7cac9d1f905a5567786cb', '99dfb52822ef708861877a87551b2e11', '30ea21fdc536463135046f5829396101', '56064b070041e7eefe0c82e360b2b5f3', '6e7c94ad21140bd5c3093a7a2a314e98']\n",
      "['9ce11bd7daf7cac9d1f905a5567786cb', '99dfb52822ef708861877a87551b2e11', '30ea21fdc536463135046f5829396101', '56064b070041e7eefe0c82e360b2b5f3', '108b8c6e4315b287b95980e96cfda3b6']\n",
      "['9fcf1eadb324ec24e96c38b9e4ea1ee2', '090746dc3708f4b676f5efb404393d97', '4ce25b472149b740d6bba2e0bea5175a', '3c29eae7def62da4666b1d1bb55dfc89', '6194d8a0f6ffba47c299450123b06df8']\n",
      "['fa6e2775811bce257079ec53810abea2', 'b1ea1718738ab035168eda0a3e762e7f', '5f6158f45cbfc76a95147efa4e866adc', 'c67437653ad9b9013f4c9c6f99106fd2', '027be18ee94fd4f9bdcb6a9cafd99c28', '094bf76baa84a4f1e90eafe0bc5d8b69']\n",
      "['fa6e2775811bce257079ec53810abea2', 'b1ea1718738ab035168eda0a3e762e7f', '5f6158f45cbfc76a95147efa4e866adc', 'c67437653ad9b9013f4c9c6f99106fd2', '027be18ee94fd4f9bdcb6a9cafd99c28', '3623b8ee0eac7bb17f4867f94827c557']\n",
      "['bcb39d8f185b7e99665312353548cf0f', '99e13e6d55fdfb2e82c4cc6b04ed7670', 'c6f3b4689ca84ada83c5bff0cb8207cf', '6aaec24cd53c1a6899538600e554c611', 'd4b6f6c910f191d4c6c0d886c9e07b92']\n",
      "['e232efb32e228c9a6bf62c3c6e78b2a8', '39ac8a874a417986393601a2bc7b8a13', '1b90f555bcc4cba5ac266bfc15b9e413', 'b84a15b8b62a91fdb1c383863e38a77b', '51417b1246d82c8beca17a835c9ca8a2']\n",
      "['e232efb32e228c9a6bf62c3c6e78b2a8', '39ac8a874a417986393601a2bc7b8a13', '3c71f3cd3ba247023acd8e049434341d', 'bf0b6d56e178b0dbd70a4ca088b8adba', 'c1afa3ee0c1263c400ef6fde6be96e75']\n",
      "['e232efb32e228c9a6bf62c3c6e78b2a8', '39ac8a874a417986393601a2bc7b8a13', '3c71f3cd3ba247023acd8e049434341d', 'bf0b6d56e178b0dbd70a4ca088b8adba', 'eb45fe9c7fee127c9a0179bfb8a30110']\n",
      "['e232efb32e228c9a6bf62c3c6e78b2a8', '39ac8a874a417986393601a2bc7b8a13', '51417b1246d82c8beca17a835c9ca8a2', 'eb45fe9c7fee127c9a0179bfb8a30110', 'bf0b6d56e178b0dbd70a4ca088b8adba']\n",
      "['c674f5c049fc04b1f7ade0065a194257', '181d9fd0dd23e05337b1f382ae536b0f', 'f938124d5235d9a3d4c520b2cc16ee75', 'c59363a9155e505dd521f75544e25d76', '84cf702cbd8e193160833087a27025ce']\n",
      "['00da02584efc52f8ace370e26d8011f2', '6b0a4e3938dd107b9a7643b4e7a4a3dc', '19c3a8401a3b72f075c1e8dd310e16a6', '6b8131169ff31aed260ad950b11f01f9', '09da2251170502f48d2c83d1033786a3']\n",
      "['9148c84eb97282eb0a802b01da6fe9c6', '324b9a595bd6c42f2d0197b82bb3e2cf', '8750f1ec1a9522334820d8f177f343f0', '712bd5966fcf58f2b4dfc228dd7f797e', '51e6fdf28cc0e059663ecbbeb79d7590']\n",
      "['c53341ab249d5ebf4b2314fa21390b86', 'df3e10725b710eb05df8392b280a3eb5', '6e450f7a313693c18578ea3f414c07db', '626b3b7a666c4b89fd9f24f27038828b', 'e594d9698858241c3f5ca094a3084dc1', '5dfd4450617cc193a117e2402c1a03a4', 'de8078caba855d583fc6f65d5f4ca0e6', 'd46d75a758351ce09253bbb6190e8a55']\n",
      "['5b3ba71716d8c605c0b538e2269173eb', 'c5ddf77102061876f5ca28d1c3d0cbfc', 'edc5c532fcd1fa51927e63a4da72df09', 'fa300a48bf4fe26c3dfba9b00126087f', 'dfbfc587652415fb9e229db2bd0c3842']\n",
      "['a0570ec4d7b4a92692d04bd9db392afe', 'a09859fea26de732a1fd80b183df8fc3', '8be4d9bc42036f57b5aecf695ba4d89f', 'aca7f6d5867d995f7be4c5afc4311e18', 'a29af830178497d83c9a13e60563e436']\n",
      "['841e31133f21f9cca99ee04949f1b6fd', '24ac776385cc8da2b0b1686b62b0f4ef', 'eb2ed53cd727d9bd2ec1c58888a2dfd9', '606d4be4bd24f2c34d4f1130b65a4ac8', '56f4f332297440aa8a0f91d36305ea0f']\n",
      "['6ff63b6a001d333553eb81afe308a9f0', '871d81f89331782b69795ed9f21df384', '473c71c4112c90ddecaf441aebdea715', 'e9979369e3a2b2549673d4ccc0af1daf', 'f89e1002e0769ba8452898b9ab8cd65f']\n",
      "['b9a2ab64d0c4a1c41a743b2bab721b65', '16b62e195a0928c91422990ae9045da1', '3d1269733194189de1e0a8bc724c79f6', '5dadaf2d92fade6f429973e25aadd673', '5a0fb7e39202f9d529f8c93093830d75']\n",
      "['196b126a2d022c35dff724714e4ab446', '4e4a792ed352d985955299e1fbeb12da', '26ac4f4c8cb5dc627d64aa066b21757e', 'a3f573b8e004b4ee9ecf1db9d5acda01', 'be860257296c53715e35122e20c83fc5']\n",
      "['b3cb26c6398986fbd0e9a5d2df1cd01a', '30f259b7c869ec7979b4037de0e86218', 'b3094027aec3e3498b97ae48228ef974', '6994892a0d33c64f3b4a8b53abe7e9c7', '72b5f3cd7a3ff394c727f3e56df2faf5']\n",
      "['b6df7ce07db8cbd92fbbc9602aa80197', '054adfc31fec60913be5c3679b9b9e2f', 'fb11a4322846808cccdf4f55f081e8e6', '74cbdbfa5533ca41b4e54d74fe0cf912', '82832ac9c918be41488e19bc174f5384']\n",
      "['292091336a18bc477172a24fc00f9a67', 'e97b598090be3f7e0e3993677037aeb9', '1e53c35aad02ef31645775feabb1ebec', '5dd8c35d590a626e65e6ac6741641c29', 'a216269337a30c17b8fc9345548f21e1']\n",
      "['292091336a18bc477172a24fc00f9a67', 'e97b598090be3f7e0e3993677037aeb9', '1e53c35aad02ef31645775feabb1ebec', '5dd8c35d590a626e65e6ac6741641c29', 'f8a25649d1f0b51f812d995fefcfe79a']\n",
      "['8694c8abd904597ced1c6b3b477a6fd0', '70b1d5340b68485b556c3bc87fc23778', 'ddd1a05dec296445fd72532e070a5d95', '94b8c8b2dfbe5b610d5215b2ab242084', 'bd138f8e3ec8eb43bb6fc2b16b300a9c']\n",
      "['fb84ec0266f34911f2a42393ace71739', '72cfafbc183ff60f4a0ec5cae1a93ba7', 'f36e7e4bab48653680b73d48e4ba7e09', '8ed3c677265a46732827b4ecfa03f8f8', 'fbc5df2bd19da63f13e0c3400a780c53']\n",
      "['fb84ec0266f34911f2a42393ace71739', '136516da37424dda702474fc5f94651f', '40de563f2d4d154ef7e7fe333216f557', 'fbc5df2bd19da63f13e0c3400a780c53', '8ed3c677265a46732827b4ecfa03f8f8', '34e3847199a02e7426c8ee07d61dc6a3', 'f36e7e4bab48653680b73d48e4ba7e09']\n",
      "['fb84ec0266f34911f2a42393ace71739', '136516da37424dda702474fc5f94651f', '40de563f2d4d154ef7e7fe333216f557', 'fbc5df2bd19da63f13e0c3400a780c53', '8ed3c677265a46732827b4ecfa03f8f8', '34e3847199a02e7426c8ee07d61dc6a3', '61a7734f9545468c0905c2502b2904b6']\n",
      "['9de4e44d6a02e59e4368719aa2f665ff', '5fffc56a2a17c4dccc25e25751a16ba0', '538031c551dbbf7e2ebe834a66eaf85b', '1cc2b73138aded9dc6741aa29ad761e4', '786696e1300db5e076765c59454250c5']\n",
      "['547d2bc18b43546c7d335c3805a0763d', '77d04a4e81cc0e60afbdaa4e83e57104', '3663ca001ed1a32c9f405d426d754366', '3dc480b08073f78b89dffd84b958e0cf', 'c4ddf42906f0db370a8cb4bc4cf4b741', 'a2087e91f767a40f0176fa6b4eed2b2a']\n",
      "['21b8e404e4b07a100319648f6d316f39', '71e22f914688c1b63ac71256d915b69b', '58a44670edec8022360b71e743584c1c', '0ed6b0bb09957c4bdf8c301d1a2b3f3f', '7e77daa4d88565a22ccdb2eebc4cd05d']\n",
      "['40de563f2d4d154ef7e7fe333216f557', '9d2fcbb4ab9a0806329cec3d154153af', '136516da37424dda702474fc5f94651f', 'f36e7e4bab48653680b73d48e4ba7e09', '8ed3c677265a46732827b4ecfa03f8f8', '34e3847199a02e7426c8ee07d61dc6a3', 'fbc5df2bd19da63f13e0c3400a780c53']\n",
      "['a26cd0a26b4dea113eae547a53286166', '055ae44c740f300fd062b829b9e1c752', '3016aa00577f843375a272b40e63786c', '6fc560985d13ea8826f23cec361b963d', '34eff980bb631ec834084063f2a200f6']\n",
      "['69bd56ae211ff47dd524b2346c228a14', 'e9f8c2a91a7a53c6077d0bc0e848b986', '66c9ee2b4f3dc54513248c293b4bd6f9', '46037ebb33846d69a01a808e08784247', '69954c1c5c1b4b81ec132db5251b84aa']\n",
      "['4ce25b472149b740d6bba2e0bea5175a', '3c29eae7def62da4666b1d1bb55dfc89', 'b04ec05ccef47e876e60dc60724635d5', '090746dc3708f4b676f5efb404393d97', '6194d8a0f6ffba47c299450123b06df8']\n",
      "['01c33bc7d3868369e0cb5053ff8fe7cb', '9a788c995801e24708c6fa6b2904785c', 'ffd6f050396b0ddd92bbea501842fa1d', '67ccac076f1a5d92366f89b1346e105a', 'baf91a04bcbca51bc96527a7c05c0608']\n",
      "['84f284b0a3d46e58f288d0b688541619', '9114080e956188d239148abec11e2fc8', '97473648ec39b4b0900b574dc2f247ba', 'df93dcf9613f4ca47816399e7f8daae3', 'f60bfb5ee58c206ba0e537f1ce904146']\n",
      "['b0410827c62c306c3ef18435812110c6', '0f266a316b33c5e77c964341f5caf765', '7761d6e070d456285dc3b5c48f32e5a3', 'd28efb8ce12a1a6528625390885c8db2', 'c8cea40fc48437932f672b9af835b8df']\n",
      "['b0410827c62c306c3ef18435812110c6', '0f266a316b33c5e77c964341f5caf765', '7761d6e070d456285dc3b5c48f32e5a3', 'd28efb8ce12a1a6528625390885c8db2', 'c52989527bbab6605e78e6033e498dc7']\n",
      "['e0b5958f3ed65ee2f830a8fe5362acf5', 'f8f82580e956539aae21fad284415121', '4093fa6e25d35f0f9987562cafe29d69', '51b1ce1081a8f2d99b1a65c2829c6501', '2231b1a972054594e70c12a55fd5cd42']\n",
      "['e0b5958f3ed65ee2f830a8fe5362acf5', 'f8f82580e956539aae21fad284415121', '4093fa6e25d35f0f9987562cafe29d69', '51b1ce1081a8f2d99b1a65c2829c6501', 'f6bea2a15d49835d58a74bb6b59c6255']\n",
      "['e0b5958f3ed65ee2f830a8fe5362acf5', 'f8f82580e956539aae21fad284415121', '4093fa6e25d35f0f9987562cafe29d69', '33738617aca9476c378995769b4dd983', 'f6bea2a15d49835d58a74bb6b59c6255']\n",
      "['61ce42d57513b3c6b57b38f5b7943675', '2f9153ce712570f0c82fd482f886260a', '8c7eab53edb1ce334876a676e659c30e', '53b17267f7693bf0b08b136a7f7f0d32', 'e7eaba9881a56ac8fdb867f02bf1f8f1']\n",
      "['2c7db7da7014008c8900c7261f9f5a62', '98cc6c22da9a2063256976e456f42910', 'bcc154463d9ca818f05dfa25445f4ded', '360830977a98eff12579d7c30eed7f00', 'fadee2d1b4f302887d7ca534fb13a3e4']\n",
      "['2c7db7da7014008c8900c7261f9f5a62', '98cc6c22da9a2063256976e456f42910', 'bcc154463d9ca818f05dfa25445f4ded', '360830977a98eff12579d7c30eed7f00', 'dbbb62cf6289c5613c69af7da916d58c']\n",
      "['fc4768202e1c5ee032b36cdf15e855be', '02aabf4a0b6708d8c06729d1d4c103ac', '3c1b38a4c04e663ce8504d93b0bc9e03', 'c516ef95b2d91425c359b0c82772de12', '6837b59d4a4e43517387752cd270ba4f']\n",
      "['f6b103ba2636bc9ee8db980903b260a8', '61e3603f7615978f7f5ab633879c42f9', '74f5c39ea147f5a4c7eec98a5b7a426c', '5c8e23c46b1fa621320b08d371fc792b', '9c846945691fa7f71f7c08d4ad51f350']\n",
      "['7c3c6f201672060ac2728e21bb67719b', 'a8d9415b186d59a6e161027dab239db3', '47b136210c0ac0ab4916bf9b6cf18ef9', 'a148e95f27622bc415cbe7ee4da6d013', 'f7759c7f2670154f1f34ed86406757c5']\n",
      "['e9f60703d22a356717f75b37f75faf4e', 'ad76994cf19faec7825db43d0c6a19bf', '1f16fa198bd6701cc78cf7496fa03417', 'a9a6ca7d1ebe7905a598d255f21f4a3c', '0c532b20e5da860d52cc05183c6cac7d']\n",
      "['da49abb15519cffb036eb771dccef541', '874279bc1c169ba87d6a851db1a2945b', 'aa8c87aab3cd69018e4c6c25633c9006', '0ac63149bd8b3d214fccc99170b3dd20', '128282ef2e9fc06352d5ba5b03136b25']\n",
      "['61e3603f7615978f7f5ab633879c42f9', '5c8e23c46b1fa621320b08d371fc792b', '74f5c39ea147f5a4c7eec98a5b7a426c', 'b04d8b4f48d37b0b3d78b9ac43425808', '9c846945691fa7f71f7c08d4ad51f350']\n",
      "['a8d9415b186d59a6e161027dab239db3', 'a148e95f27622bc415cbe7ee4da6d013', '3a91b35dfa1790e6aa87b74b8bfafd49', 'f7759c7f2670154f1f34ed86406757c5', '47b136210c0ac0ab4916bf9b6cf18ef9']\n",
      "['9219519c2dcdef9ca0b1da348eb1d900', '7703db3d856c3776f22df53551508204', '43d5a6153cb431d63a127f57e64bc3f0', 'f98df1560898e1d59293069f87672542', '8f09d7f424246076489c41ae4ebeff39']\n",
      "['ab5f98b1adaefe0d2a4eadd263162318', '0ed4af873c97653ca35823a7285b4b63', 'a9de4c623780c5262a4bebc62447ee66', '60f8fee3ac92a6e81daab5a864d82d55', '77249ddca8ca4887851a5fe10852cf4f']\n",
      "['ab5f98b1adaefe0d2a4eadd263162318', '0ed4af873c97653ca35823a7285b4b63', 'a9de4c623780c5262a4bebc62447ee66', '60f8fee3ac92a6e81daab5a864d82d55', '3750d7f7c0b1381b7179005750bb0bec']\n",
      "['a79b0890df1c2629cbbbcb5e00b82ef9', 'c57467a57387c5ea3d982e61a5184811', '4ef31070ef14f1f1655ce2b40251d67c', '4c1afd58c0a295cb5f7b20db4aea404e', '1577fe90340ee6946fe3d0e4fbc3dc7d']\n",
      "['a79b0890df1c2629cbbbcb5e00b82ef9', 'c57467a57387c5ea3d982e61a5184811', '4ef31070ef14f1f1655ce2b40251d67c', '4c1afd58c0a295cb5f7b20db4aea404e', 'c730e4cb61234e0f639f606d06147d7b']\n",
      "['7a4e64e1d7bdd7cf3d02b62d5c09b354', '93ea911fcc19263d19c60c265441d1a8', 'a0f386fa1755c32f2cb28dadd052b53c', 'dd1e40f6350dad49ddb93b1adbbc5837', 'c88ec96dedc46b943e72ebcfba85d0c7']\n",
      "['7a9cb5197e969d6d08d89c7967b2e5d2', 'aa16dc0196201f83dead48462fb86ecb', '99fdd0cbfe935d8aee7538bba831cc6a', '20c7cabf7c69caf9aac6ccb9f8a1c137', 'e617efb9cc211aef2833519ba10b14f2']\n",
      "['d50143e5837c2fe84a0de23b1676931d', '1b478cb2bbd38ace90c9aa0fee1f2a5e', '587350cfc73806e081274cbfd7bff6f2', '26e8dbf99ff7ba1a0701cebb93088198', '5bb1596fb35b272bcdd6673631fcecdd']\n",
      "['be970e96d798bf505475299d5e7833e6', '14f0fcaa9cd77049994b96bfd820b619', '7b4aa275410a22dd8846a31ce0e6430d', '6c26af528eff750d90b3be5d7e0b59be', '28802df43312a7fcc8c598a404bdbf26']\n",
      "['61f9dd2733228d51627b76af62711245', '4df3b42e9e77922e39a759cce80f8ae5', '53a403f0ef428c8c66e0b6a20aabee8b', 'b445196b028d41ed6ed274011791660c', '2985fddcae44e4bf08b1aebc2f623def']\n",
      "['9e6163eb6b9e14659d227f3ed795e0f7', 'a4f82a97601a605e16f3dd76ad28e737', 'e85d49629d8f6853320fd1c6b17a94df', '5d6d93cabf9580a473a6b4042fd579f9', '7cc7d02c807ff70a310047ec49b91256']\n",
      "['9e6163eb6b9e14659d227f3ed795e0f7', 'a4f82a97601a605e16f3dd76ad28e737', 'e85d49629d8f6853320fd1c6b17a94df', '5d6d93cabf9580a473a6b4042fd579f9', '7403fa6c304f56422cd522b8ef5416a6']\n",
      "['6c1d3473c83975e455d3d81402e35c8b', '70a5a19148f1e139cfe852c60a44ba1b', 'e290c1468b9060eea2b3a807ed286df9', 'a839677f2a7a08d3070737843148fd25', '135d697d2853924b87c9a2384844d46f']\n",
      "['32db8a18487dca3443f91885b52e9110', '4b3f78bff0754b331412eef077b057a0', '9d2fcbb4ab9a0806329cec3d154153af', 'ac9ff352f56eff7917ca1e530711f4ef', '0da67a8ea5bf0f311679817d09161340', '80f4013ab42027895d17c243d09920ab']\n",
      "['32db8a18487dca3443f91885b52e9110', '4b3f78bff0754b331412eef077b057a0', '9d2fcbb4ab9a0806329cec3d154153af', 'ac9ff352f56eff7917ca1e530711f4ef', '0da67a8ea5bf0f311679817d09161340', 'aa30668c3d4a0e6a81af3124861b349b']\n",
      "['32db8a18487dca3443f91885b52e9110', '4b3f78bff0754b331412eef077b057a0', '9d2fcbb4ab9a0806329cec3d154153af', '255de8b5133b60578442459f9fcc5950', '8d33d8190701af3fde329834d56439a1']\n",
      "['32db8a18487dca3443f91885b52e9110', '4b3f78bff0754b331412eef077b057a0', '9d2fcbb4ab9a0806329cec3d154153af', '8d33d8190701af3fde329834d56439a1', 'aa30668c3d4a0e6a81af3124861b349b']\n",
      "['3b1427aa251e633f0434d763bd58131f', '5efb129d07c7610ad4bd466366a85935', '62401c9d26e8351d2572e3c50668da4b', 'de7c765ada58c9d7601e27f1aabe56a2', '2f96cf09e525d711c43e53fce70799c0']\n",
      "['db7feb2c8023d866aea7641aff487daa', 'fbc53b155a52acf46d79c9a200cd190d', '731fba721ab75dc0f9c49541cdc3bb72', 'ac88c81becf72023cc6d4a4f147137b9', 'd7e4f6ebe5a47a3c5626fcea9a706a54']\n",
      "['47c16f2d6103a58b2dfe4e49f0e779ee', '3907038c2d7e8bf9f45c499e12018535', '10ce42d5d6876082596ad3834aa7b80a', 'f637a62576f6c47d7e7f5cb5530ad085', 'e0f03af52a83a66da16484ea44385841']\n",
      "['e8abf9deead5043ed5d0629ec6fefcf9', '98cc6c22da9a2063256976e456f42910', 'fadee2d1b4f302887d7ca534fb13a3e4', '360830977a98eff12579d7c30eed7f00', 'bcc154463d9ca818f05dfa25445f4ded']\n",
      "['a44cda5699ee85d4bd9bcd5165197f7d', 'fad1b2b9f67c0444ec613745df401c9c', '996801597d0e155809446bdfb655e263', '8bff5f5a979bd350f172aaa20018889f', '0b3804eb04d60ccc5df1cd8d2d0b998c']\n",
      "['ba67608ec4de9d63691efccd84e7a108', '92b22af66b7901c80f215eba4a7fb6c4', '649df25ad74333311c42433ee2fbb23e', '6ed50f8db90dcd15df276768d91d9394', '9491296965dfd22f592325fa4313de41']\n",
      "['fbc53b155a52acf46d79c9a200cd190d', '731fba721ab75dc0f9c49541cdc3bb72', 'db19bbdab740a4f753e01d6ea656f93e', 'ac88c81becf72023cc6d4a4f147137b9', '1ac9e33da2284180a6ba7d61665835e5']\n",
      "['fbc53b155a52acf46d79c9a200cd190d', '731fba721ab75dc0f9c49541cdc3bb72', 'db19bbdab740a4f753e01d6ea656f93e', 'ac88c81becf72023cc6d4a4f147137b9', 'd7e4f6ebe5a47a3c5626fcea9a706a54']\n",
      "['db19bbdab740a4f753e01d6ea656f93e', 'd94ff6a886576a29f6f2d9e5d20b45f5', 'ac88c81becf72023cc6d4a4f147137b9', '731fba721ab75dc0f9c49541cdc3bb72', 'd7e4f6ebe5a47a3c5626fcea9a706a54']\n",
      "['60d358fd828eea09e46ccc3c82f1287d', 'f00a52426f9b35660dd5fd80b2a2a622', 'd41a0315336a42d6e0a68291900efb4c', 'd00c9dac0af55c58a600dd1b32dbfd48', 'e4757aa2c6bcf3fb2f8d98e97a4f7f77']\n",
      "['aeb7244215e41ba964139c3d03a49d68', '3907038c2d7e8bf9f45c499e12018535', '10ce42d5d6876082596ad3834aa7b80a', 'f637a62576f6c47d7e7f5cb5530ad085', 'e0f03af52a83a66da16484ea44385841']\n",
      "['4d3f224569d85664acef2e0bebccf13a', 'f56c36a620ce1847248a17a5e6f5c630', '064260b95c11ddfe0864b7d63ccfba29', '2c975832806e61cb88b26c926ec8a5f7', '40d6cf2f3f2cf01bb76a483c3989e0f3']\n",
      "['c4abbb7fff38953557cecf472fcdb666', '3923f4e312454fdf6304e749438a497f', 'b79ca73924468f70c53b1d111ec35c7a', '14bb42c7907bcbbb46cabeec757bb3d6', 'b8098ecf37a6be2f0fcb899959c73df5']\n",
      "['ddeff49ffc3001b0356d13dc397b047a', 'a562fbe7bffd91fbfdb75139f42af52c', '5ee6de9906eda9bb7c77fb8bef9a307b', '73a1f751589fc557946c06f6ec29a1b0', '2b0db95aea7382f9eb99898dc1ed8f8d']\n",
      "['09da2251170502f48d2c83d1033786a3', '6b0a4e3938dd107b9a7643b4e7a4a3dc', 'ec0784db2b544d6936ddf6475dc977d6', '19c3a8401a3b72f075c1e8dd310e16a6', '6b8131169ff31aed260ad950b11f01f9']\n"
     ]
    },
    {
     "ename": "StopIteration",
     "evalue": "",
     "output_type": "error",
     "traceback": [
      "\u001b[0;31m\u001b[0m",
      "\u001b[0;31mStopIteration\u001b[0mTraceback (most recent call last)",
      "\u001b[0;32m<ipython-input-32-548599f84355>\u001b[0m in \u001b[0;36m<module>\u001b[0;34m()\u001b[0m\n\u001b[1;32m      2\u001b[0m \u001b[0mgroups\u001b[0m \u001b[1;33m=\u001b[0m \u001b[1;33m{\u001b[0m\u001b[1;33m}\u001b[0m\u001b[1;33m\u001b[0m\u001b[0m\n\u001b[1;32m      3\u001b[0m \u001b[1;32mfor\u001b[0m \u001b[0mx\u001b[0m \u001b[1;32min\u001b[0m \u001b[0mrange\u001b[0m\u001b[1;33m(\u001b[0m\u001b[1;36m0\u001b[0m\u001b[1;33m,\u001b[0m \u001b[1;36m1000000\u001b[0m\u001b[1;33m)\u001b[0m\u001b[1;33m:\u001b[0m\u001b[1;33m\u001b[0m\u001b[0m\n\u001b[0;32m----> 4\u001b[0;31m     \u001b[0mtemp\u001b[0m \u001b[1;33m=\u001b[0m \u001b[0mcliques\u001b[0m\u001b[1;33m.\u001b[0m\u001b[0mnext\u001b[0m\u001b[1;33m(\u001b[0m\u001b[1;33m)\u001b[0m\u001b[1;33m\u001b[0m\u001b[0m\n\u001b[0m\u001b[1;32m      5\u001b[0m     \u001b[0mleng\u001b[0m \u001b[1;33m=\u001b[0m \u001b[0mlen\u001b[0m\u001b[1;33m(\u001b[0m\u001b[0mtemp\u001b[0m\u001b[1;33m)\u001b[0m\u001b[1;33m\u001b[0m\u001b[0m\n\u001b[1;32m      6\u001b[0m     \u001b[0mn\u001b[0m \u001b[1;33m=\u001b[0m \u001b[0mcount\u001b[0m\u001b[1;33m[\u001b[0m\u001b[0mleng\u001b[0m\u001b[1;33m]\u001b[0m\u001b[1;33m\u001b[0m\u001b[0m\n",
      "\u001b[0;31mStopIteration\u001b[0m: "
     ]
    }
   ],
   "source": [
    "#criar dicionários com os grupos e com a contagem de grupos estratificada por tamanho\n",
    "count = {2:0,3:0,4:0,5:0,6:0,7:0,8:0,9:0,10:0}\n",
    "groups = {}\n",
    "for x in range(0, 1000000):\n",
    "    temp = cliques.next()\n",
    "    leng = len(temp)\n",
    "    n = count[leng]\n",
    "    count[leng] = n + 1\n",
    "    if len(temp)>4:\n",
    "        print temp\n",
    "        groups[x] = temp"
   ]
  },
  {
   "cell_type": "code",
   "execution_count": 33,
   "metadata": {
    "collapsed": false
   },
   "outputs": [
    {
     "name": "stdout",
     "output_type": "stream",
     "text": [
      "{2: 127837, 3: 14847, 4: 2399, 5: 525, 6: 97, 7: 18, 8: 15, 9: 2, 10: 0}\n"
     ]
    }
   ],
   "source": [
    "#observar contagem de grupos conexos encontrados\n",
    "print count"
   ]
  },
  {
   "cell_type": "code",
   "execution_count": 36,
   "metadata": {
    "collapsed": false
   },
   "outputs": [],
   "source": [
    "#salvar grupos de amigos processados\n",
    "import pickle\n",
    "pickle.dump(groups, open(\"groups.p\", \"wb\"))\n",
    "pickle.dump(count, open(\"count.p\", \"wb\"))"
   ]
  },
  {
   "cell_type": "markdown",
   "metadata": {},
   "source": [
    "# Avaliação preliminar de grupos"
   ]
  },
  {
   "cell_type": "code",
   "execution_count": 49,
   "metadata": {
    "collapsed": false,
    "scrolled": false
   },
   "outputs": [
    {
     "data": {
      "text/html": [
       "<div>\n",
       "<table border=\"1\" class=\"dataframe\">\n",
       "  <thead>\n",
       "    <tr style=\"text-align: right;\">\n",
       "      <th></th>\n",
       "      <th>count</th>\n",
       "      <th>mean</th>\n",
       "      <th>std</th>\n",
       "      <th>min</th>\n",
       "      <th>25%</th>\n",
       "      <th>50%</th>\n",
       "      <th>75%</th>\n",
       "      <th>max</th>\n",
       "    </tr>\n",
       "  </thead>\n",
       "  <tbody>\n",
       "    <tr>\n",
       "      <th>ope</th>\n",
       "      <td>1263653.0</td>\n",
       "      <td>3.723952</td>\n",
       "      <td>0.737482</td>\n",
       "      <td>1.0</td>\n",
       "      <td>3.25</td>\n",
       "      <td>3.75</td>\n",
       "      <td>4.25</td>\n",
       "      <td>5.0</td>\n",
       "    </tr>\n",
       "    <tr>\n",
       "      <th>con</th>\n",
       "      <td>1263653.0</td>\n",
       "      <td>3.550088</td>\n",
       "      <td>0.757801</td>\n",
       "      <td>1.0</td>\n",
       "      <td>3.00</td>\n",
       "      <td>3.50</td>\n",
       "      <td>4.00</td>\n",
       "      <td>5.0</td>\n",
       "    </tr>\n",
       "    <tr>\n",
       "      <th>ext</th>\n",
       "      <td>1263653.0</td>\n",
       "      <td>3.625982</td>\n",
       "      <td>0.823770</td>\n",
       "      <td>1.0</td>\n",
       "      <td>3.00</td>\n",
       "      <td>3.75</td>\n",
       "      <td>4.25</td>\n",
       "      <td>5.0</td>\n",
       "    </tr>\n",
       "    <tr>\n",
       "      <th>agr</th>\n",
       "      <td>1263653.0</td>\n",
       "      <td>3.560796</td>\n",
       "      <td>0.754764</td>\n",
       "      <td>1.0</td>\n",
       "      <td>3.00</td>\n",
       "      <td>3.67</td>\n",
       "      <td>4.00</td>\n",
       "      <td>5.0</td>\n",
       "    </tr>\n",
       "    <tr>\n",
       "      <th>neu</th>\n",
       "      <td>1263653.0</td>\n",
       "      <td>2.764484</td>\n",
       "      <td>0.811369</td>\n",
       "      <td>1.0</td>\n",
       "      <td>2.25</td>\n",
       "      <td>2.75</td>\n",
       "      <td>3.25</td>\n",
       "      <td>5.0</td>\n",
       "    </tr>\n",
       "  </tbody>\n",
       "</table>\n",
       "</div>"
      ],
      "text/plain": [
       "         count      mean       std  min   25%   50%   75%  max\n",
       "ope  1263653.0  3.723952  0.737482  1.0  3.25  3.75  4.25  5.0\n",
       "con  1263653.0  3.550088  0.757801  1.0  3.00  3.50  4.00  5.0\n",
       "ext  1263653.0  3.625982  0.823770  1.0  3.00  3.75  4.25  5.0\n",
       "agr  1263653.0  3.560796  0.754764  1.0  3.00  3.67  4.00  5.0\n",
       "neu  1263653.0  2.764484  0.811369  1.0  2.25  2.75  3.25  5.0"
      ]
     },
     "execution_count": 49,
     "metadata": {},
     "output_type": "execute_result"
    },
    {
     "data": {
      "image/png": "[encoded data removed]",
      "text/plain": [
       "<matplotlib.figure.Figure at 0x2bcb3390>"
      ]
     },
     "metadata": {},
     "output_type": "display_data"
    }
   ],
   "source": [
    "#estatística descritiva dos dados filtrados\n",
    "plt.boxplot(data_filtered[[\"ope\",\"con\",\"ext\",\"agr\",\"neu\"]].as_matrix())\n",
    "data_filtered[[\"ope\",\"con\",\"ext\",\"agr\",\"neu\"]].describe().transpose()"
   ]
  },
  {
   "cell_type": "code",
   "execution_count": 52,
   "metadata": {
    "collapsed": false,
    "scrolled": false
   },
   "outputs": [
    {
     "name": "stdout",
     "output_type": "stream",
     "text": [
      "         ope   con   ext   agr   neu\n",
      "251164  3.50  3.00  3.25  2.33  2.75\n",
      "312683  3.00  3.25  4.00  3.50  2.25\n",
      "437777  3.50  2.75  3.25  3.75  2.25\n",
      "448398  4.25  3.50  4.75  2.25  3.67\n",
      "546096  4.00  3.50  4.00  3.50  2.50\n",
      "          ope   con   ext   agr   neu\n",
      "638513   3.50  3.00  4.50  4.00  2.50\n",
      "832416   3.25  4.00  2.50  4.00  3.00\n",
      "836862   4.00  3.50  4.25  3.75  3.50\n",
      "1046095  4.50  3.75  2.75  4.00  2.50\n",
      "1054979  3.00  4.75  4.25  4.00  1.25\n",
      "          ope   con   ext   agr   neu\n",
      "246192   4.00  2.75  5.00  4.25  1.50\n",
      "499257   4.00  2.75  4.75  3.00  3.75\n",
      "766629   4.50  4.00  3.50  3.25  3.50\n",
      "964930   4.50  3.50  4.75  4.25  1.50\n",
      "1106842  3.75  2.25  4.75  4.25  2.75\n",
      "         ope   con   ext   agr   neu\n",
      "518291  2.50  3.50  4.25  4.00  2.00\n",
      "586456  3.50  3.50  4.50  4.00  1.75\n",
      "845435  3.75  3.00  3.00  2.50  3.25\n",
      "932578  3.75  4.25  4.75  2.75  3.50\n",
      "935708  4.00  2.50  5.00  2.67  2.25\n",
      "          ope   con   ext   agr   neu\n",
      "133259   3.25  4.75  4.00  4.00  2.00\n",
      "148128   3.50  2.67  2.75  4.25  3.00\n",
      "405912   3.75  3.50  4.75  3.50  2.75\n",
      "1058015  3.75  3.00  2.75  2.00  3.25\n",
      "1167607  4.00  3.75  4.75  4.75  2.25\n",
      "          ope   con   ext   agr   neu\n",
      "133259   3.25  4.75  4.00  4.00  2.00\n",
      "148128   3.50  2.67  2.75  4.25  3.00\n",
      "405912   3.75  3.50  4.75  3.50  2.75\n",
      "1167607  4.00  3.75  4.75  4.75  2.25\n",
      "1179388  3.75  3.25  3.75  3.00  2.25\n"
     ]
    }
   ],
   "source": [
    "# Análise por grupo\n",
    "i_count = 0\n",
    "for key1 in groups:\n",
    "    print data_filtered[data_filtered[\"userid\"].isin(groups[key1])][[\"ope\",\"con\",\"ext\",\"agr\",\"neu\"]]\n",
    "    #plt.boxplot(data_filtered[data_filtered[\"userid\"].isin(groups[key1])][[\"ope\",\"con\",\"ext\",\"agr\",\"neu\"]].as_matrix())\n",
    "    i_count += 1\n",
    "    if i_count > 5:\n",
    "        break"
   ]
  },
  {
   "cell_type": "markdown",
   "metadata": {},
   "source": [
    "import pickle\n",
    "groups = pickle.load(open(\"groups.p\", \"rb\" ))"
   ]
  },
  {
   "cell_type": "markdown",
   "metadata": {},
   "source": [
    "del(groups)"
   ]
  },
  {
   "cell_type": "markdown",
   "metadata": {},
   "source": [
    "del(friends_filter)"
   ]
  },
  {
   "cell_type": "markdown",
   "metadata": {},
   "source": [
    "del(friends_filter)\n",
    "del(chunk)"
   ]
  },
  {
   "cell_type": "markdown",
   "metadata": {},
   "source": [
    "friends_filter = friends[friends[\"friend1\"].isin(data[\"userid\"]) & friends[\"friend2\"].isin(data[\"userid\"])]"
   ]
  },
  {
   "cell_type": "markdown",
   "metadata": {},
   "source": [
    "# PCA - Redução de dimensionalidade"
   ]
  },
  {
   "cell_type": "markdown",
   "metadata": {
    "collapsed": false
   },
   "source": [
    "from sklearn.decomposition import PCA\n",
    "\n",
    "X = data[[\"ope\", \"con\", \"ext\", \"agr\", \"neu\"]].as_matrix()\n",
    "X"
   ]
  },
  {
   "cell_type": "markdown",
   "metadata": {
    "collapsed": false
   },
   "source": [
    "pca = PCA(n_components = 2)\n",
    "pca.fit(X)\n",
    "\n",
    "print(pca.explained_variance_ratio_) \n",
    "print pca.components_"
   ]
  },
  {
   "cell_type": "markdown",
   "metadata": {
    "collapsed": true
   },
   "source": [
    "X_new = pca.transform(X)"
   ]
  },
  {
   "cell_type": "markdown",
   "metadata": {
    "collapsed": false
   },
   "source": [
    "X_new"
   ]
  },
  {
   "cell_type": "markdown",
   "metadata": {
    "collapsed": false
   },
   "source": [
    "plt.plot(X_new[:,0:1], X_new[:,1:2], 'rx')\n",
    "plt.show()"
   ]
  },
  {
   "cell_type": "markdown",
   "metadata": {},
   "source": [
    "# Tentativa de criar gráfico iterativo em 3D"
   ]
  },
  {
   "cell_type": "markdown",
   "metadata": {
    "collapsed": true
   },
   "source": [
    "\n",
    "import plotly.plotly as py\n",
    "import plotly.graph_objs as go\n",
    "import pandas as pd\n",
    "df = pd.read_csv('https://raw.githubusercontent.com/plotly/datasets/master/iris.csv')\n",
    "df.head()\n",
    "\n",
    "data = []\n",
    "clusters = []\n",
    "colors = ['rgb(228,26,28)','rgb(55,126,184)','rgb(77,175,74)']\n",
    "\n",
    "for i in range(len(df['Name'].unique())):\n",
    "    name = df['Name'].unique()[i]\n",
    "    color = colors[i]\n",
    "    x = df[ df['Name'] == name ]['SepalLength']\n",
    "    y = df[ df['Name'] == name ]['SepalWidth']\n",
    "    z = df[ df['Name'] == name ]['PetalLength']\n",
    "    \n",
    "    trace = dict(\n",
    "        name = name,\n",
    "        x = x, y = y, z = z,\n",
    "        type = \"scatter3d\",    \n",
    "        mode = 'markers',\n",
    "        marker = dict( size=3, color=color, line=dict(width=0) ) )\n",
    "    data.append( trace )\n",
    "\n",
    "layout = dict(\n",
    "    width=800,\n",
    "    height=550,\n",
    "    autosize=False,\n",
    "    title='Iris dataset',\n",
    "    scene=dict(\n",
    "        xaxis=dict(\n",
    "            gridcolor='rgb(255, 255, 255)',\n",
    "            zerolinecolor='rgb(255, 255, 255)',\n",
    "            showbackground=True,\n",
    "            backgroundcolor='rgb(230, 230,230)'\n",
    "        ),\n",
    "        yaxis=dict(\n",
    "            gridcolor='rgb(255, 255, 255)',\n",
    "            zerolinecolor='rgb(255, 255, 255)',\n",
    "            showbackground=True,\n",
    "            backgroundcolor='rgb(230, 230,230)'\n",
    "        ),\n",
    "        zaxis=dict(\n",
    "            gridcolor='rgb(255, 255, 255)',\n",
    "            zerolinecolor='rgb(255, 255, 255)',\n",
    "            showbackground=True,\n",
    "            backgroundcolor='rgb(230, 230,230)'\n",
    "        ),\n",
    "        aspectratio = dict( x=1, y=1, z=0.7 ),\n",
    "        aspectmode = 'manual'        \n",
    "    ),\n",
    ")\n",
    "\n",
    "fig = dict(data=data, layout=layout)\n",
    "\n",
    "\n",
    "url = py.plot(fig, filename='pandas-3d-iris', validate=False)"
   ]
  }
 ],
 "metadata": {
  "anaconda-cloud": {},
  "kernelspec": {
   "display_name": "Python 2",
   "language": "python",
   "name": "python2"
  },
  "language_info": {
   "codemirror_mode": {
    "name": "ipython",
    "version": 2
   },
   "file_extension": ".py",
   "mimetype": "text/x-python",
   "name": "python",
   "nbconvert_exporter": "python",
   "pygments_lexer": "ipython2",
   "version": "2.7.13"
  }
 },
 "nbformat": 4,
 "nbformat_minor": 1
}
