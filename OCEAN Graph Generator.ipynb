{
 "cells": [
  {
   "cell_type": "markdown",
   "metadata": {
    "collapsed": true
   },
   "source": [
    "# Loading libraries"
   ]
  },
  {
   "cell_type": "code",
   "execution_count": 1,
   "metadata": {
    "collapsed": true
   },
   "outputs": [],
   "source": [
    "import numpy as np\n",
    "import pandas as pd\n",
    "import pickle\n",
    "import xml.etree.ElementTree as ET"
   ]
  },
  {
   "cell_type": "markdown",
   "metadata": {},
   "source": [
    "# Loading MyPersonality data sets"
   ]
  },
  {
   "cell_type": "code",
   "execution_count": 2,
   "metadata": {
    "collapsed": false
   },
   "outputs": [
    {
     "name": "stderr",
     "output_type": "stream",
     "text": [
      "C:\\ProgramData\\Anaconda2\\lib\\site-packages\\IPython\\core\\interactiveshell.py:2717: DtypeWarning: Columns (8) have mixed types. Specify dtype option on import or set low_memory=False.\n",
      "  interactivity=interactivity, compiler=compiler, result=result)\n"
     ]
    }
   ],
   "source": [
    "big_five = pd.read_csv('Datasets\\\\big5.csv')\n",
    "country = pd.read_csv('Datasets\\\\country.csv')\n",
    "demog = pd.read_csv('Datasets\\\\demog.csv')"
   ]
  },
  {
   "cell_type": "markdown",
   "metadata": {},
   "source": [
    "# Preprocessing"
   ]
  },
  {
   "cell_type": "code",
   "execution_count": 73,
   "metadata": {
    "collapsed": false
   },
   "outputs": [],
   "source": [
    "big_five = big_five[big_five['blocks'] == 20]\n",
    "country = country[country['country'] == 'united states']\n",
    "demog = demog[pd.notnull(demog['gender']) &\n",
    "              pd.notnull(demog['age']) &\n",
    "              pd.notnull(demog['relationship_status'])]"
   ]
  },
  {
   "cell_type": "markdown",
   "metadata": {},
   "source": [
    "# Join data sets"
   ]
  },
  {
   "cell_type": "code",
   "execution_count": 10,
   "metadata": {
    "collapsed": false
   },
   "outputs": [],
   "source": [
    "user_data = pd.merge(left=big_five, right=country, how='inner', on='userid')\n",
    "user_data = pd.merge(left=user_data, right=demog, how='inner', on='userid')\n",
    "\n",
    "del(big_five)\n",
    "del(country)\n",
    "del(demog)"
   ]
  },
  {
   "cell_type": "markdown",
   "metadata": {
    "collapsed": true
   },
   "source": [
    "# Importing Friendship DIADS"
   ]
  },
  {
   "cell_type": "code",
   "execution_count": 3,
   "metadata": {
    "collapsed": false
   },
   "outputs": [
    {
     "name": "stdout",
     "output_type": "stream",
     "text": [
      "Wall time: 6.68 s\n",
      "(12299, 2)\n",
      "Wall time: 6.34 s\n",
      "(28553, 2)\n",
      "Wall time: 7.26 s\n",
      "(52760, 2)\n",
      "Wall time: 7.29 s\n",
      "(96985, 2)\n",
      "Wall time: 7.34 s\n",
      "(144481, 2)\n",
      "Wall time: 7.28 s\n",
      "(191682, 2)\n",
      "Wall time: 7.35 s\n",
      "(235436, 2)\n",
      "Wall time: 7.58 s\n",
      "(278698, 2)\n",
      "Wall time: 7.58 s\n",
      "(320582, 2)\n",
      "Wall time: 8.34 s\n",
      "(363416, 2)\n",
      "Wall time: 8.96 s\n",
      "(407945, 2)\n",
      "Wall time: 8.86 s\n",
      "(450260, 2)\n",
      "Wall time: 8.02 s\n",
      "(495961, 2)\n",
      "Wall time: 7.92 s\n",
      "(539325, 2)\n",
      "Wall time: 8.2 s\n",
      "(582404, 2)\n",
      "Wall time: 7.46 s\n",
      "(625142, 2)\n",
      "Wall time: 7.42 s\n",
      "(665986, 2)\n",
      "Wall time: 7.49 s\n",
      "(703544, 2)\n",
      "Wall time: 7.97 s\n",
      "(842056, 2)\n",
      "Wall time: 8.67 s\n",
      "(991440, 2)\n",
      "Wall time: 8.63 s\n",
      "(1112380, 2)\n",
      "Wall time: 8.65 s\n",
      "(1182399, 2)\n",
      "Wall time: 5.16 s\n",
      "(1199090, 2)\n"
     ]
    }
   ],
   "source": [
    "# Gephi works up to 100,000 nodes and 1,000,000 edges\n",
    "# Temporary solution\n",
    "# user_data = user_data[:100000]\n",
    "user_id = big_five['userid']\n",
    "\n",
    "n = 0\n",
    "n_max = 200\n",
    "debug = False\n",
    "\n",
    "chunksize = 10 ** 7\n",
    "user_diads = pd.DataFrame({'friend1':[], 'friend2': []})\n",
    "for chunk in pd.read_csv('Datasets\\\\fb_friendship.csv', chunksize=chunksize):\n",
    "    %time temp = chunk[chunk['friend1'].isin(user_id) & chunk['friend2'].isin(user_id)]\n",
    "    user_diads = pd.concat([user_diads, temp], ignore_index=True)\n",
    "    del(temp)\n",
    "     \n",
    "    print user_diads.shape\n",
    "    \n",
    "    n+=1\n",
    "    if debug & n >= n_max:\n",
    "        break"
   ]
  },
  {
   "cell_type": "markdown",
   "metadata": {},
   "source": [
    "# Saving results"
   ]
  },
  {
   "cell_type": "code",
   "execution_count": 4,
   "metadata": {
    "collapsed": true
   },
   "outputs": [],
   "source": [
    "user_data.to_csv('Datasets\\\\data_filtered.csv', index=False)\n",
    "user_diads.to_csv('Datasets\\\\fb_friendship_filtered_all.csv', index=False)"
   ]
  },
  {
   "cell_type": "markdown",
   "metadata": {},
   "source": [
    "# Converting to GraphML"
   ]
  },
  {
   "cell_type": "code",
   "execution_count": 78,
   "metadata": {
    "collapsed": false
   },
   "outputs": [],
   "source": [
    "graphml = ET.Element('graphml')\n",
    "graphml.set('xmlns', 'http://graphml.graphdrawing.org/xmlns')\n",
    "graphml.set('xmlns:xsi', 'http://www.w3.org/2001/XMLSchema-instance')\n",
    "graphml.set('xsi:schemaLocation', 'http://graphml.graphdrawing.org/xmlns/1.0/graphml.xsd')\n",
    "\n",
    "graph = ET.SubElement(graphml, 'graph', id='friendship_network', edgedefault='undirected')\n",
    "for user in user_data.itertuples():\n",
    "    ET.SubElement(graph, 'node', id=user.userid)\n",
    "for dyad in user_diads.itertuples():\n",
    "    ET.SubElement(graph, 'edge', id=dyad.friend1+dyad.friend2, source=dyad.friend1, target=dyad.friend2)\n",
    "\n",
    "xml = ET.ElementTree(graphml)\n",
    "xml.write('friendship_network.graphml', encoding='utf-8', xml_declaration=True)"
   ]
  },
  {
   "cell_type": "markdown",
   "metadata": {},
   "source": [
    "## GraphML example"
   ]
  },
  {
   "cell_type": "code",
   "execution_count": 47,
   "metadata": {
    "collapsed": true
   },
   "outputs": [],
   "source": [
    "#<?xml version=\"1.0\" encoding=\"UTF-8\"?>\n",
    "#<graphml xmlns=\"http://graphml.graphdrawing.org/xmlns\"  \n",
    "#    xmlns:xsi=\"http://www.w3.org/2001/XMLSchema-instance\"\n",
    "#    xsi:schemaLocation=\"http://graphml.graphdrawing.org/xmlns/1.0/graphml.xsd\">\n",
    "#  <graph id=\"G\" edgedefault=\"undirected\">\n",
    "#    <node id=\"n0\"/>\n",
    "#    <node id=\"n1\"/>\n",
    "#    <edge id=\"e1\" source=\"n0\" target=\"n1\"/>\n",
    "#  </graph>\n",
    "#</graphml>"
   ]
  }
 ],
 "metadata": {
  "kernelspec": {
   "display_name": "Python 2",
   "language": "python",
   "name": "python2"
  },
  "language_info": {
   "codemirror_mode": {
    "name": "ipython",
    "version": 2
   },
   "file_extension": ".py",
   "mimetype": "text/x-python",
   "name": "python",
   "nbconvert_exporter": "python",
   "pygments_lexer": "ipython2",
   "version": "2.7.13"
  }
 },
 "nbformat": 4,
 "nbformat_minor": 2
}
